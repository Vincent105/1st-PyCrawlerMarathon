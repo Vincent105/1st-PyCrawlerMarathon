{
 "cells": [
  {
   "cell_type": "markdown",
   "metadata": {},
   "source": [
    "# YAHOO電影爬蟲練習\n",
    "## 練習爬取電影放映資訊。必須逐步獲取電影的代號、放映地區、放映日期後，再送出查詢給伺服器。"
   ]
  },
  {
   "cell_type": "code",
   "execution_count": 2,
   "metadata": {},
   "outputs": [],
   "source": [
    "import requests\n",
    "import re\n",
    "from bs4 import BeautifulSoup"
   ]
  },
  {
   "cell_type": "markdown",
   "metadata": {},
   "source": [
    "### 先搜尋全部的電影代號(ID)資訊"
   ]
  },
  {
   "cell_type": "code",
   "execution_count": 3,
   "metadata": {},
   "outputs": [
    {
     "name": "stdout",
     "output_type": "stream",
     "text": "Movie: 特約經紀公司, ID: 10364\nMovie: 一屍到底番外篇：好萊塢大作戰！, ID: 10352\nMovie: 餓魔餐廳, ID: 10342\nMovie: 花生醬獵鷹的願望, ID: 10340\nMovie: 女孩要革命, ID: 10339\nMovie: 我的靈魂是愛做的, ID: 10336\nMovie: 絕世情歌, ID: 10328\nMovie: 人間失格：太宰治與他的3個女人, ID: 10287\nMovie: 抓狂博物館, ID: 10279\nMovie: 呆萌特務, ID: 10264\nMovie: 去年聖誕節, ID: 10256\nMovie: 野蠻遊戲：全面晉級, ID: 10134\nMovie: 布紐爾超現實人生, ID: 10334\nMovie: 夕霧花園, ID: 10327\nMovie: 寂寞診療室, ID: 10282\nMovie: 懸案密碼前傳：瓶中信, ID: 10254\nMovie: 布魯克林孤兒, ID: 10224\nMovie: 暴走曼哈頓, ID: 10044\nMovie: 鋒迴路轉, ID: 10258\nMovie: 賽道狂人, ID: 10097\nMovie: 麂皮：永不滿足, ID: 10358\nMovie: 82年生的金智英, ID: 10298\nMovie: 許怨房, ID: 10294\nMovie: BanG Dream！ FILM LIVE, ID: 10271\nMovie: 冰雪奇緣2, ID: 9597\nMovie: 催眠．裁決, ID: 10322\nMovie: 抱歉我們錯過你了, ID: 10309\nMovie: Hello World, ID: 10302\nMovie: 大餓, ID: 10296\nMovie: 萬萬沒想到, ID: 10281\nMovie: 神機有毛病, ID: 10260\nMovie: 為美好的世界獻上祝福！紅傳說, ID: 10226\nMovie: 樂園, ID: 10280\nMovie: 決戰中途島, ID: 10130\nMovie: 安眠醫生, ID: 10098\nMovie: 地久天長, ID: 9621\nMovie: 魔鬼終結者：黑暗宿命, ID: 10067\nMovie: 紫羅蘭永恆花園外傳－永遠與自動手記人偶－, ID: 10292\nMovie: 陽光普照, ID: 10240\nMovie: 傻傻愛你，傻傻愛我, ID: 10075\nMovie: 阿達一族, ID: 9992\nMovie: 狙擊獵殺：救援行動, ID: 10284\nMovie: 雙子殺手, ID: 10017\nMovie: 盲人律師, ID: 10267\nMovie: 黑魔女2, ID: 10262\nMovie: 電影版 壞傢伙們, ID: 10249\nMovie: 藍波：最後一滴血, ID: 10205\nMovie: 屍樂園：髒比雙拼, ID: 10176\nMovie: 弒婚遊戲, ID: 10171\nMovie: 108悍將, ID: 10238\nMovie: 小丑, ID: 9949\nMovie: 瞞天機密, ID: 10206\nMovie: 校外打怪教學, ID: 10200\nMovie: 信用詐欺師JP, ID: 10190\nMovie: 無間行動, ID: 10155\nMovie: 星際救援, ID: 10227\nMovie: 返校, ID: 10109\nMovie: 今天也要用便當出擊, ID: 10223\nMovie: 花椒之味, ID: 10158\nMovie: 我家有個開心農場, ID: 10145\nMovie: 好小男孩, ID: 9894\nMovie: 牠 第二章, ID: 10042\nMovie: 極限逃生, ID: 10174\nMovie: 雙面特務, ID: 10163\nMovie: 你願意嫁給我老公嗎？, ID: 10141\nMovie: 第九分局, ID: 10099\nMovie: 下半場, ID: 9807\nMovie: 全面攻佔3：天使救援, ID: 10082\nMovie: 普羅米亞, ID: 10119\nMovie: 驅魔使者, ID: 10095\nMovie: 憤怒鳥玩電影2：冰的啦, ID: 10002\nMovie: 玩命關頭：特別行動, ID: 9582\nMovie: 獅子王, ID: 9116\nMovie: 玩具總動員4, ID: 9924\nMovie: 毀滅者, ID: 9405\nMovie: 庫爾斯克號：深海救援, ID: 9134\nMovie: 厄夜追緝令, ID: 9589\nMovie: 苦兒流浪記, ID: 9538\nMovie: 活個精彩, ID: 9394\nMovie: 限時好友, ID: 9578\nMovie: 祝你忌日快樂, ID: 9568\nMovie: 艾莉塔：戰鬥天使, ID: 8553\nMovie: 馴龍高手3, ID: 8350\nMovie: 幸福綠皮書, ID: 9150\nMovie: 貝士浮生錄, ID: 6906\nMovie: 一首搖滾上月球, ID: 4887\nMovie: 錢不夠用2, ID: 3026\n"
    }
   ],
   "source": [
    "# 查看目前上映那些電影，並擷取出其ID資訊\n",
    "url = 'https://movies.yahoo.com.tw/'\n",
    "resp = requests.get(url)\n",
    "resp.encoding = 'utf-8'\n",
    "\n",
    "soup = BeautifulSoup(resp.text, 'lxml')\n",
    "html = soup.find(\"select\", attrs={'name':'movie_id'})\n",
    "movie_item = html.find_all(\"option\", attrs={'data-name':re.compile('.*')})\n",
    "\n",
    "for p in movie_item:\n",
    "    print(\"Movie: %s, ID: %s\" % (p[\"data-name\"], p[\"value\"]))"
   ]
  },
  {
   "cell_type": "markdown",
   "metadata": {},
   "source": [
    "### 指定你有興趣的電影其ID，然後查詢其放映地區資訊。"
   ]
  },
  {
   "cell_type": "code",
   "execution_count": 4,
   "metadata": {},
   "outputs": [],
   "source": [
    "# 參考前一個步驟中擷取到的ID資訊，並指定ID\n",
    "movie_id = 10364"
   ]
  },
  {
   "cell_type": "code",
   "execution_count": 5,
   "metadata": {},
   "outputs": [
    {
     "name": "stdout",
     "output_type": "stream",
     "text": "放映地區: 台北市, 代號(area_id): 28\n放映地區: 新北市, 代號(area_id): 8\n放映地區: 桃園, 代號(area_id): 16\n放映地區: 新竹, 代號(area_id): 20\n放映地區: 苗栗, 代號(area_id): 15\n放映地區: 台中, 代號(area_id): 2\n放映地區: 嘉義, 代號(area_id): 21\n放映地區: 台南, 代號(area_id): 10\n放映地區: 高雄, 代號(area_id): 17\n放映地區: 金門, 代號(area_id): 24\n放映地區: 澎湖, 代號(area_id): 23\n"
    }
   ],
   "source": [
    "url = 'https://movies.yahoo.com.tw/api/v1/areas_by_movie_theater'\n",
    "payload = {'movie_id':str(movie_id)}\n",
    "\n",
    "# 模擬一個header\n",
    "headers = {\n",
    "    'authority': 'movies.yahoo.com.tw',\n",
    "    'method': 'GET',\n",
    "    'path': '/api/v1/areas_by_movie_theater?movie_id=' + str(movie_id),\n",
    "    'scheme': 'https',\n",
    "    'accept': 'application/json, text/javascript, */*; q=0.01',\n",
    "    'accept-encoding': 'gzip, deflate, br',\n",
    "    'accept-language': 'zh-TW,zh;q=0.9,en-US;q=0.8,en;q=0.7,zh-CN;q=0.6',\n",
    "    'cookie': 'rxx=9s3x2fws06.1g16irnc&v=1; _ga=GA1.3.2056742944.1551651301; GUC=AQEBAQFczFpdm0IfmwSB&s=AQAAACoo4N5D&g=XMsVBw; BX=4hkdk1decm57t&b=3&s=mr; _ga=GA1.4.2056742944.1551651301; nexagesuid=82843256dd234e8e91aa73f2062f8218; browsed_movie=eyJpdiI6IlJXWWtiSWJaZlNGK2MxQnhscnVUYWc9PSIsInZhbHVlIjoiMXRhMmVHRXRIeUNjc1RBWDJzdGYwbnlIQURmWGsrcjJSMzhkbkcraDNJVUNIZEZsbzU3amlFcVZ1NzlmazJrTGpoMjVrbHk1YmpoRENXaHZTOUw1TmI2ZTZVWHdOejZQZm16RmVuMWlHTTJLaTZLVFZZVkFOMDlTd1wvSGltcytJIiwibWFjIjoiZWQ2ZjA4MmVjZmZlYjlmNjJmYmY2NGMyMDI0Njc0NWViYjVkOWE2NDg0N2RhODMxZjBjZDhiMmJhZTc2MDZhYiJ9; avi=eyJpdiI6Im1NeWFJRlVRWDR1endEcGRGUGJUbVE9PSIsInZhbHVlIjoickRpU3JuUytmcGl6cjF5OW0rNU9iZz09IiwibWFjIjoiY2VmY2NkNzZmM2NhNjY5YzlkOTcyNjE5OGEyMzU0NWYxOTdmMDRkMDY3OWNmMmZjOTMxYjc5MjI5N2Q5NGE5MiJ9; cmp=t=1559391030&j=0; _gid=GA1.4.779543841.1559391031; XSRF-TOKEN=eyJpdiI6IkhpS2hGcDRQaHlmWUJmaHdSS2Q2bHc9PSIsInZhbHVlIjoiOUVoNFk4OHI1UUZmUWRtYXhza0MyWjJSTlhlZ3RnT0VGeVJPN2JuczVRMGRFdWt2OUlsamVKeHRobFwvcHBGM0dhU3VyMXNGTHlsb2dVM2l0U1hpUGxBPT0iLCJtYWMiOiJkZWU4YzJhNjAxMTY3MzE4Y2ExNWIxYmE1ZjE1YWZlZTlhOTcyYjc4M2RlZGY4ZWNjZDYyMTA2NGYwZGViMzc2In0%3D; m_s=eyJpdiI6InpsZHZ2Tk1BZ0dxaHhETml1RjBnUXc9PSIsInZhbHVlIjoiSkNGeHUranRoXC85bDFiaDhySTJqNkJRcWdjWUxjeVRJSHVYZ1wvd2d4bWJZUTUrSHVDM0lUcW5KNHdETFZ4T1lieU81OUhzc1VoUXhZcWk0UDZSQXVFdz09IiwibWFjIjoiYmJkMDJkMDhlODIzMzcyMWY4M2NmYWNjNGVlOWRjMDIwZmVmNzAyMjE3Yzg3ZGY3ODBkZWEzZTI4MTI5ZWNmOSJ9; _gat=1; nexagesd=10',\n",
    "    'dnt': '1',\n",
    "    'mv-authorization': '21835b082e15b91a69b3851eec7b31b82ce82afb',\n",
    "    'referer': 'https://movies.yahoo.com.tw/',\n",
    "    'user-agent': 'Mozilla/5.0 (Windows NT 10.0; Win64; x64) AppleWebKit/537.36 (KHTML, like Gecko) Chrome/74.0.3729.169 Safari/537.36',\n",
    "    'x-requested-with': 'XMLHttpRequest',\n",
    "}\n",
    "    \n",
    "resp = requests.get(url, params=payload, headers=headers)\n",
    "#print(resp.json())  # 若有需要，列印出json原始碼\n",
    "\n",
    "# 這裡回傳的格式是JSON格式的資料，要解析JSON擷取資料\n",
    "for p in resp.json():\n",
    "    print('放映地區: {0}, 代號(area_id): {1}'.format(p['title'], p['area_id']))"
   ]
  },
  {
   "cell_type": "markdown",
   "metadata": {},
   "source": [
    "### 指定你想要觀看的放映地區，查詢有上映電影的場次日期"
   ]
  },
  {
   "cell_type": "code",
   "execution_count": 6,
   "metadata": {},
   "outputs": [],
   "source": [
    "# 指定放映地區\n",
    "area_id = 28"
   ]
  },
  {
   "cell_type": "code",
   "execution_count": 7,
   "metadata": {},
   "outputs": [
    {
     "name": "stdout",
     "output_type": "stream",
     "text": "十二月 12\n十二月 13\n十二月 14\n十二月 15\n十二月 16\n"
    }
   ],
   "source": [
    "# 向網站發送請求\n",
    "url = 'https://movies.yahoo.com.tw/movietime_result.html'\n",
    "payload = {'movie_id':str(movie_id), 'area_id':str(area_id)}\n",
    "resp = requests.get(url, params=payload)\n",
    "resp.encoding = 'utf-8'\n",
    "\n",
    "soup = BeautifulSoup(resp.text, 'lxml')\n",
    "movie_date = soup.find_all(\"label\", attrs={'for':re.compile(\"date_[\\d]\")})\n",
    "\n",
    "# 列印播放日期\n",
    "for date in movie_date:\n",
    "    print(\"%s %s\" % (date.p.string, date.h3.string))"
   ]
  },
  {
   "cell_type": "markdown",
   "metadata": {},
   "source": [
    "### 最後指定觀看的日期，查詢並列印出放映的電影院、放映類型(數位、3D、IMAX 3D...)、放映時間等資訊。"
   ]
  },
  {
   "cell_type": "code",
   "execution_count": 8,
   "metadata": {},
   "outputs": [],
   "source": [
    "# 選定要觀看的日期\n",
    "date = \"2019-12-12\""
   ]
  },
  {
   "cell_type": "code",
   "execution_count": 10,
   "metadata": {},
   "outputs": [
    {
     "name": "stdout",
     "output_type": "stream",
     "text": "l class=\"select\" for=\"72572954\">17:30</label>\n<input class=\"gabtn\" data-ga=\"['電影頁_時刻表', '電影頁_時刻表_場次', '特約經紀公司']\" data-movie_date=\"12.12\" data-movie_time=\"19:40\" data-movie_title=\"特約經紀公司\" data-movie_type=\"數位\" data-news=\"news\" id=\"72572955\" name=\"schedule_list\" type=\"radio\" value=\"2019-12-12 19:40:00\"/>\n<label class=\"select\" for=\"72572955\">19:40</label>\n<input class=\"gabtn\" data-ga=\"['電影頁_時刻表', '電影頁_時刻表_場次', '特約經紀公司']\" data-movie_date=\"12.12\" data-movie_time=\"21:50\" data-movie_title=\"特約經紀公司\" data-movie_type=\"數位\" data-news=\"news\" id=\"72572956\" name=\"schedule_list\" type=\"radio\" value=\"2019-12-12 21:50:00\"/>\n<label class=\"select\" for=\"72572956\">21:50</label>\n<input class=\"gabtn\" data-ga=\"['電影頁_時刻表', '電影頁_時刻表_場次', '特約經紀公司']\" data-movie_date=\"12.13\" data-movie_time=\"00:00\" data-movie_title=\"特約經紀公司\" data-movie_type=\"數位\" data-news=\"news\" id=\"72572957\" name=\"schedule_list\" type=\"radio\" value=\"2019-12-13 00:00:00\"/>\n<label class=\"select\" for=\"72572957\">00:00</label>\n</div>\n</li>\n</ul>\n<ul class=\"area_time _c jq_area_time\" data-theater_name=\"華威天母影城\" data-theater_schedules=\"https://movies.yahoo.com.tw/theater_result.html/id=33\" data-theater_url=\"http://www.woviecinemas.com.tw/\" id=\"theater_id_33\">\n<li class=\"adds\">\n<a href=\"https://movies.yahoo.com.tw/theater_result.html/id=33\">華威天母影城</a>\n<span>02-28763300</span>\n</li>\n<li class=\"taps\">\n<span class=\"tapR\">數位</span> </li>\n<li class=\"time _c\">\n<div class=\"input_picker jq_input_picker\">\n<input class=\"gabtn\" data-ga=\"['電影頁_時刻表', '電影頁_時刻表_場次', '特約經紀公司']\" data-movie_date=\"12.12\" data-movie_time=\"10:00\" data-movie_title=\"特約經紀公司\" data-movie_type=\"數位\" data-news=\"news\" id=\"72573020\" name=\"schedule_list\" type=\"radio\" value=\"2019-12-12 10:00:00\"/>\n<label class=\"\" for=\"72573020\">10:00</label>\n<input class=\"gabtn\" data-ga=\"['電影頁_時刻表', '電影頁_時刻表_場次', '特約經紀公司']\" data-movie_date=\"12.12\" data-movie_time=\"13:00\" data-movie_title=\"特約經紀公司\" data-movie_type=\"數位\" data-news=\"news\" id=\"72573021\" name=\"schedule_list\" type=\"radio\" value=\"2019-12-12 13:00:00\"/>\n<label class=\"\" for=\"72573021\">13:00</label>\n<input class=\"gabtn\" data-ga=\"['電影頁_時刻表', '電影頁_時刻表_場次', '特約經紀公司']\" data-movie_date=\"12.12\" data-movie_time=\"20:25\" data-movie_title=\"特約經紀公司\" data-movie_type=\"數位\" data-news=\"news\" id=\"72573022\" name=\"schedule_list\" type=\"radio\" value=\"2019-12-12 20:25:00\"/>\n<label class=\"select\" for=\"72573022\">20:25</label>\n<input class=\"gabtn\" data-ga=\"['電影頁_時刻表', '電影頁_時刻表_場次', '特約經紀公司']\" data-movie_date=\"12.12\" data-movie_time=\"23:25\" data-movie_title=\"特約經紀公司\" data-movie_type=\"數位\" data-news=\"news\" id=\"72573023\" name=\"schedule_list\" type=\"radio\" value=\"2019-12-12 23:25:00\"/>\n<label class=\"select\" for=\"72573023\">23:25</label>\n</div>\n</li>\n</ul>\n<ul class=\"area_time _c jq_area_time\" data-theater_name=\"台北in89豪華數位影城\" data-theater_schedules=\"https://movies.yahoo.com.tw/theater_result.html/id=36\" data-theater_url=\"http://www.in89.com.tw/website_module.php?website_module_classify_sn=39\" id=\"theater_id_36\">\n<li class=\"adds\">\n<a href=\"https://movies.yahoo.com.tw/theater_result.html/id=36\">台北in89豪華數位影城</a>\n<span>02-23315077</span>\n</li>\n<li class=\"taps\">\n<span class=\"tapR\">數位</span> </li>\n<li class=\"time _c\">\n<div class=\"input_picker jq_input_picker\">\n<input class=\"gabtn\" data-cinema=\"e9c365f27f4e11e494ae8b4ddf78b93a\" data-date=\"1576080000\" data-ezding=\"ezding\" data-ga=\"['電影頁_時刻表', '電影頁_時刻表_場次', '特約經紀公司']\" data-movie=\"d79394cd6a6644a88e345f0c2e700b4c\" data-movie_date=\"12.12\" data-movie_time=\"14:00\" data-movie_title=\"特約經紀公司\" data-movie_type=\"數位\" data-session=\"7caa451e3a76427494a8869084dcc160\" data-time=\"1576130400\" id=\"72553001\" name=\"schedule_list\" type=\"radio\" value=\"2019-12-12 14:00:00\"/>\n<label class=\"select\" for=\"72553001\">14:00</label>\n<input class=\"gabtn\" data-cinema=\"e9c365f27f4e11e494ae8b4ddf78b93a\" data-date=\"1576080000\" data-ezding=\"ezding\" data-ga=\"['電影頁_時刻表', '電影頁_時刻表_場次', '特約經紀公司']\" data-movie=\"d79394cd6a6644a88e345f0c2e700b4c\" data-movie_date=\"12.12\" data-movie_time=\"18:40\" data-movie_title=\"特約經紀公司\" data-movie_type=\"數位\" data-session=\"cbfe228de7954fbca77e25a28f446897\" data-time=\"1576147200\" id=\"72553002\" name=\"schedule_list\" type=\"radio\" value=\"2019-12-12 18:40:00\"/>\n<label class=\"select\" for=\"72553002\">18:40</label>\n<input class=\"gabtn\" data-cinema=\"e9c365f27f4e11e494ae8b4ddf78b93a\" data-date=\"1576080000\" data-ezding=\"ezding\" data-ga=\"['電影頁_時刻表', '電影頁_時刻表_場次', '特約經紀公司']\" data-movie=\"d79394cd6a6644a88e345f0c2e700b4c\" data-movie_date=\"12.12\" data-movie_time=\"23:25\" data-movie_title=\"特約經紀公司\" data-movie_type=\"數位\" data-session=\"34c373ba740544cfa71ffbfd7793c53f\" data-time=\"1576164300\" id=\"72553003\" name=\"schedule_list\" type=\"radio\" value=\"2019-12-12 23:25:00\"/>\n<label class=\"select\" for=\"72553003\">23:25</label>\n</div>\n</li>\n</ul>\n<ul class=\"area_time _c jq_area_time\" data-theater_name=\"喜滿客絕色影城\" data-theater_schedules=\"https://movies.yahoo.com.tw/theater_result.html/id=42\" data-theater_url=\"http://www.cinema7.com.tw/\" id=\"theater_id_42\">\n<li class=\"adds\">\n<a href=\"https://movies.yahoo.com.tw/theater_result.html/id=42\">喜滿客絕色影城</a>\n<span>02-23811339</span>\n</li>\n<li class=\"taps\">\n<span class=\"tapR\">數位</span> </li>\n<li class=\"time _c\">\n<div class=\"input_picker jq_input_picker\">\n<input class=\"gabtn\" data-cinema=\"40288eb0050f542401050f55532606b5\" data-date=\"1576080000\" data-ezding=\"ezding\" data-ga=\"['電影頁_時刻表', '電影頁_時刻表_場次', '特約經紀公司']\" data-movie=\"08730e869926479c9e25fbcea7473a0a\" data-movie_date=\"12.12\" data-movie_time=\"14:40\" data-movie_title=\"特約經紀公司\" data-movie_type=\"數位\" data-session=\"2e4b67e5545a47fdb899c9faa61c138c\" data-time=\"1576132800\" id=\"72561714\" name=\"schedule_list\" type=\"radio\" value=\"2019-12-12 14:40:00\"/>\n<label class=\"select\" for=\"72561714\">14:40</label>\n<input class=\"gabtn\" data-cinema=\"40288eb0050f542401050f55532606b5\" data-date=\"1576080000\" data-ezding=\"ezding\" data-ga=\"['電影頁_時刻表', '電影頁_時刻表_場次', '特約經紀公司']\" data-movie=\"08730e869926479c9e25fbcea7473a0a\" data-movie_date=\"12.12\" data-movie_time=\"20:50\" data-movie_title=\"特約經紀公司\" data-movie_type=\"數位\" data-session=\"9b0976b51147492994948aea7165fed0\" data-time=\"1576155000\" id=\"72561715\" name=\"schedule_list\" type=\"radio\" value=\"2019-12-12 20:50:00\"/>\n<label class=\"select\" for=\"72561715\">20:50</label>\n<input class=\"gabtn\" data-cinema=\"40288eb0050f542401050f55532606b5\" data-date=\"1576080000\" data-ezding=\"ezding\" data-ga=\"['電影頁_時刻表', '電影頁_時刻表_場次', '特約經紀公司']\" data-movie=\"08730e869926479c9e25fbcea7473a0a\" data-movie_date=\"12.12\" data-movie_time=\"23:40\" data-movie_title=\"特約經紀公司\" data-movie_type=\"數位\" data-session=\"19693b31c4014c4da547d71d68bb071a\" data-time=\"1576165200\" id=\"72561716\" name=\"schedule_list\" type=\"radio\" value=\"2019-12-12 23:40:00\"/>\n<label class=\"select\" for=\"72561716\">23:40</label>\n</div>\n</li>\n</ul>\n<ul class=\"area_time _c jq_area_time\" data-theater_name=\"台北信義威秀影城\" data-theater_schedules=\"https://movies.yahoo.com.tw/theater_result.html/id=45\" data-theater_url=\"http://www.vscinemas.com.tw/\" id=\"theater_id_45\">\n<li class=\"adds\">\n<a href=\"https://movies.yahoo.com.tw/theater_result.html/id=45\">台北信義威秀影城</a>\n<span>02-87805566</span>\n</li>\n<li class=\"taps\">\n<span class=\"tapR\">數位</span> </li>\n<li class=\"time _c\">\n<div class=\"input_picker jq_input_picker\">\n<input class=\"gabtn\" data-cinema=\"40288eb0050f542401050f554e7e0674\" data-date=\"1576080000\" data-ezding=\"ezding\" data-ga=\"['電影頁_時刻表', '電影頁_時刻表_場次', '特約經紀公司']\" data-movie=\"746c3af28624411e878958607affc44a\" data-movie_date=\"12.12\" data-movie_time=\"12:55\" data-movie_title=\"特約經紀公司\" data-movie_type=\"數位\" data-session=\"d8a32dc78fda4f65a403f1f978db4d2f\" data-time=\"1576126500\" id=\"72532688\" name=\"schedule_list\" type=\"radio\" value=\"2019-12-12 12:55:00\"/>\n<label class=\"\" for=\"72532688\">12:55</label>\n<input class=\"gabtn\" data-cinema=\"40288eb0050f542401050f554e7e0674\" data-date=\"1576080000\" data-ezding=\"ezding\" data-ga=\"['電影頁_時刻表', '電影頁_時刻表_場次', '特約經紀公司']\" data-movie=\"746c3af28624411e878958607affc44a\" data-movie_date=\"12.12\" data-movie_time=\"16:20\" data-movie_title=\"特約經紀公司\" data-movie_type=\"數位\" data-session=\"e50308e39bb4483685ae924a84b0417d\" data-time=\"1576138800\" id=\"72532689\" name=\"schedule_list\" type=\"radio\" value=\"2019-12-12 16:20:00\"/>\n<label class=\"select\" for=\"72532689\">16:20</label>\n<input class=\"gabtn\" data-cinema=\"40288eb0050f542401050f554e7e0674\" data-date=\"1576080000\" data-ezding=\"ezding\" data-ga=\"['電影頁_時刻表', '電影頁_時刻表_場次', '特約經紀公司']\" data-movie=\"746c3af28624411e878958607affc44a\" data-movie_date=\"12.12\" data-movie_time=\"19:45\" data-movie_title=\"特約經紀公司\" data-movie_type=\"數位\" data-session=\"132df770ea6f478a8e220a0eb8e3ac94\" data-time=\"1576151100\" id=\"72532690\" name=\"schedule_list\" type=\"radio\" value=\"2019-12-12 19:45:00\"/>\n<label class=\"select\" for=\"72532690\">19:45</label>\n<input class=\"gabtn\" data-cinema=\"40288eb0050f542401050f554e7e0674\" data-date=\"1576080000\" data-ezding=\"ezding\" data-ga=\"['電影頁_時刻表', '電影頁_時刻表_場次', '特約經紀公司']\" data-movie=\"746c3af28624411e878958607affc44a\" data-movie_date=\"12.13\" data-movie_time=\"00:40\" data-movie_title=\"特約經紀公司\" data-movie_type=\"數位\" data-session=\"f9556903a1584df9971477ddf04ea32d\" data-time=\"1576168800\" id=\"72532691\" name=\"schedule_list\" type=\"radio\" value=\"2019-12-13 00:40:00\"/>\n<label class=\"select\" for=\"72532691\">00:40</label>\n</div>\n</li>\n</ul>\n<ul class=\"area_time _c jq_area_time\" data-theater_name=\"哈拉影城\" data-theater_schedules=\"https://movies.yahoo.com.tw/theater_result.html/id=50\" data-theater_url=\"\" id=\"theater_id_50\">\n<li class=\"adds\">\n<a href=\"https://movies.yahoo.com.tw/theater_result.html/id=50\">哈拉影城</a>\n<span>02-26322693</span>\n</li>\n<li class=\"taps\">\n<span class=\"tapR\">數位</span> </li>\n<li class=\"time _c\">\n<div class=\"input_picker jq_input_picker\">\n<input class=\"gabtn\" data-ga=\"['電影頁_時刻表', '電影頁_時刻表_場次', '特約經紀公司']\" data-movie_date=\"12.12\" data-movie_time=\"12:30\" data-movie_title=\"特約經紀公司\" data-movie_type=\"數位\" data-news=\"news\" id=\"72572672\" name=\"schedule_list\" type=\"radio\" value=\"2019-12-12 12:30:00\"/>\n<label class=\"\" for=\"72572672\">12:30</label>\n<input class=\"gabtn\" data-ga=\"['電影頁_時刻表', '電影頁_時刻表_場次', '特約經紀公司']\" data-movie_date=\"12.12\" data-movie_time=\"18:40\" data-movie_title=\"特約經紀公司\" data-movie_type=\"數位\" data-news=\"news\" id=\"72572673\" name=\"schedule_list\" type=\"radio\" value=\"2019-12-12 18:40:00\"/>\n<label class=\"select\" for=\"72572673\">18:40</label>\n<input class=\"gabtn\" data-ga=\"['電影頁_時刻表', '電影頁_時刻表_場次', '特約經紀公司']\" data-movie_date=\"12.12\" data-movie_time=\"23:20\" data-movie_title=\"特約經紀公司\" data-movie_type=\"數位\" data-news=\"news\" id=\"72572674\" name=\"schedule_list\" type=\"radio\" value=\"2019-12-12 23:20:00\"/>\n<label class=\"select\" for=\"72572674\">23:20</label>\n</div>\n</li>\n</ul>\n<ul class=\"area_time _c jq_area_time\" data-theater_name=\"百老匯數位影城\" data-theater_schedules=\"https://movies.yahoo.com.tw/theater_result.html/id=52\" data-theater_url=\"http://www.broadway-cineplex.com.tw/index.asp\" id=\"theater_id_52\">\n<li class=\"adds\">\n<a href=\"https://movies.yahoo.com.tw/theater_result.html/id=52\">百老匯數位影城</a>\n<span>02-86636128</span>\n</li>\n<li class=\"taps\">\n<span class=\"tapR\">數位</span> </li>\n<li class=\"time _c\">\n<div class=\"input_picker jq_input_picker\">\n<input class=\"gabtn\" data-ga=\"['電影頁_時刻表', '電影頁_時刻表_場次', '特約經紀公司']\" data-movie_date=\"12.12\" data-movie_time=\"09:50\" data-movie_title=\"特約經紀公司\" data-movie_type=\"數位\" data-news=\"news\" id=\"72572766\" name=\"schedule_list\" type=\"radio\" value=\"2019-12-12 09:50:00\"/>\n<label class=\"\" for=\"72572766\">09:50</label>\n<input class=\"gabtn\" data-ga=\"['電影頁_時刻表', '電影頁_時刻表_場次', '特約經紀公司']\" data-movie_date=\"12.12\" data-movie_time=\"12:25\" data-movie_title=\"特約經紀公司\" data-movie_type=\"數位\" data-news=\"news\" id=\"72572767\" name=\"schedule_list\" type=\"radio\" value=\"2019-12-12 12:25:00\"/>\n<label class=\"\" for=\"72572767\">12:25</label>\n<input class=\"gabtn\" data-ga=\"['電影頁_時刻表', '電影頁_時刻表_場次', '特約經紀公司']\" data-movie_date=\"12.12\" data-movie_time=\"14:00\" data-movie_title=\"特約經紀公司\" data-movie_type=\"數位\" data-news=\"news\" id=\"72572768\" name=\"schedule_list\" type=\"radio\" value=\"2019-12-12 14:00:00\"/>\n<label class=\"select\" for=\"72572768\">14:00</label>\n<input class=\"gabtn\" data-ga=\"['電影頁_時刻表', '電影頁_時刻表_場次', '特約經紀公司']\" data-movie_date=\"12.12\" data-movie_time=\"18:10\" data-movie_title=\"特約經紀公司\" data-movie_type=\"數位\" data-news=\"news\" id=\"72572769\" name=\"schedule_list\" type=\"radio\" value=\"2019-12-12 18:10:00\"/>\n<label class=\"select\" for=\"72572769\">18:10</label>\n<input class=\"gabtn\" data-ga=\"['電影頁_時刻表', '電影頁_時刻表_場次', '特約經紀公司']\" data-movie_date=\"12.12\" data-movie_time=\"22:20\" data-movie_title=\"特約經紀公司\" data-movie_type=\"數位\" data-news=\"news\" id=\"72572770\" name=\"schedule_list\" type=\"radio\" value=\"2019-12-12 22:20:00\"/>\n<label class=\"select\" for=\"72572770\">22:20</label>\n<input class=\"gabtn\" data-ga=\"['電影頁_時刻表', '電影頁_時刻表_場次', '特約經紀公司']\" data-movie_date=\"12.12\" data-movie_time=\"23:35\" data-movie_title=\"特約經紀公司\" data-movie_type=\"數位\" data-news=\"news\" id=\"72572771\" name=\"schedule_list\" type=\"radio\" value=\"2019-12-12 23:35:00\"/>\n<label class=\"select\" for=\"72572771\">23:35</label>\n</div>\n</li>\n</ul>\n<ul class=\"area_time _c jq_area_time\" data-theater_name=\"東南亞秀泰影城\" data-theater_schedules=\"https://movies.yahoo.com.tw/theater_result.html/id=53\" data-theater_url=\"http://www.showtimes.com.tw/\" id=\"theater_id_53\">\n<li class=\"adds\">\n<a href=\"https://movies.yahoo.com.tw/theater_result.html/id=53\">東南亞秀泰影城</a>\n<span>02-23678999</span>\n</li>\n<li class=\"taps\">\n<span class=\"tapR\">數位</span> </li>\n<li class=\"time _c\">\n<div class=\"input_picker jq_input_picker\">\n<input class=\"gabtn\" data-ga=\"['電影頁_時刻表', '電影頁_時刻表_場次', '特約經紀公司']\" data-movie_date=\"12.12\" data-movie_time=\"12:50\" data-movie_title=\"特約經紀公司\" data-movie_type=\"數位\" data-news=\"news\" id=\"72572799\" name=\"schedule_list\" type=\"radio\" value=\"2019-12-12 12:50:00\"/>\n<label class=\"\" for=\"72572799\">12:50</label>\n<input class=\"gabtn\" data-ga=\"['電影頁_時刻表', '電影頁_時刻表_場次', '特約經紀公司']\" data-movie_date=\"12.12\" data-movie_time=\"18:00\" data-movie_title=\"特約經紀公司\" data-movie_type=\"數位\" data-news=\"news\" id=\"72572800\" name=\"schedule_list\" type=\"radio\" value=\"2019-12-12 18:00:00\"/>\n<label class=\"select\" for=\"72572800\">18:00</label>\n<input class=\"gabtn\" data-ga=\"['電影頁_時刻表', '電影頁_時刻表_場次', '特約經紀公司']\" data-movie_date=\"12.12\" data-movie_time=\"23:10\" data-movie_title=\"特約經紀公司\" data-movie_type=\"數位\" data-news=\"news\" id=\"72572801\" name=\"schedule_list\" type=\"radio\" value=\"2019-12-12 23:10:00\"/>\n<label class=\"select\" for=\"72572801\">23:10</label>\n</div>\n</li>\n</ul>\n<ul class=\"area_time _c jq_area_time\" data-theater_name=\"今日秀泰影城\" data-theater_schedules=\"https://movies.yahoo.com.tw/theater_result.html/id=112\" data-theater_url=\"http://showtimes.pixnet.net/blog\" id=\"theater_id_112\">\n<li class=\"adds\">\n<a href=\"https://movies.yahoo.com.tw/theater_result.html/id=112\">今日秀泰影城</a>\n<span>02-23751669</span>\n</li>\n<li class=\"taps\">\n<span class=\"tapR\">數位</span> </li>\n<li class=\"time _c\">\n<div class=\"input_picker jq_input_picker\">\n<input class=\"gabtn\" data-ga=\"['電影頁_時刻表', '電影頁_時刻表_場次', '特約經紀公司']\" data-movie_date=\"12.12\" data-movie_time=\"10:20\" data-movie_title=\"特約經紀公司\" data-movie_type=\"數位\" data-news=\"news\" id=\"72574517\" name=\"schedule_list\" type=\"radio\" value=\"2019-12-12 10:20:00\"/>\n<label class=\"\" for=\"72574517\">10:20</label>\n<input class=\"gabtn\" data-ga=\"['電影頁_時刻表', '電影頁_時刻表_場次', '特約經紀公司']\" data-movie_date=\"12.12\" data-movie_time=\"12:30\" data-movie_title=\"特約經紀公司\" data-movie_type=\"數位\" data-news=\"news\" id=\"72574518\" name=\"schedule_list\" type=\"radio\" value=\"2019-12-12 12:30:00\"/>\n<label class=\"\" for=\"72574518\">12:30</label>\n<input class=\"gabtn\" data-ga=\"['電影頁_時刻表', '電影頁_時刻表_場次', '特約經紀公司']\" data-movie_date=\"12.12\" data-movie_time=\"14:40\" data-movie_title=\"特約經紀公司\" data-movie_type=\"數位\" data-news=\"news\" id=\"72574519\" name=\"schedule_list\" type=\"radio\" value=\"2019-12-12 14:40:00\"/>\n<label class=\"select\" for=\"72574519\">14:40</label>\n<input class=\"gabtn\" data-ga=\"['電影頁_時刻表', '電影頁_時刻表_場次', '特約經紀公司']\" data-movie_date=\"12.12\" data-movie_time=\"16:50\" data-movie_title=\"特約經紀公司\" data-movie_type=\"數位\" data-news=\"news\" id=\"72574520\" name=\"schedule_list\" type=\"radio\" value=\"2019-12-12 16:50:00\"/>\n<label class=\"select\" for=\"72574520\">16:50</label>\n<input class=\"gabtn\" data-ga=\"['電影頁_時刻表', '電影頁_時刻表_場次', '特約經紀公司']\" data-movie_date=\"12.12\" data-movie_time=\"19:00\" data-movie_title=\"特約經紀公司\" data-movie_type=\"數位\" data-news=\"news\" id=\"72574521\" name=\"schedule_list\" type=\"radio\" value=\"2019-12-12 19:00:00\"/>\n<label class=\"select\" for=\"72574521\">19:00</label>\n<input class=\"gabtn\" data-ga=\"['電影頁_時刻表', '電影頁_時刻表_場次', '特約經紀公司']\" data-movie_date=\"12.12\" data-movie_time=\"21:10\" data-movie_title=\"特約經紀公司\" data-movie_type=\"數位\" data-news=\"news\" id=\"72574522\" name=\"schedule_list\" type=\"radio\" value=\"2019-12-12 21:10:00\"/>\n<label class=\"select\" for=\"72574522\">21:10</label>\n</div>\n</li>\n</ul>\n<ul class=\"area_time _c jq_area_time\" data-theater_name=\"京站威秀影城\" data-theater_schedules=\"https://movies.yahoo.com.tw/theater_result.html/id=118\" data-theater_url=\"http://www.vscinemas.com.tw/\" id=\"theater_id_118\">\n<li class=\"adds\">\n<a href=\"https://movies.yahoo.com.tw/theater_result.html/id=118\">京站威秀影城</a>\n<span>02-25525511</span>\n</li>\n<li class=\"taps\">\n<span class=\"tapR\">數位</span> </li>\n<li class=\"time _c\">\n<div class=\"input_picker jq_input_picker\">\n<input class=\"gabtn\" data-cinema=\"5f60dacd-45b3-102d-8d74-e400529c\" data-date=\"1576080000\" data-ezding=\"ezding\" data-ga=\"['電影頁_時刻表', '電影頁_時刻表_場次', '特約經紀公司']\" data-movie=\"256de422d82549eebcb34cb9f9b270a6\" data-movie_date=\"12.12\" data-movie_time=\"13:30\" data-movie_title=\"特約經紀公司\" data-movie_type=\"數位\" data-session=\"10b35e699e4e42eca41f655837628277\" data-time=\"1576128600\" id=\"72534460\" name=\"schedule_list\" type=\"radio\" value=\"2019-12-12 13:30:00\"/>\n<label class=\"select\" for=\"72534460\">13:30</label>\n<input class=\"gabtn\" data-cinema=\"5f60dacd-45b3-102d-8d74-e400529c\" data-date=\"1576080000\" data-ezding=\"ezding\" data-ga=\"['電影頁_時刻表', '電影頁_時刻表_場次', '特約經紀公司']\" data-movie=\"256de422d82549eebcb34cb9f9b270a6\" data-movie_date=\"12.12\" data-movie_time=\"21:30\" data-movie_title=\"特約經紀公司\" data-movie_type=\"數位\" data-session=\"749b931744724c529f66cc7b72c22918\" data-time=\"1576157400\" id=\"72534461\" name=\"schedule_list\" type=\"radio\" value=\"2019-12-12 21:30:00\"/>\n<label class=\"select\" for=\"72534461\">21:30</label>\n</div>\n</li>\n</ul>\n<ul class=\"area_time _c jq_area_time\" data-theater_name=\"喜樂時代影城南港店\" data-theater_schedules=\"https://movies.yahoo.com.tw/theater_result.html/id=186\" data-theater_url=\"http://www.centuryasia.com.tw/default.aspx\" id=\"theater_id_186\">\n<li class=\"adds\">\n<a href=\"https://movies.yahoo.com.tw/theater_result.html/id=186\">喜樂時代影城南港店</a>\n<span>02-27888185</span>\n</li>\n<li class=\"taps\">\n<span class=\"tapR\">數位</span> </li>\n<li class=\"time _c\">\n<div class=\"input_picker jq_input_picker\">\n<input class=\"gabtn\" data-cinema=\"40288eb0050f542401050f5681782dc5\" data-date=\"1576080000\" data-ezding=\"ezding\" data-ga=\"['電影頁_時刻表', '電影頁_時刻表_場次', '特約經紀公司']\" data-movie=\"3aea38535f7141c08d413b136c41fee8\" data-movie_date=\"12.12\" data-movie_time=\"15:00\" data-movie_title=\"特約經紀公司\" data-movie_type=\"數位\" data-session=\"17ddaeaa70ce4de59b0c77e6edc30113\" data-time=\"1576134000\" id=\"72538845\" name=\"schedule_list\" type=\"radio\" value=\"2019-12-12 15:00:00\"/>\n<label class=\"select\" for=\"72538845\">15:00</label>\n<input class=\"gabtn\" data-cinema=\"40288eb0050f542401050f5681782dc5\" data-date=\"1576080000\" data-ezding=\"ezding\" data-ga=\"['電影頁_時刻表', '電影頁_時刻表_場次', '特約經紀公司']\" data-movie=\"3aea38535f7141c08d413b136c41fee8\" data-movie_date=\"12.12\" data-movie_time=\"19:00\" data-movie_title=\"特約經紀公司\" data-movie_type=\"數位\" data-session=\"97b22ce79b4841bdb353031c345af76d\" data-time=\"1576148400\" id=\"72538846\" name=\"schedule_list\" type=\"radio\" value=\"2019-12-12 19:00:00\"/>\n<label class=\"select\" for=\"72538846\">19:00</label>\n<input class=\"gabtn\" data-cinema=\"40288eb0050f542401050f5681782dc5\" data-date=\"1576080000\" data-ezding=\"ezding\" data-ga=\"['電影頁_時刻表', '電影頁_時刻表_場次', '特約經紀公司']\" data-movie=\"3aea38535f7141c08d413b136c41fee8\" data-movie_date=\"12.12\" data-movie_time=\"22:45\" data-movie_title=\"特約經紀公司\" data-movie_type=\"數位\" data-session=\"cc8e18783be0485393d8eedc230344a9\" data-time=\"1576161900\" id=\"72538847\" name=\"schedule_list\" type=\"radio\" value=\"2019-12-12 22:45:00\"/>\n<label class=\"select\" for=\"72538847\">22:45</label>\n</div>\n</li>\n</ul>\n"
    }
   ],
   "source": [
    "# 向網站發送請求，獲取上映的電影院及時間資訊\n",
    "url = \"https://movies.yahoo.com.tw/ajax/pc/get_schedule_by_movie\"\n",
    "payload = {'movie_id':str(movie_id),\n",
    "           'date':date,\n",
    "           'area_id':str(area_id),\n",
    "           'theater_id':'',\n",
    "           'datetime':'',\n",
    "           'movie_type_id':''}\n",
    "\n",
    "resp = requests.get(url, params=payload)\n",
    "#print(resp.json()['view'])  # 若有需要，列印出json原始碼\n",
    "\n",
    "soup = BeautifulSoup(resp.json()['view'], 'lxml')\n",
    "html = soup.find_all(\"ul\", attrs={'data-theater_name':re.compile(\".*\")})"
   ]
  },
  {
   "cell_type": "code",
   "execution_count": 52,
   "metadata": {},
   "outputs": [
    {
     "name": "stdout",
     "output_type": "stream",
     "text": "----------------------------------------------------------------------\n電影名稱： 國賓影城(台北長春廣場)\n放映類型： 數位\n放映時間： 2019-12-12 13:20:00\n放映時間： 2019-12-12 15:30:00\n放映時間： 2019-12-12 19:40:00\n放映時間： 2019-12-12 21:45:00\n----------------------------------------------------------------------\n電影名稱： 欣欣秀泰影城\n放映類型： 數位\n放映時間： 2019-12-12 11:00:00\n放映時間： 2019-12-12 13:10:00\n放映時間： 2019-12-12 15:20:00\n放映時間： 2019-12-12 17:30:00\n放映時間： 2019-12-12 19:40:00\n放映時間： 2019-12-12 21:50:00\n放映時間： 2019-12-13 00:00:00\n----------------------------------------------------------------------\n電影名稱： 華威天母影城\n放映類型： 數位\n放映時間： 2019-12-12 10:00:00\n放映時間： 2019-12-12 13:00:00\n放映時間： 2019-12-12 20:25:00\n放映時間： 2019-12-12 23:25:00\n----------------------------------------------------------------------\n電影名稱： 台北in89豪華數位影城\n放映類型： 數位\n放映時間： 2019-12-12 14:00:00\n放映時間： 2019-12-12 18:40:00\n放映時間： 2019-12-12 23:25:00\n----------------------------------------------------------------------\n電影名稱： 喜滿客絕色影城\n放映類型： 數位\n放映時間： 2019-12-12 14:40:00\n放映時間： 2019-12-12 20:50:00\n放映時間： 2019-12-12 23:40:00\n----------------------------------------------------------------------\n電影名稱： 台北信義威秀影城\n放映類型： 數位\n放映時間： 2019-12-12 12:55:00\n放映時間： 2019-12-12 16:20:00\n放映時間： 2019-12-12 19:45:00\n放映時間： 2019-12-13 00:40:00\n----------------------------------------------------------------------\n電影名稱： 哈拉影城\n放映類型： 數位\n放映時間： 2019-12-12 12:30:00\n放映時間： 2019-12-12 18:40:00\n放映時間： 2019-12-12 23:20:00\n----------------------------------------------------------------------\n電影名稱： 百老匯數位影城\n放映類型： 數位\n放映時間： 2019-12-12 09:50:00\n放映時間： 2019-12-12 12:25:00\n放映時間： 2019-12-12 14:00:00\n放映時間： 2019-12-12 18:10:00\n放映時間： 2019-12-12 22:20:00\n放映時間： 2019-12-12 23:35:00\n----------------------------------------------------------------------\n電影名稱： 東南亞秀泰影城\n放映類型： 數位\n放映時間： 2019-12-12 12:50:00\n放映時間： 2019-12-12 18:00:00\n放映時間： 2019-12-12 23:10:00\n----------------------------------------------------------------------\n電影名稱： 今日秀泰影城\n放映類型： 數位\n放映時間： 2019-12-12 10:20:00\n放映時間： 2019-12-12 12:30:00\n放映時間： 2019-12-12 14:40:00\n放映時間： 2019-12-12 16:50:00\n放映時間： 2019-12-12 19:00:00\n放映時間： 2019-12-12 21:10:00\n----------------------------------------------------------------------\n電影名稱： 京站威秀影城\n放映類型： 數位\n放映時間： 2019-12-12 13:30:00\n放映時間： 2019-12-12 21:30:00\n----------------------------------------------------------------------\n電影名稱： 喜樂時代影城南港店\n放映類型： 數位\n放映時間： 2019-12-12 15:00:00\n放映時間： 2019-12-12 19:00:00\n放映時間： 2019-12-12 22:45:00\n"
    }
   ],
   "source": [
    "html = soup.find(\"div\", attrs={\"class\":\"area_timebox\"}).find_all(\"ul\")\n",
    "for i in html:\n",
    "  print(\"----------------------------------------------------------------------\")\n",
    "  # 戲院名稱\n",
    "  theater_name = i.find(\"li\", attrs={\"class\":\"adds\"})\n",
    "  print(\"電影名稱：\", theater_name.a.string)\n",
    "\n",
    "  # 放映名稱\n",
    "  movie_type = i.find(\"li\", attrs={\"class\":\"taps\"})\n",
    "  print(\"放映類型：\", movie_type.span.string)\n",
    "\n",
    "  # 放映時間\n",
    "  movie_times = i.find(\"li\", attrs={\"class\":\"time _c\"}).find_all(\"input\") \n",
    "  for i in movie_times:\n",
    "    print(\"放映時間：\",i['value'])"
   ]
  },
  {
   "cell_type": "code",
   "execution_count": null,
   "metadata": {},
   "outputs": [],
   "source": []
  }
 ],
 "metadata": {
  "kernelspec": {
   "display_name": "Python 3",
   "language": "python",
   "name": "python3"
  },
  "language_info": {
   "codemirror_mode": {
    "name": "ipython",
    "version": 3
   },
   "file_extension": ".py",
   "mimetype": "text/x-python",
   "name": "python",
   "nbconvert_exporter": "python",
   "pygments_lexer": "ipython3",
   "version": "3.7.4"
  }
 },
 "nbformat": 4,
 "nbformat_minor": 2
}