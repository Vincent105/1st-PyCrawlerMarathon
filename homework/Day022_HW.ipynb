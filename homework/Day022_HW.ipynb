{
 "cells": [
  {
   "cell_type": "markdown",
   "metadata": {},
   "source": [
    "# 空氣污染監測網 網路爬蟲實作練習\n",
    "\n",
    "\n",
    "* 能夠利用 selenium + BeautifulSoup 撰寫爬蟲，並存放到合適的資料結構\n"
   ]
  },
  {
   "cell_type": "markdown",
   "metadata": {},
   "source": [
    "## 作業目標\n",
    "\n",
    "根據範例 ，完成以下問題：\n",
    "\n",
    "* ① 取出 台北市士林區 2018/01 – 2018/08 的 SO2 資料\n",
    "* ② 取出 台北市士林區 2018/01 – 2018/08 的 SO2、CO 資料\n",
    "\n",
    "\n",
    "\n"
   ]
  },
  {
   "cell_type": "markdown",
   "metadata": {},
   "source": [
    "### ① 取出 台北市士林區 2018/01 – 2018/08 的 SO2 資料"
   ]
  },
  {
   "cell_type": "code",
   "execution_count": 35,
   "metadata": {},
   "outputs": [
    {
     "data": {
      "text/html": "<div>\n<style scoped>\n    .dataframe tbody tr th:only-of-type {\n        vertical-align: middle;\n    }\n\n    .dataframe tbody tr th {\n        vertical-align: top;\n    }\n\n    .dataframe thead th {\n        text-align: right;\n    }\n</style>\n<table border=\"1\" class=\"dataframe\">\n  <thead>\n    <tr style=\"text-align: right;\">\n      <th></th>\n      <th>監測項目</th>\n      <th>單位</th>\n      <th>監測日期</th>\n      <th>監測值</th>\n      <th>標註</th>\n    </tr>\n  </thead>\n  <tbody>\n    <tr>\n      <td>0</td>\n      <td>SO2</td>\n      <td>ppb</td>\n      <td>2019/01</td>\n      <td>1.80</td>\n      <td></td>\n    </tr>\n    <tr>\n      <td>1</td>\n      <td>SO2</td>\n      <td>ppb</td>\n      <td>2019/02</td>\n      <td>1.60</td>\n      <td></td>\n    </tr>\n    <tr>\n      <td>2</td>\n      <td>SO2</td>\n      <td>ppb</td>\n      <td>2019/03</td>\n      <td>1.90</td>\n      <td></td>\n    </tr>\n    <tr>\n      <td>3</td>\n      <td>SO2</td>\n      <td>ppb</td>\n      <td>2019/04</td>\n      <td>2.20</td>\n      <td></td>\n    </tr>\n    <tr>\n      <td>4</td>\n      <td>SO2</td>\n      <td>ppb</td>\n      <td>2019/05</td>\n      <td>1.70</td>\n      <td></td>\n    </tr>\n    <tr>\n      <td>...</td>\n      <td>...</td>\n      <td>...</td>\n      <td>...</td>\n      <td>...</td>\n      <td>...</td>\n    </tr>\n    <tr>\n      <td>72</td>\n      <td>NO2</td>\n      <td>ppb</td>\n      <td>2019/07</td>\n      <td>11.06</td>\n      <td></td>\n    </tr>\n    <tr>\n      <td>73</td>\n      <td>NO2</td>\n      <td>ppb</td>\n      <td>2019/08</td>\n      <td>7.73</td>\n      <td></td>\n    </tr>\n    <tr>\n      <td>74</td>\n      <td>NO2</td>\n      <td>ppb</td>\n      <td>2019/09</td>\n      <td>8.46</td>\n      <td></td>\n    </tr>\n    <tr>\n      <td>75</td>\n      <td>NO2</td>\n      <td>ppb</td>\n      <td>2019/10</td>\n      <td>7.88</td>\n      <td></td>\n    </tr>\n    <tr>\n      <td>76</td>\n      <td>NO2</td>\n      <td>ppb</td>\n      <td>2019/11</td>\n      <td>7.39</td>\n      <td></td>\n    </tr>\n  </tbody>\n</table>\n<p>77 rows × 5 columns</p>\n</div>",
      "text/plain": "   監測項目   單位     監測日期    監測值 標註\n0   SO2  ppb  2019/01   1.80   \n1   SO2  ppb  2019/02   1.60   \n2   SO2  ppb  2019/03   1.90   \n3   SO2  ppb  2019/04   2.20   \n4   SO2  ppb  2019/05   1.70   \n..  ...  ...      ...    ... ..\n72  NO2  ppb  2019/07  11.06   \n73  NO2  ppb  2019/08   7.73   \n74  NO2  ppb  2019/09   8.46   \n75  NO2  ppb  2019/10   7.88   \n76  NO2  ppb  2019/11   7.39   \n\n[77 rows x 5 columns]"
     },
     "execution_count": 35,
     "metadata": {},
     "output_type": "execute_result"
    }
   ],
   "source": [
    "from selenium import webdriver\n",
    "from selenium.webdriver.support.ui import Select\n",
    "from bs4 import BeautifulSoup\n",
    "import time\n",
    "import pandas as pd\n",
    "\n",
    "browser = webdriver.Chrome(executable_path='chromedriver\\chromedriver.exe')\n",
    "browser.get(\"http://taqm.epa.gov.tw/taqm/tw/MonthlyAverage.aspx\")\n",
    "\n",
    "selectSite = Select(browser.find_element_by_id(\"ctl05_ddlSite\"))\n",
    "selectSite.select_by_value('11')\n",
    "selectYear = Select(browser.find_element_by_id(\"ctl05_ddlYear\"))\n",
    "selectYear.select_by_value('2019')\n",
    "browser.find_element_by_id('ctl05_btnQuery').click()\n",
    "\n",
    "time.sleep(3)\n",
    "\n",
    "html_source = browser.page_source\n",
    "html_source\n",
    "\n",
    "soup = BeautifulSoup(html_source, 'html.parser')\n",
    "trs = soup.find('table', class_='TABLE_G').find_all('tr')\n",
    "\n",
    "column = trs[0]\n",
    "allRows = trs[1:-3]\n",
    "rowspan = []\n",
    "\n",
    "headers = [header.get_text() for header in column.find_all('th')]\n",
    "results = [[data.get_text() for data in row.find_all('td')] for row in allRows]\n",
    "\n",
    "for no, tr in enumerate(allRows):\n",
    "    # print(no, tr)\n",
    "    for td_no, td_data in enumerate(tr.find_all('td')):\n",
    "        # print(td_no, td_data.has_attr(\"rowspan\"), td_data)\n",
    "        if td_data.has_attr(\"rowspan\"):\n",
    "            rowspan.append((no, td_no, int(td_data[\"rowspan\"]), td_data.get_text()))\n",
    "# print(rowspan)    \n",
    "if rowspan:\n",
    "    for i in rowspan:\n",
    "        # print(i)\n",
    "        for j in range(1, i[2]):\n",
    "            # - Add value in next tr.\n",
    "            results[i[0]+j].insert(i[1], i[3])\n",
    "# print(results)\n",
    "\n",
    "df = pd.DataFrame(data=results, columns=headers)\n",
    "df\n"
   ]
  },
  {
   "cell_type": "code",
   "execution_count": 36,
   "metadata": {},
   "outputs": [
    {
     "data": {
      "text/html": "<div>\n<style scoped>\n    .dataframe tbody tr th:only-of-type {\n        vertical-align: middle;\n    }\n\n    .dataframe tbody tr th {\n        vertical-align: top;\n    }\n\n    .dataframe thead th {\n        text-align: right;\n    }\n</style>\n<table border=\"1\" class=\"dataframe\">\n  <thead>\n    <tr style=\"text-align: right;\">\n      <th></th>\n      <th>監測項目</th>\n      <th>單位</th>\n      <th>監測日期</th>\n      <th>監測值</th>\n      <th>標註</th>\n    </tr>\n  </thead>\n  <tbody>\n    <tr>\n      <td>0</td>\n      <td>SO2</td>\n      <td>ppb</td>\n      <td>2019/01</td>\n      <td>1.80</td>\n      <td></td>\n    </tr>\n    <tr>\n      <td>1</td>\n      <td>SO2</td>\n      <td>ppb</td>\n      <td>2019/02</td>\n      <td>1.60</td>\n      <td></td>\n    </tr>\n    <tr>\n      <td>2</td>\n      <td>SO2</td>\n      <td>ppb</td>\n      <td>2019/03</td>\n      <td>1.90</td>\n      <td></td>\n    </tr>\n    <tr>\n      <td>3</td>\n      <td>SO2</td>\n      <td>ppb</td>\n      <td>2019/04</td>\n      <td>2.20</td>\n      <td></td>\n    </tr>\n    <tr>\n      <td>4</td>\n      <td>SO2</td>\n      <td>ppb</td>\n      <td>2019/05</td>\n      <td>1.70</td>\n      <td></td>\n    </tr>\n    <tr>\n      <td>5</td>\n      <td>SO2</td>\n      <td>ppb</td>\n      <td>2019/06</td>\n      <td>1.90</td>\n      <td></td>\n    </tr>\n    <tr>\n      <td>6</td>\n      <td>SO2</td>\n      <td>ppb</td>\n      <td>2019/07</td>\n      <td>2.10</td>\n      <td></td>\n    </tr>\n    <tr>\n      <td>7</td>\n      <td>SO2</td>\n      <td>ppb</td>\n      <td>2019/08</td>\n      <td>2</td>\n      <td></td>\n    </tr>\n  </tbody>\n</table>\n</div>",
      "text/plain": "  監測項目   單位     監測日期   監測值 標註\n0  SO2  ppb  2019/01  1.80   \n1  SO2  ppb  2019/02  1.60   \n2  SO2  ppb  2019/03  1.90   \n3  SO2  ppb  2019/04  2.20   \n4  SO2  ppb  2019/05  1.70   \n5  SO2  ppb  2019/06  1.90   \n6  SO2  ppb  2019/07  2.10   \n7  SO2  ppb  2019/08     2   "
     },
     "execution_count": 36,
     "metadata": {},
     "output_type": "execute_result"
    }
   ],
   "source": [
    "df[:8]"
   ]
  },
  {
   "cell_type": "markdown",
   "metadata": {},
   "source": [
    "### ② 取出 台北市士林區 2018/01 – 2018/08 的 SO2、CO 資料"
   ]
  },
  {
   "cell_type": "code",
   "execution_count": 34,
   "metadata": {},
   "outputs": [
    {
     "data": {
      "text/html": "<div>\n<style scoped>\n    .dataframe tbody tr th:only-of-type {\n        vertical-align: middle;\n    }\n\n    .dataframe tbody tr th {\n        vertical-align: top;\n    }\n\n    .dataframe thead th {\n        text-align: right;\n    }\n</style>\n<table border=\"1\" class=\"dataframe\">\n  <thead>\n    <tr style=\"text-align: right;\">\n      <th></th>\n      <th>監測項目</th>\n      <th>單位</th>\n      <th>監測日期</th>\n      <th>監測值</th>\n      <th>標註</th>\n    </tr>\n  </thead>\n  <tbody>\n    <tr>\n      <td>0</td>\n      <td>SO2</td>\n      <td>ppb</td>\n      <td>2019/01</td>\n      <td>1.80</td>\n      <td></td>\n    </tr>\n    <tr>\n      <td>1</td>\n      <td>SO2</td>\n      <td>ppb</td>\n      <td>2019/02</td>\n      <td>1.60</td>\n      <td></td>\n    </tr>\n    <tr>\n      <td>2</td>\n      <td>SO2</td>\n      <td>ppb</td>\n      <td>2019/03</td>\n      <td>1.90</td>\n      <td></td>\n    </tr>\n    <tr>\n      <td>3</td>\n      <td>SO2</td>\n      <td>ppb</td>\n      <td>2019/04</td>\n      <td>2.20</td>\n      <td></td>\n    </tr>\n    <tr>\n      <td>4</td>\n      <td>SO2</td>\n      <td>ppb</td>\n      <td>2019/05</td>\n      <td>1.70</td>\n      <td></td>\n    </tr>\n    <tr>\n      <td>5</td>\n      <td>SO2</td>\n      <td>ppb</td>\n      <td>2019/06</td>\n      <td>1.90</td>\n      <td></td>\n    </tr>\n    <tr>\n      <td>6</td>\n      <td>SO2</td>\n      <td>ppb</td>\n      <td>2019/07</td>\n      <td>2.10</td>\n      <td></td>\n    </tr>\n    <tr>\n      <td>7</td>\n      <td>SO2</td>\n      <td>ppb</td>\n      <td>2019/08</td>\n      <td>2</td>\n      <td></td>\n    </tr>\n    <tr>\n      <td>11</td>\n      <td>CO</td>\n      <td>ppm</td>\n      <td>2019/01</td>\n      <td>0.40</td>\n      <td></td>\n    </tr>\n    <tr>\n      <td>12</td>\n      <td>CO</td>\n      <td>ppm</td>\n      <td>2019/02</td>\n      <td>0.43</td>\n      <td></td>\n    </tr>\n    <tr>\n      <td>13</td>\n      <td>CO</td>\n      <td>ppm</td>\n      <td>2019/03</td>\n      <td>0.40</td>\n      <td></td>\n    </tr>\n    <tr>\n      <td>14</td>\n      <td>CO</td>\n      <td>ppm</td>\n      <td>2019/04</td>\n      <td>0.41</td>\n      <td></td>\n    </tr>\n    <tr>\n      <td>15</td>\n      <td>CO</td>\n      <td>ppm</td>\n      <td>2019/05</td>\n      <td>0.32</td>\n      <td></td>\n    </tr>\n    <tr>\n      <td>16</td>\n      <td>CO</td>\n      <td>ppm</td>\n      <td>2019/06</td>\n      <td>0.35</td>\n      <td></td>\n    </tr>\n    <tr>\n      <td>17</td>\n      <td>CO</td>\n      <td>ppm</td>\n      <td>2019/07</td>\n      <td>0.28</td>\n      <td></td>\n    </tr>\n    <tr>\n      <td>18</td>\n      <td>CO</td>\n      <td>ppm</td>\n      <td>2019/08</td>\n      <td>0.21</td>\n      <td></td>\n    </tr>\n  </tbody>\n</table>\n</div>",
      "text/plain": "   監測項目   單位     監測日期   監測值 標註\n0   SO2  ppb  2019/01  1.80   \n1   SO2  ppb  2019/02  1.60   \n2   SO2  ppb  2019/03  1.90   \n3   SO2  ppb  2019/04  2.20   \n4   SO2  ppb  2019/05  1.70   \n5   SO2  ppb  2019/06  1.90   \n6   SO2  ppb  2019/07  2.10   \n7   SO2  ppb  2019/08     2   \n11   CO  ppm  2019/01  0.40   \n12   CO  ppm  2019/02  0.43   \n13   CO  ppm  2019/03  0.40   \n14   CO  ppm  2019/04  0.41   \n15   CO  ppm  2019/05  0.32   \n16   CO  ppm  2019/06  0.35   \n17   CO  ppm  2019/07  0.28   \n18   CO  ppm  2019/08  0.21   "
     },
     "execution_count": 34,
     "metadata": {},
     "output_type": "execute_result"
    }
   ],
   "source": [
    "df.loc[(df['監測項目'].isin(['SO2', 'CO'])) & (df['監測日期'].isin(['2019/01', '2019/02','2019/03','2019/04','2019/05','2019/06','2019/07','2019/08']))]\n",
    "browser.quit()"
   ]
  },
  {
   "cell_type": "code",
   "execution_count": null,
   "metadata": {},
   "outputs": [],
   "source": []
  }
 ],
 "metadata": {
  "kernelspec": {
   "display_name": "Python 3",
   "language": "python",
   "name": "python3"
  },
  "language_info": {
   "codemirror_mode": {
    "name": "ipython",
    "version": 3
   },
   "file_extension": ".py",
   "mimetype": "text/x-python",
   "name": "python",
   "nbconvert_exporter": "python",
   "pygments_lexer": "ipython3",
   "version": "3.7.4"
  }
 },
 "nbformat": 4,
 "nbformat_minor": 2
}