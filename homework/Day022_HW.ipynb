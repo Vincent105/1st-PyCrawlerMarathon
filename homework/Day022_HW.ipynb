{
 "cells": [
  {
   "cell_type": "markdown",
   "metadata": {},
   "source": [
    "# 空氣污染監測網 網路爬蟲實作練習\n",
    "\n",
    "\n",
    "* 能夠利用 selenium + BeautifulSoup 撰寫爬蟲，並存放到合適的資料結構\n"
   ]
  },
  {
   "cell_type": "markdown",
   "metadata": {},
   "source": [
    "## 作業目標\n",
    "\n",
    "根據範例 ，完成以下問題：\n",
    "\n",
    "* ① 取出 台北市士林區 2018/01 – 2018/08 的 SO2 資料\n",
    "* ② 取出 台北市士林區 2018/01 – 2018/08 的 SO2、CO 資料\n",
    "\n",
    "\n",
    "\n"
   ]
  },
  {
   "cell_type": "markdown",
   "metadata": {},
   "source": [
    "### ① 取出 台北市士林區 2018/01 – 2018/08 的 SO2 資料"
   ]
  },
  {
   "cell_type": "code",
   "execution_count": 48,
   "metadata": {},
   "outputs": [
    {
     "name": "stdout",
     "output_type": "stream",
     "text": "0 True <td class=\"no-alt\" rowspan=\"11\" style=\"white-space:nowrap;\" valign=\"top\">SO2</td>\n1 True <td class=\"no-alt\" rowspan=\"11\" valign=\"top\">ppb</td>\n2 False <td>2019/01</td>\n3 False <td>1.80</td>\n4 False <td> </td>\n0 False <td>2019/02</td>\n1 False <td>1.60</td>\n2 False <td> </td>\n0 False <td>2019/03</td>\n1 False <td>1.90</td>\n2 False <td> </td>\n0 False <td>2019/04</td>\n1 False <td>2.20</td>\n2 False <td> </td>\n0 False <td>2019/05</td>\n1 False <td>1.70</td>\n2 False <td> </td>\n0 False <td>2019/06</td>\n1 False <td>1.90</td>\n2 False <td> </td>\n0 False <td>2019/07</td>\n1 False <td>2.10</td>\n2 False <td> </td>\n0 False <td>2019/08</td>\n1 False <td>2</td>\n2 False <td> </td>\n0 False <td>2019/09</td>\n1 False <td>2</td>\n2 False <td> </td>\n0 False <td>2019/10</td>\n1 False <td>1.90</td>\n2 False <td> </td>\n0 False <td>2019/11</td>\n1 False <td>1.80</td>\n2 False <td> </td>\n0 True <td class=\"no-alt\" rowspan=\"11\" style=\"white-space:nowrap;\" valign=\"top\">CO</td>\n1 True <td class=\"no-alt\" rowspan=\"11\" valign=\"top\">ppm</td>\n2 False <td>2019/01</td>\n3 False <td>0.40</td>\n4 False <td> </td>\n0 False <td>2019/02</td>\n1 False <td>0.43</td>\n2 False <td> </td>\n0 False <td>2019/03</td>\n1 False <td>0.40</td>\n2 False <td> </td>\n0 False <td>2019/04</td>\n1 False <td>0.41</td>\n2 False <td> </td>\n0 False <td>2019/05</td>\n1 False <td>0.32</td>\n2 False <td> </td>\n0 False <td>2019/06</td>\n1 False <td>0.35</td>\n2 False <td> </td>\n0 False <td>2019/07</td>\n1 False <td>0.28</td>\n2 False <td> </td>\n0 False <td>2019/08</td>\n1 False <td>0.21</td>\n2 False <td> </td>\n0 False <td>2019/09</td>\n1 False <td>0.25</td>\n2 False <td> </td>\n0 False <td>2019/10</td>\n1 False <td>0.28</td>\n2 False <td> </td>\n0 False <td>2019/11</td>\n1 False <td>0.25</td>\n2 False <td> </td>\n0 True <td class=\"no-alt\" rowspan=\"11\" style=\"white-space:nowrap;\" valign=\"top\">O3</td>\n1 True <td class=\"no-alt\" rowspan=\"11\" valign=\"top\">ppb</td>\n2 False <td>2019/01</td>\n3 False <td>35</td>\n4 False <td> </td>\n0 False <td>2019/02</td>\n1 False <td>33.40</td>\n2 False <td> </td>\n0 False <td>2019/03</td>\n1 False <td>45.50</td>\n2 False <td> </td>\n0 False <td>2019/04</td>\n1 False <td>41.70</td>\n2 False <td> </td>\n0 False <td>2019/05</td>\n1 False <td>42.40</td>\n2 False <td> </td>\n0 False <td>2019/06</td>\n1 False <td>27.30</td>\n2 False <td> </td>\n0 False <td>2019/07</td>\n1 False <td>23.80</td>\n2 False <td> </td>\n0 False <td>2019/08</td>\n1 False <td>24.70</td>\n2 False <td> </td>\n0 False <td>2019/09</td>\n1 False <td>28.70</td>\n2 False <td> </td>\n0 False <td>2019/10</td>\n1 False <td>46.40</td>\n2 False <td> </td>\n0 False <td>2019/11</td>\n1 False <td>42.80</td>\n2 False <td> </td>\n0 True <td class=\"no-alt\" rowspan=\"11\" style=\"white-space:nowrap;\" valign=\"top\">PM10</td>\n1 True <td class=\"no-alt\" rowspan=\"11\" valign=\"top\">μg/m3</td>\n2 False <td>2019/01</td>\n3 False <td>28</td>\n4 False <td> </td>\n0 False <td>2019/02</td>\n1 False <td>29</td>\n2 False <td> </td>\n0 False <td>2019/03</td>\n1 False <td>37</td>\n2 False <td> </td>\n0 False <td>2019/04</td>\n1 False <td>36</td>\n2 False <td> </td>\n0 False <td>2019/05</td>\n1 False <td>32</td>\n2 False <td> </td>\n0 False <td>2019/06</td>\n1 False <td>25</td>\n2 False <td> </td>\n0 False <td>2019/07</td>\n1 False <td>22</td>\n2 False <td> </td>\n0 False <td>2019/08</td>\n1 False <td>17</td>\n2 False <td> </td>\n0 False <td>2019/09</td>\n1 False <td>18</td>\n2 False <td> </td>\n0 False <td>2019/10</td>\n1 False <td>29</td>\n2 False <td> </td>\n0 False <td>2019/11</td>\n1 False <td>26</td>\n2 False <td> </td>\n0 True <td class=\"no-alt\" rowspan=\"11\" style=\"white-space:nowrap;\" valign=\"top\">NOx</td>\n1 True <td class=\"no-alt\" rowspan=\"11\" valign=\"top\">ppb</td>\n2 False <td>2019/01</td>\n3 False <td>14.95</td>\n4 False <td> </td>\n0 False <td>2019/02</td>\n1 False <td>15.39</td>\n2 False <td> </td>\n0 False <td>2019/03</td>\n1 False <td>15.43</td>\n2 False <td> </td>\n0 False <td>2019/04</td>\n1 False <td>16.25</td>\n2 False <td> </td>\n0 False <td>2019/05</td>\n1 False <td>13.75</td>\n2 False <td> </td>\n0 False <td>2019/06</td>\n1 False <td>17.71</td>\n2 False <td> </td>\n0 False <td>2019/07</td>\n1 False <td>13.93</td>\n2 False <td> </td>\n0 False <td>2019/08</td>\n1 False <td>10.05</td>\n2 False <td> </td>\n0 False <td>2019/09</td>\n1 False <td>11.12</td>\n2 False <td> </td>\n0 False <td>2019/10</td>\n1 False <td>10.04</td>\n2 False <td> </td>\n0 False <td>2019/11</td>\n1 False <td>9.61</td>\n2 False <td> </td>\n0 True <td class=\"no-alt\" rowspan=\"11\" style=\"white-space:nowrap;\" valign=\"top\">NO</td>\n1 True <td class=\"no-alt\" rowspan=\"11\" valign=\"top\">ppb</td>\n2 False <td>2019/01</td>\n3 False <td>3.54</td>\n4 False <td> </td>\n0 False <td>2019/02</td>\n1 False <td>2.76</td>\n2 False <td> </td>\n0 False <td>2019/03</td>\n1 False <td>2.74</td>\n2 False <td> </td>\n0 False <td>2019/04</td>\n1 False <td>2.82</td>\n2 False <td> </td>\n0 False <td>2019/05</td>\n1 False <td>2.45</td>\n2 False <td> </td>\n0 False <td>2019/06</td>\n1 False <td>3.91</td>\n2 False <td> </td>\n0 False <td>2019/07</td>\n1 False <td>2.87</td>\n2 False <td> </td>\n0 False <td>2019/08</td>\n1 False <td>2.33</td>\n2 False <td> </td>\n0 False <td>2019/09</td>\n1 False <td>2.66</td>\n2 False <td> </td>\n0 False <td>2019/10</td>\n1 False <td>2.17</td>\n2 False <td> </td>\n0 False <td>2019/11</td>\n1 False <td>2.22</td>\n2 False <td> </td>\n0 True <td class=\"no-alt\" rowspan=\"11\" style=\"white-space:nowrap;\" valign=\"top\">NO2</td>\n1 True <td class=\"no-alt\" rowspan=\"11\" valign=\"top\">ppb</td>\n2 False <td>2019/01</td>\n3 False <td>11.42</td>\n4 False <td> </td>\n0 False <td>2019/02</td>\n1 False <td>12.63</td>\n2 False <td> </td>\n0 False <td>2019/03</td>\n1 False <td>12.69</td>\n2 False <td> </td>\n0 False <td>2019/04</td>\n1 False <td>13.43</td>\n2 False <td> </td>\n0 False <td>2019/05</td>\n1 False <td>11.30</td>\n2 False <td> </td>\n0 False <td>2019/06</td>\n1 False <td>13.81</td>\n2 False <td> </td>\n0 False <td>2019/07</td>\n1 False <td>11.06</td>\n2 False <td> </td>\n0 False <td>2019/08</td>\n1 False <td>7.73</td>\n2 False <td> </td>\n0 False <td>2019/09</td>\n1 False <td>8.46</td>\n2 False <td> </td>\n0 False <td>2019/10</td>\n1 False <td>7.88</td>\n2 False <td> </td>\n0 False <td>2019/11</td>\n1 False <td>7.39</td>\n2 False <td> </td>\n"
    },
    {
     "data": {
      "text/html": "<div>\n<style scoped>\n    .dataframe tbody tr th:only-of-type {\n        vertical-align: middle;\n    }\n\n    .dataframe tbody tr th {\n        vertical-align: top;\n    }\n\n    .dataframe thead th {\n        text-align: right;\n    }\n</style>\n<table border=\"1\" class=\"dataframe\">\n  <thead>\n    <tr style=\"text-align: right;\">\n      <th></th>\n      <th>監測項目</th>\n      <th>單位</th>\n      <th>監測日期</th>\n      <th>監測值</th>\n      <th>標註</th>\n    </tr>\n  </thead>\n  <tbody>\n    <tr>\n      <th>0</th>\n      <td>SO2</td>\n      <td>ppb</td>\n      <td>2019/01</td>\n      <td>1.80</td>\n      <td></td>\n    </tr>\n    <tr>\n      <th>1</th>\n      <td>SO2</td>\n      <td>ppb</td>\n      <td>2019/02</td>\n      <td>1.60</td>\n      <td></td>\n    </tr>\n    <tr>\n      <th>2</th>\n      <td>SO2</td>\n      <td>ppb</td>\n      <td>2019/03</td>\n      <td>1.90</td>\n      <td></td>\n    </tr>\n    <tr>\n      <th>3</th>\n      <td>SO2</td>\n      <td>ppb</td>\n      <td>2019/04</td>\n      <td>2.20</td>\n      <td></td>\n    </tr>\n    <tr>\n      <th>4</th>\n      <td>SO2</td>\n      <td>ppb</td>\n      <td>2019/05</td>\n      <td>1.70</td>\n      <td></td>\n    </tr>\n    <tr>\n      <th>...</th>\n      <td>...</td>\n      <td>...</td>\n      <td>...</td>\n      <td>...</td>\n      <td>...</td>\n    </tr>\n    <tr>\n      <th>72</th>\n      <td>NO2</td>\n      <td>ppb</td>\n      <td>2019/07</td>\n      <td>11.06</td>\n      <td></td>\n    </tr>\n    <tr>\n      <th>73</th>\n      <td>NO2</td>\n      <td>ppb</td>\n      <td>2019/08</td>\n      <td>7.73</td>\n      <td></td>\n    </tr>\n    <tr>\n      <th>74</th>\n      <td>NO2</td>\n      <td>ppb</td>\n      <td>2019/09</td>\n      <td>8.46</td>\n      <td></td>\n    </tr>\n    <tr>\n      <th>75</th>\n      <td>NO2</td>\n      <td>ppb</td>\n      <td>2019/10</td>\n      <td>7.88</td>\n      <td></td>\n    </tr>\n    <tr>\n      <th>76</th>\n      <td>NO2</td>\n      <td>ppb</td>\n      <td>2019/11</td>\n      <td>7.39</td>\n      <td></td>\n    </tr>\n  </tbody>\n</table>\n<p>77 rows × 5 columns</p>\n</div>",
      "text/plain": "   監測項目   單位     監測日期    監測值 標註\n0   SO2  ppb  2019/01   1.80   \n1   SO2  ppb  2019/02   1.60   \n2   SO2  ppb  2019/03   1.90   \n3   SO2  ppb  2019/04   2.20   \n4   SO2  ppb  2019/05   1.70   \n..  ...  ...      ...    ... ..\n72  NO2  ppb  2019/07  11.06   \n73  NO2  ppb  2019/08   7.73   \n74  NO2  ppb  2019/09   8.46   \n75  NO2  ppb  2019/10   7.88   \n76  NO2  ppb  2019/11   7.39   \n\n[77 rows x 5 columns]"
     },
     "execution_count": 48,
     "metadata": {},
     "output_type": "execute_result"
    }
   ],
   "source": [
    "from selenium import webdriver\n",
    "from selenium.webdriver.support.ui import Select\n",
    "from bs4 import BeautifulSoup\n",
    "import time\n",
    "import pandas as pd\n",
    "\n",
    "browser = webdriver.Chrome(executable_path='chromedriver\\chromedriver.exe')\n",
    "browser.get(\"http://taqm.epa.gov.tw/taqm/tw/MonthlyAverage.aspx\")\n",
    "\n",
    "selectSite = Select(browser.find_element_by_id(\"ctl05_ddlSite\"))\n",
    "selectSite.select_by_value('11')\n",
    "selectYear = Select(browser.find_element_by_id(\"ctl05_ddlYear\"))\n",
    "selectYear.select_by_value('2019')\n",
    "browser.find_element_by_id('ctl05_btnQuery').click()\n",
    "\n",
    "time.sleep(3)\n",
    "\n",
    "html_source = browser.page_source\n",
    "html_source\n",
    "\n",
    "soup = BeautifulSoup(html_source, 'html.parser')\n",
    "trs = soup.find('table', class_='TABLE_G').find_all('tr')\n",
    "\n",
    "column = trs[0]\n",
    "allRows = trs[1:-3]\n",
    "rowspan = []\n",
    "\n",
    "headers = [header.get_text() for header in column.find_all('th')]\n",
    "results = [[data.get_text() for data in row.find_all('td')] for row in allRows]\n",
    "\n",
    "for no, tr in enumerate(allRows):\n",
    "    # print(no, tr)\n",
    "    for td_no, td_data in enumerate(tr.find_all('td')):\n",
    "        # print(td_no, td_data.has_attr(\"rowspan\"), td_data)\n",
    "        if td_data.has_attr(\"rowspan\"):\n",
    "            rowspan.append((no, td_no, int(td_data[\"rowspan\"]), td_data.get_text()))\n",
    "# print(rowspan)    \n",
    "if rowspan:\n",
    "    for i in rowspan:\n",
    "        # print(i)\n",
    "        for j in range(1, i[2]):\n",
    "            # - Add value in next tr.\n",
    "            results[i[0]+j].insert(i[1], i[3])\n",
    "# print(results)\n",
    "\n",
    "df = pd.DataFrame(data=results, columns=headers)\n",
    "df\n"
   ]
  },
  {
   "cell_type": "markdown",
   "metadata": {},
   "source": [
    "### ② 取出 台北市士林區 2018/01 – 2018/08 的 SO2、CO 資料"
   ]
  },
  {
   "cell_type": "code",
   "execution_count": null,
   "metadata": {},
   "outputs": [],
   "source": [
    "'''\n",
    "Your Code\n",
    "'''"
   ]
  },
  {
   "cell_type": "code",
   "execution_count": null,
   "metadata": {},
   "outputs": [],
   "source": []
  }
 ],
 "metadata": {
  "kernelspec": {
   "display_name": "Python 3",
   "language": "python",
   "name": "python3"
  },
  "language_info": {
   "codemirror_mode": {
    "name": "ipython",
    "version": 3
   },
   "file_extension": ".py",
   "mimetype": "text/x-python",
   "name": "python",
   "nbconvert_exporter": "python",
   "pygments_lexer": "ipython3",
   "version": "3.7.5"
  }
 },
 "nbformat": 4,
 "nbformat_minor": 2
}