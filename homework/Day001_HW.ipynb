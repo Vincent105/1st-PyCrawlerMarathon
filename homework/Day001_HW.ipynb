{
 "cells": [
  {
   "cell_type": "code",
   "execution_count": null,
   "metadata": {},
   "outputs": [],
   "source": []
  },
  {
   "cell_type": "markdown",
   "metadata": {},
   "source": [
    "# 資料來源與檔案存取\n",
    "* 資料來源與取得\n",
    "* 開放資料\n",
    "* 資料儲存格式\n",
    "* Python 存取檔案"
   ]
  },
  {
   "cell_type": "markdown",
   "metadata": {},
   "source": [
    "## 作業目標\n",
    "\n",
    "* 1.（簡答題）檔案、API、爬蟲三種取得資料方式有什麼不同？\n",
    "* 2.（實作）完成一個程式，需滿足下列需求：\n",
    "    * 下載指定檔案到 Data 資料夾，存成檔名 Homework.txt\n",
    "    * 檢查 Data 資料夾是否有 Homework.txt 檔名之檔案\n",
    "    * 將「Hello World」字串覆寫到 Homework.txt 檔案\n",
    "    * 檢查 Homework.txt 檔案字數是否符合 Hello World 字數\n"
   ]
  },
  {
   "cell_type": "markdown",
   "metadata": {},
   "source": [
    "### 1.（簡答題）檔案、API、爬蟲三種取得資料方式有什麼不同？\n",
    "    * 檔案或者api通常由資料擁有者主動進行釋出。(如於官方網站提供csv或api介接方式)\n",
    "    * 資料擁有者被動所展示的資訊(如官方網站呈現相關資料)，由於併無提供檔案、API，故採用爬蟲進行剖析及擷取"
   ]
  },
  {
   "cell_type": "markdown",
   "metadata": {},
   "source": [
    "### 2.（實作）完成一個程式，需滿足下列需求：\n",
    "    * 下載指定檔案到 Data 資料夾，存成檔名 Homework.txt\n",
    "    * 檢查 Data 資料夾是否有 Homework.txt 檔名之檔案\n",
    "    * 將「Hello World」字串覆寫到 Homework.txt 檔案\n",
    "    * 檢查 Homework.txt 檔案字數是否符合 Hello World 字數\n"
   ]
  },
  {
   "source": [
    "# 導入模組或套件\n",
    "from urllib.request import urlretrieve\n",
    "import os"
   ],
   "cell_type": "code",
   "outputs": [],
   "metadata": {},
   "execution_count": 6
  },
  {
   "source": [
    "# 建立儲存資料夾、下載目標檔案、rename檔案為Homework.txt\n",
    "try:\n",
    "    os.makedirs('./Data',exist_ok=True)\n",
    "    urlretrieve('https://www.w3.org/TR/PNG/iso_8859-1.txt', './data/Homework.txt')\n",
    "    print('寫入完成!')\n",
    "except:\n",
    "    print('發生錯誤!')    "
   ],
   "cell_type": "code",
   "outputs": [
    {
     "output_type": "stream",
     "name": "stdout",
     "text": "寫入完成!\n"
    }
   ],
   "metadata": {},
   "execution_count": 7
  },
  {
   "source": [
    "# 檢查 Data 資料夾是否有 Homework.txt 檔名之檔案\n",
    "files = []\n",
    "files = os.listdir('./Data')\n",
    "\n",
    "if 'Homework.txt' in files:\n",
    "    print('[O] 檢查 Data 資料夾是否有 Homework.txt 檔名之檔案')\n",
    "else:\n",
    "    print('[X] 檢查 Data 資料夾是否有 Homework.txt 檔名之檔案')  "
   ],
   "cell_type": "code",
   "outputs": [
    {
     "output_type": "stream",
     "name": "stdout",
     "text": "[O] 檢查 Data 資料夾是否有 Homework.txt 檔名之檔案\n"
    }
   ],
   "metadata": {},
   "execution_count": 8
  },
  {
   "source": [
    "# 將「Hello World」字串覆寫到 Homework.txt 檔案。並進行讀取\n",
    "f = ''\n",
    "string='Hello World'\n",
    "\n",
    "with open('./Data/Homework.txt','w',encoding='UTF-8') as fn:\n",
    "    f = fn.write(string)\n",
    "    fn.close()\n",
    "try:\n",
    "    with open('./Data/Homework.txt','r',encoding='UTF-8') as fn:\n",
    "        f = fn.read()\n",
    "        fn.close()\n",
    "        print(f)    \n",
    "except EnvironmentError: # parent of IOError, OSError *and* WindowsError where available\n",
    "    pass "
   ],
   "cell_type": "code",
   "outputs": [
    {
     "output_type": "stream",
     "name": "stdout",
     "text": "Hello World\n"
    }
   ],
   "metadata": {},
   "execution_count": 9
  },
  {
   "source": [
    "# 檢查 Homework.txt 檔案字數是否符合 Hello World 字數\n",
    "if len('Hello World') == len(f):\n",
    "    print('[O] 檢查 Homework.txt 檔案字數是否符合 Hello World 字數')\n",
    "else:\n",
    "    print('[X] 檢查 Homework.txt 檔案字數是否符合 Hello World 字數')"
   ],
   "cell_type": "code",
   "outputs": [
    {
     "output_type": "stream",
     "name": "stdout",
     "text": "[O] 檢查 Homework.txt 檔案字數是否符合 Hello World 字數\n"
    }
   ],
   "metadata": {},
   "execution_count": 10
  },
  {
   "cell_type": "code",
   "execution_count": null,
   "metadata": {},
   "outputs": [],
   "source": []
  }
 ],
 "metadata": {
  "kernelspec": {
   "display_name": "Python 3",
   "language": "python",
   "name": "python3"
  },
  "language_info": {
   "codemirror_mode": {
    "name": "ipython",
    "version": 3
   },
   "file_extension": ".py",
   "mimetype": "text/x-python",
   "name": "python",
   "nbconvert_exporter": "python",
   "pygments_lexer": "ipython3",
   "version": "3.7.4"
  }
 },
 "nbformat": 4,
 "nbformat_minor": 2
}