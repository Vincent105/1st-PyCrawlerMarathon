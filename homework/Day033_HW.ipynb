{
 "cells": [
  {
   "cell_type": "markdown",
   "metadata": {},
   "source": [
    "# 反爬：登入授權模擬\n",
    "\n",
    "* 了解「登入權限機制」的反爬蟲機制\n",
    "* 「登入權限機制」反爬蟲的因應策略"
   ]
  },
  {
   "cell_type": "markdown",
   "metadata": {},
   "source": [
    "## 作業目標\n",
    "\n",
    "* 找一個需要登入的網站試試看，並說明思考流程\n",
    "（如果不知道要用哪個網站的話，可以試試看 https://github.com/new 網址，未登入時會被導向登入頁）\n",
    "\n"
   ]
  },
  {
   "source": [
    "import requests\n",
    "from bs4 import BeautifulSoup\n",
    "\n",
    "url = 'https://github.com/new'\n",
    "headers = {\n",
    "    'user-agent': 'Mozilla/5.0 (Windows NT 10.0; Win64; x64) AppleWebKit/537.36 (KHTML, like Gecko) Chrome/79.0.3945.117 Safari/537.36',\n",
    "    'Host': 'github.com'\n",
    "}\n",
    "cookies = {\n",
    "    '_octo': 'GH1.1.2053002201.1575261592; _ga=GA1.2.627578356.1575261593; _device_id=d6eeec379bc8e947b675734d9fd91028; tz=Asia%2FTaipei; has_recent_activity=1; _gat=1; user_session=VUFwbFKqEyOrE9ymHUCZ4lY434ioGBW2Mz2EYwU3HlRis3k2; __Host-user_session_same_site=VUFwbFKqEyOrE9ymHUCZ4lY434ioGBW2Mz2EYwU3HlRis3k2; logged_in=yes; dotcom_user=Vincent105; _gh_sess=STZVMjVYaVlvRzYyNUcyNkFnS25YL2ljbUM2aFhSOU5tdGljSEYwK3FvcGdQNnYwbHNqcDNvL01xdmJIeGNSdEUvTFczN2J3aW9ZYXZpazA5SnlZYW5ab2NHakN4eDJ0TUh1cGdkVnA4WWprNVdnOFZnQ1ZIK0tEMmxOZWtFb3dXbzdjOXRGMzNkS3lkTmFVMEtLYjVsTEJISWl1ZlJybUQzRGVNbEFWQnJzN2dDY1ErZlJLWHkxMFZ2TnppS3RrWGdNd0JwbFZ5ZlhzSktCKzV1UUoxNFRmM2lyOHQxTnMyNDExNEliMFd2RTNRMG5aTVNnU3RIckx5eHQyYnR5aDJ1K3Z0WFg3WnhzdGV3ZzZCaGVTWjFtZXdSVDhBK0svaCtKazd0ZTFZU0dEVG9qN3lrU1FZRXNxcDlvM3lXMDJmdGZZa25vYWlTdlpZKzkrVXpQaW5ZMmZmTFlUMjA0bTBZWGhPVnZTYkJ0VUo1Sk1hUE8vRFdvOFlmQmh3NU9BNnNzbXFMQmdTZkNlcWkvenNscit5RHFmSCtRZndlOTl4RkowREJqVmo4aDVHYU93dnZaV29kUmp2N09qbjdyTmxaYjJEdEo3WjRUL25VR0t2VmJUaEJ1aW5QbFFMUnRMMHlaM0x3MzJsMlFjKzMvN2tiVmNaeEU5MU53dTZIenIxNWZXY0kvc0FpczdPMFZ6OVZwM2xubDNycDVEc2QyS0l0bkwxWERTdXhOUTV5cGlMNEVBVzFZMlJYQUNoTU02cXEyWm03ZGxRY1dyMU5pM2pMbFhER01acTh1bXhzM2pORkNXK0Z3cUVzUVk5SDFQMU40cWZyemIxQjVUdnQzSnR1Y2NsM3ZPZGhlbTRHZ3pPUGhGNnJUM0xCUlVLR2s4bFVtaVZ6Z2lKYXZ2MVgxbDVub21Ud3ljNDFHTXMwcUl5UXpGUzFqL1BjTm9mb2RBV0xUTnVBTTBpdTBJRmFWWDNSaExXWEJaUVhTYnlJSTUvRG9UMklaaVlab2NaZE5xRExvSWQrYTF1U1ZGdjlBUzVDQWYzcWJoQ0lzYUpZQ3RMU2dGb3B1OGhOK2dtRUZqRGZ0WjA1clJmK3pyTmxmcnEvZjdEdFlncUZORUttdXhpUitZZnFlcGIyMklaU2hIZGU0MlExZ0xIMWd4S29DdnJnbXJJcEI3UnNnbTZldG1WVGpzU3IydWtLcmJwTWlVMkVSVHBCcjc1a051T2dDcXpoenhIZHhmRUF2SE9wZlVNUnNsNDZoRXp1KytGeDBYeDZ2bWpTdExRd1MwSll1eEg4OHhTZ0kreVhFc2I2Uk9mc0lENlNjWjVPek5kLzV2Yi8zd2pOSVU4MzlVOUwrYlFnaGJ0c0E4ZUt0Znk0T3JYRko1UER4ZklkNVdIenhmcEUvQUltOTJDVWFha2ZiSndmSzAySnpTamtVYU5vRFYwdU1FZDI3QUhlMk9KR0V1dWgveXBEMFV1MWwwNUl4WmR1TUxJY2Ivdi94OUlyR000cUpPamc3ZDNjaUxJSnVUSG1zMzR2WElOOGs1aFZmSllKNS9LL2JDMzQ0bWwwYW1VNmpzTDFwR1c2dllpSG1lbnNmcFNqSm5vY05BTXloU2hDbTZ2dk40MXFWenVoUnlQMUxhNkE9PS0tblZocVl6M0pkMGd6NDY0b3FuOURndz09--e9ec3e4735bf8819ffdfc704b6818e2fef665d20'\n",
    "}\n",
    "\n",
    "res = requests.get(url, verify=False, headers=headers, cookies=cookies)\n",
    "soup = BeautifulSoup(res.text, 'html.parser')\n",
    "\n",
    "print(soup.text)\n",
    ""
   ],
   "cell_type": "code",
   "outputs": [
    {
     "output_type": "stream",
     "name": "stderr",
     "text": "C:\\Anaconda3\\lib\\site-packages\\urllib3\\connectionpool.py:847: InsecureRequestWarning: Unverified HTTPS request is being made. Adding certificate verification is strongly advised. See: https://urllib3.readthedocs.io/en/latest/advanced-usage.html#ssl-warnings\n  InsecureRequestWarning)\n\n\n\n\n\n\n\n\n\n\n\n\n\n\n\nCreate a New Repository\n\n\n\n\n\n\n\n\n\n\n\n\n\n\n\n\n\n\n\n\n\n\n\n\n\n\n\n\n\n\n\n\n\n\n\n\n\n\n\n\n\n\n\n\n\n\n\n\n\n\n\n\n\n\n\n\n\n\n\nSkip to content\n\n\n\n\n\n\n\n\n\n\n\n\n\n\n\n\n\n\n\n\n\n\n\n\n\n\n\n\n\n\n\n        Search\n      \n\n        All GitHub\n      \n↵\n\n\n      Jump to\n      ↵\n\n\n\n\n\n\nNo suggested jump to results\n\n\n\n\n\n\n\n\n\n\n\n\n\n\n\n        Search\n      \n\n        All GitHub\n      \n↵\n\n\n      Jump to\n      ↵\n\n\n\n\n\n\n\n\n\n\n\n\n\n\n\n        Search\n      \n\n        All GitHub\n      \n↵\n\n\n      Jump to\n      ↵\n\n\n\n\n\n\n\n\n\n \n\n\n\n    Pull requests\n\n\n    Issues\n\n\n\n        Marketplace\n\n\n\n    Explore\n\n\n\n\n\n\n\n\n\n\n\n\n \n\n\n\n  New repository\n\n\n    Import repository\n  \n\n  New gist\n\n\n    New organization\n  \n\n    New project\n  \n\n\n\n\n\n\n\n\n\n\n\nSigned in as Vincent105\n\n\n\n\n\n\n\n\n\n\n\n\n\nSet status\n\n\n\n\n\n\n\n\n\n\nEdit status\n\n\n\n\n\n\n\n\n\n\n\n\n\n\n\n\n\n\nCould not update your status, please try again.\n\n\n              80 remaining\n            \n\n\n\n\nSuggestions:\n\n\n\n\n🌴\n\n\n                          On vacation\n                        \n\n\n\n🤒\n\n\n                          Out sick\n                        \n\n\n\n\n\n🏠\n\n\n                          Working from home\n                        \n\n\n\n🎯\n\n\n                          Focusing\n                        \n\n\n\n\n\n\n\n\n                  Busy\n                \n\n                  When others mention you, assign you, or request your review,\n                  GitHub will let them know that you have limited availability.\n                \n\n\n\n\n\n    Clear status\n  \n\n\n\n        Never\n      \n\n\n\n\n\nNever\nKeep this status until you clear your status or edit your status.\n\n\n\n\n\n            in 30 minutes\n          \n\n\n\n            in 1 hour\n          \n\n\n\n            in 4 hours\n          \n\n\n\n            today\n          \n\n\n\n            this week\n          \n\n\n\n\n\n\n\n\n\n            Set status\n          \n\n            Clear status\n          \n\n \n\n\n\n\nYour profile\nYour repositories\nYour projects\nYour stars\nYour gists\n\n\n\n    Feature preview\n  \n\n\nHelp\nSettings\n\n\n        Sign out\n      \n\n\n\n \n\n\n\n\n\n\n\n\n\n\n\n\nCreate a new repository\n\n      A repository contains all project files, including the revision history.\n\n        Already have a project repository elsewhere? Import a repository.\n\n\n\n\nOwner\n\n\n\n\n    Vincent105\n  \n\n\n\n\n\n\n\n\n\n\n\n      Vincent105\n    \n\n\n\n\n\n\n/\n\nRepository name\n\n\n\n\n        Great repository names are short and memorable. Need inspiration? How about\n        studious-umbrella?\n      \n\nDescription (optional)\n\n\n\n\n\n          Public\n        \n\n\n            Anyone can see this repository. You choose who can commit.\n        \n\n          You may not create public repositories by organization policy.\n        \n\n\n\n\n          Private\n        \n\n\n          You choose who can see and commit to this repository.\n        \n\n          You may not create private repositories by organization policy.\n        \n\n          Due to U.S. trade controls law restrictions, paid GitHub organization services have been restricted.\n\nFor free organization accounts, you may have access to free GitHub public repository services (such as access to GitHub Pages and public repositories used for open source projects) for personal communications only, and not for commercial purposes. The restriction also includes suspended access to private repository services and paid services (such as availability of private organizational accounts and GitHub Marketplace services).\n\nPlease read about GitHub and Trade Controls for more information.\n\n        \n\n          Due to U.S. trade controls law restrictions, your GitHub account has been restricted.\n\nThis means we have suspended access to private repository services and paid services for your account. For free individual accounts, you still have access to free GitHub public repository services (such as public repositories for open source projects and associated GitHub Pages and Gists).\n\nIf you believe your account has been flagged in error, and you are not located in or resident in a sanctioned region, please file an appeal.\n\nPlease read about GitHub and Trade Controls for more information.\n\n        \n\n          Your current plan does not support private repositories.\n            \n              Your organization's owners will need to upgrade to Team.\n            \n\n\n\n\n\n\n\n\nSkip this step if you’re importing an existing repository.\n\n\n\n\n            Initialize this repository with a README\n          \n\n            This will let you immediately clone the repository to your computer.\n          \n\n\n\n\n\nAdd .gitignore:\nNone\n\n\n\n.gitignore\n\n\n\n\n\n\n\n\n\n\n\nNone\n\n\n\n\nActionscript\n\n\n\n\nAda\n\n\n\n\nAgda\n\n\n\n\nAndroid\n\n\n\n\nAppEngine\n\n\n\n\nAppceleratorTitanium\n\n\n\n\nArchLinuxPackages\n\n\n\n\nAutotools\n\n\n\n\nC\n\n\n\n\nC++\n\n\n\n\nCFWheels\n\n\n\n\nCMake\n\n\n\n\nCUDA\n\n\n\n\nCakePHP\n\n\n\n\nChefCookbook\n\n\n\n\nClojure\n\n\n\n\nCodeIgniter\n\n\n\n\nCommonLisp\n\n\n\n\nComposer\n\n\n\n\nConcrete5\n\n\n\n\nCoq\n\n\n\n\nCraftCMS\n\n\n\n\nD\n\n\n\n\nDM\n\n\n\n\nDart\n\n\n\n\nDelphi\n\n\n\n\nDrupal\n\n\n\n\nEPiServer\n\n\n\n\nEagle\n\n\n\n\nElisp\n\n\n\n\nElixir\n\n\n\n\nElm\n\n\n\n\nErlang\n\n\n\n\nExpressionEngine\n\n\n\n\nExtJs\n\n\n\n\nFancy\n\n\n\n\nFinale\n\n\n\n\nForceDotCom\n\n\n\n\nFortran\n\n\n\n\nFuelPHP\n\n\n\n\nGWT\n\n\n\n\nGitBook\n\n\n\n\nGo\n\n\n\n\nGodot\n\n\n\n\nGradle\n\n\n\n\nGrails\n\n\n\n\nHaskell\n\n\n\n\nIGORPro\n\n\n\n\nIdris\n\n\n\n\nJENKINS_HOME\n\n\n\n\nJava\n\n\n\n\nJboss\n\n\n\n\nJekyll\n\n\n\n\nJoomla\n\n\n\n\nJulia\n\n\n\n\nKiCAD\n\n\n\n\nKohana\n\n\n\n\nKotlin\n\n\n\n\nLabVIEW\n\n\n\n\nLaravel\n\n\n\n\nLeiningen\n\n\n\n\nLemonStand\n\n\n\n\nLilypond\n\n\n\n\nLithium\n\n\n\n\nLua\n\n\n\n\nMagento\n\n\n\n\nMaven\n\n\n\n\nMercury\n\n\n\n\nMetaProgrammingSystem\n\n\n\n\nNim\n\n\n\n\nNode\n\n\n\n\nOCaml\n\n\n\n\nObjective-C\n\n\n\n\nOpa\n\n\n\n\nOracleForms\n\n\n\n\nPacker\n\n\n\n\nPerl\n\n\n\n\nPerl6\n\n\n\n\nPhalcon\n\n\n\n\nPlayFramework\n\n\n\n\nPlone\n\n\n\n\nPrestashop\n\n\n\n\nProcessing\n\n\n\n\nPureScript\n\n\n\n\nPython\n\n\n\n\nQooxdoo\n\n\n\n\nQt\n\n\n\n\nR\n\n\n\n\nROS\n\n\n\n\nRails\n\n\n\n\nRhodesRhomobile\n\n\n\n\nRuby\n\n\n\n\nRust\n\n\n\n\nSCons\n\n\n\n\nSass\n\n\n\n\nScala\n\n\n\n\nScheme\n\n\n\n\nScrivener\n\n\n\n\nSdcc\n\n\n\n\nSeamGen\n\n\n\n\nSketchUp\n\n\n\n\nSmalltalk\n\n\n\n\nSugarCRM\n\n\n\n\nSwift\n\n\n\n\nSymfony\n\n\n\n\nSymphonyCMS\n\n\n\n\nTeX\n\n\n\n\nTerraform\n\n\n\n\nTextpattern\n\n\n\n\nTurboGears2\n\n\n\n\nTypo3\n\n\n\n\nUmbraco\n\n\n\n\nUnity\n\n\n\n\nUnrealEngine\n\n\n\n\nVVVV\n\n\n\n\nVisualStudio\n\n\n\n\nWaf\n\n\n\n\nWordPress\n\n\n\n\nXojo\n\n\n\n\nYeoman\n\n\n\n\nYii\n\n\n\n\nZendFramework\n\n\n\n\nZephir\n\n\n\n\ngcov\n\n\n\n\nnanoc\n\n\n\n\nopencart\n\n\n\n\nstella\n\n\nNothing to show\n\n\n\n\n\n\n\nAdd a license:\nNone\n\n\n\n\nLicenses\n\n\n\n\n\n\n\n\n\n\n\nNone\n\n\n\n\n\n\nApache License 2.0\n\n\n\n\n\n\nGNU General Public License v3.0\n\n\n\n\n\n\nMIT License\n\n\n\n\n\n\nBSD 2-Clause \"Simplified\" License\n\n\n\n\n\n\nBSD 3-Clause \"New\" or \"Revised\" License\n\n\n\n\n\n\nCreative Commons Zero v1.0 Universal\n\n\n\n\n\n\nEclipse Public License 2.0\n\n\n\n\n\n\nGNU Affero General Public License v3.0\n\n\n\n\n\n\nGNU General Public License v2.0\n\n\n\n\n\n\nGNU Lesser General Public License v2.1\n\n\n\n\n\n\nGNU Lesser General Public License v3.0\n\n\n\n\n\n\nMozilla Public License 2.0\n\n\n\n\n\n\nThe Unlicense\n\n\n\nNothing to show\n\n\n\n\n\n\n\n\n\n\n\n\n\n\n\n\n\n\n        Create repository\n      \n\n\n\n        You don’t appear to have permission to create repositories for this organization. Sorry about that.\n      \n\n\n\n\n\n\n\n\n© 2020 GitHub, Inc.\nTerms\nPrivacy\nSecurity\nStatus\nHelp\n\n\n\n\n\nContact GitHub\nPricing\nAPI\nTraining\nBlog\nAbout\n\n\n\n\n\n\n\n\n\n\n\n    You can’t perform that action at this time.\n  \n\n\n\n\n\nYou signed in with another tab or window. Reload to refresh your session.\nYou signed out in another tab or window. Reload to refresh your session.\n\n\n\n\n\n\n\n\n\n\n\n\n\n\n\n\n\n\n\n\n"
    }
   ],
   "metadata": {},
   "execution_count": 7
  },
  {
   "cell_type": "code",
   "execution_count": null,
   "metadata": {},
   "outputs": [],
   "source": []
  }
 ],
 "metadata": {
  "kernelspec": {
   "display_name": "Python 3",
   "language": "python",
   "name": "python3"
  },
  "language_info": {
   "codemirror_mode": {
    "name": "ipython",
    "version": 3
   },
   "file_extension": ".py",
   "mimetype": "text/x-python",
   "name": "python",
   "nbconvert_exporter": "python",
   "pygments_lexer": "ipython3",
   "version": "3.7.4"
  }
 },
 "nbformat": 4,
 "nbformat_minor": 2
}