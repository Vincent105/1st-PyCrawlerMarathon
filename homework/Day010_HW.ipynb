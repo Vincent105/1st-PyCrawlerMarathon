{
 "cells": [
  {
   "cell_type": "markdown",
   "metadata": {},
   "source": [
    "# 其他工具：Grab、PyQuery\n",
    "\n",
    "\n",
    "* 利用 Grab 套件的存取 HTML 資源\n",
    "* 利用 PyQuery 套件的解析 HTML 格式\n"
   ]
  },
  {
   "cell_type": "markdown",
   "metadata": {},
   "source": [
    "## 作業目標\n",
    "\n",
    "將之前用 requests + beatifulsoup 實作的方式，改寫成 grab + pyquery，並且比較有哪些地方不同。\n",
    "\n",
    "\n",
    "\n"
   ]
  },
  {
   "cell_type": "markdown",
   "metadata": {},
   "source": [
    "## requests + BeautifulSoup\n"
   ]
  },
  {
   "cell_type": "code",
   "execution_count": 16,
   "metadata": {},
   "outputs": [
    {
     "name": "stdout",
     "output_type": "stream",
     "text": "None\n力压国安，恒大夺取中超冠军\n"
    }
   ],
   "source": [
    "import requests\n",
    "from bs4 import BeautifulSoup\n",
    "\n",
    "url = 'https://www.zhihu.com/explore'\n",
    "\n",
    "# 加上 Header 即可取回正常資料\n",
    "headers = {\n",
    "    'user-agent': 'Mozilla/5.0 (Windows NT 10.0; Win64; x64) AppleWebKit/537.36 (KHTML, like Gecko) Chrome/74.0.3729.169 Safari/537.36'\n",
    "}\n",
    "\n",
    "r = requests.get(url, headers=headers)\n",
    "r.encoding = 'utf-8'\n",
    "\n",
    "soup = BeautifulSoup(r.text.replace(r'\\u002F', '/').replace(r'\\u003C', '<').replace(r'\\u003E', '>'),'html.parser')\n",
    " \n",
    "print(soup.meta_name)      \n",
    "\n",
    "objects = soup.find('a',class_='ExploreSpecialCard-contentTitle')\n",
    "\n",
    "for object_ in objects:\n",
    "    print(objects.text)"
   ]
  },
  {
   "cell_type": "markdown",
   "metadata": {},
   "source": [
    "## Grab + PyQuery"
   ]
  },
  {
   "cell_type": "code",
   "execution_count": 4,
   "metadata": {},
   "outputs": [
    {
     "name": "stdout",
     "output_type": "stream",
     "text": "            type: \\'\\',\\n                msg: \\'\\'\\n            },\\n            servingBeaconUrl: \\'https://bs.serving-sys.com/BurstingPipe/ActivityServer.bs\\',\\n            test_id: \\'TW_Homerun_Locker_Control_phase2\\',\\n            customizedEnabled: false,\\n            trendingNowOffScreen: 0\\n        };\\n\\n        \\n\\n        YUI.namespace(\\'Env.Af.Perf\\').secondYUIUseStart = (new Date()).getTime();\\n\\n        var yuiPreloadModules = [\"type_myy\",\"type_abu_event\",\"type_abu_video\",\"type_abu_video_manager\",\"type_abu\"];\\n\\n        yuiPreloadModules = yuiPreloadModules.concat((function (appletTypes) {\\n            if (!appletTypes || appletTypes.length === 0) {\\n                return [];\\n            }\\n            var yui_modules = [],\\n            types = YMedia.Array.hash(appletTypes);\\n            YMedia.Object.each(window.Af.bootstrap, function (bootstrap, guid) {\\n                if (!types[bootstrap.applet_type]) {\\n                    return;\\n                }\\n                YMedia.Array.each([\\'models\\', \\'views\\', \\'templates\\'], function (type) {\\n                    YMedia.Object.each(bootstrap[type], function (config, name) {\\n                        if (config.yui_module) {\\n                            yui_modules.push(config.yui_module);\\n                        }\\n                    });\\n                });\\n            });\\n            return yui_modules;\\n        })([]));\\n\\n        YMedia.use(yuiPreloadModules, function (Y, NAME) {\\n            YUI.namespace(\\'Env.Af.Perf\\').secondYUIUseStop = (new Date()).getTime();\\n            var pageMessage = YUI.Env.My.settings.context.pageMessage,\\n            test_id = YUI.Env.My.settings.context.test_id,\\n            pausePerfBeacon = false,\\n            perfBeacon = {}\\n                    ,\\n        rapidConfig = rapidPageConfig.rapidConfig;\\n            if (YAHOO.i13n) {\\n                YAHOO.i13n.WEBWORKER_FILE = \\'/lib/metro/g/myy/rapidworker_1_2_0.0.38.js\\';\\n                YAHOO.i13n.SPACEID = \\'152963594\\';\\n                YAHOO.i13n.TEST_ID = \\'TW_Homerun_Locker_Control_phase2\\';\\n                \\n            }\\n            if (pageMessage.msg != \\'\\') {\\n                Y.Af.Message.show(\\'body\\', {level: pageMessage.type, content: pageMessage.msg});\\n            }\\n\\n            if (1 === 1) {\\n                Y.Lang.later(45000, null, function() {\\n                    var failedModules  = Y.all(\"#myColumns .js-applet .App-loading\");\\n                    failedModules.each(function (module) {\\n                        module.setContent(\\'Sorry! We are temporarily unable to load the content. Please refresh or try again later.\\');\\n                        module.removeClass(\\'App-loading\\');\\n                        module.addClass(\\'App-failed\\');\\n                    });\\n                });\\n            }\\n            \\n            \\n            \\n            \\n            YUI.namespace(\\'Env.Af.Perf\\').YMyAppCreateStart = (new Date()).getTime();\\n            YMedia.My.App = new Y.My.App(\\n                {                i13nConfig: {\\n                    rapid: rapidConfig,\\n                    rapidInstance: rapidPageConfig.rapidSingleInstance && YAHOO && YAHOO.i13n && YAHOO.i13n.rapidInstance || null\\n                },\\n                inlineViewer: 0,\\n                summaryView: 0,\\n                stickerTarget: null,\\n                magazineViewerEnabled: 1,\\n                viewerBlacklistDisable: 0,\\n                viewer: {\\n                    highlanderMode: \"\",\\n                    offnetDeeplink: 0,\\n                    offnetFauxdal: 0,\\n                    pageAnimation: \"zoom\",\\n                    scrollTopAmount: 0,\\n                    viewerAnimation: \"slide\",\\n                    enableVerticalVideo: 0\\n                }}\\n            );\\n            YMedia.My.App.on(\\'appletdeferload\\', function(evt){\\n                if (evt && evt.applet && evt.applet.type.indexOf(\\'wafer\\') >= 0) {\\n                    window && window.wafer && window.wafer.base._sync();\\n                }\\n            });\\n            \\n\\n            \\n        });\\n                });\\n     });\\n</script>            <!-- Comscore -->\\n                    <!-- Begin comScore Tag -->\\n\\t\\t<script>            var _comscore = _comscore || [];\\n            window.__cmp(\\'getVendorConsents\\', null, function(result, success) {\\n                 \\t\\t  var comsCoreParams = {\\n\\t\\t    c1: \"2\",\\n\\t\\t    c2: \"7241469\",\\n\\t\\t    c5: \"152963594\",\\n\\t\\t    c7: \"https://tw.yahoo.com/\",c14: \"-1\"\\n\\t\\t  };\\n                  var result = result || {};\\n                  if (typeof success === \"boolean\" && success && result.gdprApplies && result.vendorConsents) {\\n                      var COMSCORE_VENDOR_ID = 77;\\n                      comsCoreParams.cs_ucfr = result.vendorConsents[COMSCORE_VENDOR_ID] ? 1 : 0;\\n                  }\\n\\t\\t  _comscore.push(comsCoreParams);\\n\\t\\t  (function() {\\n\\t\\t    var s = document.createElement(\"script\"), el = document.getElementsByTagName(\"script\")[0]; s.async = true;\\n\\t\\t    s.src = \"https://s.yimg.com/lq/lib/3pm/cs_0.2.js\";\\n\\t\\t    el.parentNode.insertBefore(s, el);\\n\\t\\t  })();\\n            });\\t\\t</script>\\n\\t\\t<noscript>\\n\\t\\t  <img src=\"https://sb.scorecardresearch.com/p?c1=2&c2=7241469&c7=https%3A%2F%2Ftw.yahoo.com%2F&c5=152963594&cv=2.0&cj=1&c14=-1\" />\\n\\t\\t</noscript>\\n\\t\\t<!-- End comScore Tag -->\\n\\n\\n            <!-- Nielsen -->\\n            \\n\\n\\n            <!-- eStat -->\\n            \\n\\n\\n            <!-- DCM -->\\n            \\n\\n\\n            <!-- yaft -->\\n                    <script type=\"text/javascript\" src=\"https://s.yimg.com/os/yaft/yaft-0.3.27.min.js\" defer> </script>\\n<script type=\"text/javascript\" src=\"https://s.yimg.com/os/yaft/yaft-plugin-aftnoad-0.1.5.min.js\" defer> </script>\\n\\n        <script type=\"text/javascript\">\\n            \\n\\n                        function yaftPreProcess() {\\n                // collect ad load times call YAFT.triggerCustomTiming right before the AFT calculation finished\\n                var darlaAdTimings = [];\\n                var adTiming;\\n                var whiteListedAds = {\"LREC\":\"my-adsLREC-base\",\"MAST\":\"my-adsMAST\",\"LDRB\":\"my-adsLDRB\",\"UBALDRB\":\"my-adsUBALDRB\",\"TL1\":\"my-adsTL1\",\"TXTL\":\"my-adsTXTL\",\"LREC-0\":\"hl-ad-LREC-0\",\"MON-0\":\"hl-ad-MON-0\",\"MAST-0\":\"hl-ad-MAST-0\",\"LDRB-0\":\"hl-ad-LDRB-0\",\"SPL2-0\":\"hl-ad-SPL2-0\",\"SPL-0\":\"hl-ad-SPL-0\",\"LDRB-1\":\"viewer-LDRB\",\"MON-1\":\"viewer-MON\",\"LREC-1\":\"viewer-LREC\",\"LREC-2\":\"viewer-LREC2\"};\\n                var w = window;\\n                var aft2StartRender = w.YAFT.AFT2.getAFT2StartRender() - 800;\\n                if (typeof w._adLT !== \\'undefined\\' && w.performance && w.performance.now) {\\n                    for (var i = 0; i < w._adLT.length; i++) {\\n                        adTiming = w._adLT[i];\\n                        var adIdAction = adTiming[0];\\n                        var adTime = adTiming[1];\\n                        var adAction = adIdAction.indexOf(\\'ADSTART_\\') > -1 ? \\'start\\' : \\'end\\';\\n                        var adId = \\'\\';\\n\\n                        if (adAction === \\'start\\') {\\n                            adId = adIdAction.replace(\\'ADSTART_\\', \\'\\');\\n                            darlaAdTimings[adId] = {\\n                                started: adTime,\\n                                loaded: 0\\n                            };\\n                        } else {\\n                            adId = adIdAction.replace(\\'ADEND_\\', \\'\\');\\n                            if (typeof darlaAdTimings[adId] !== \\'undefined\\') {\\n                                darlaAdTimings[adId].loaded = adTime;\\n                            }\\n                        }\\n                    }\\n\\n                    for (var adObj in darlaAdTimings) {\\n                        if (darlaAdTimings.hasOwnProperty(adObj) && typeof whiteListedAds[adObj] !== undefined) {\\n                            var adStartTime = darlaAdTimings[adObj].started;\\n                            var adLoadTime = darlaAdTimings[adObj].loaded || w.performance.now();\\n                            if (aft2StartRender > adStartTime) {continue;}\\n                            w.YAFT.triggerCustomTiming(whiteListedAds[adObj], adStartTime, adLoadTime);\\n                        }\\n                    }\\n                }\\n\\n                // calculate custom video timing\\n                if (typeof w._videoLT !== \\'undefined\\' && w.YAFT && w.YAFT.isInitialized() && w.performance && typeof w.performance.now === \\'function\\') {\\n                    Object.getOwnPropertyNames(window._videoLT).forEach(function(key) {\\n                        w.YAFT.triggerCustomTiming(key, window._videoLT[key].startTime, window._videoLT[key].loadTime || w.performance.now());\\n                    });\\n                }\\n            }\\n\\n            function yaftInit(e) {\\n                if (window.YAFT !== undefined) {\\n                    var __yaftConfig = {\\n                        modules: [\"applet_p_40769040\",\"UH\",\"applet_p_1468442\",\"applet_p_50000183\",\"my-adsFPL\",\"my-adsFPAD\",\"my-adsFPR\",\"my-adsFPT\"],\\n                        modulesExclude: [\"my-adsMAST-base\"],\\n                        canShowVisualReport: false,\\n                        useNormalizeCoverage: true,\\n                        includeOnlyAft2: false,\\n                        useNativeStartRender : true,\\n                        useNativeStartRenderMeaningful : true,\\n                        customReportModules: [],\\n                        \\n                        maxWaitTime: 6000,\\n                        preProcess: yaftPreProcess,\\n                        preferDataModNameOverId: false\\n                    };\\n                    __yaftConfig.plugins = [];\\n                    \\n                    \\n                    window.YAFT.init(__yaftConfig, function(data, error) {\\n                        var i;\\n                        if (!error) {\\n                            try {\\n                                        var rapidInstance = YAHOO.i13n.rapidInstance ? YAHOO.i13n.rapidInstance : (YMedia.My && YMedia.My.App && YMedia.My.App.getRapidTracker) ? YMedia.My.App.getRapidTracker() : null;\\n        if(rapidInstance) {\\n            var initialPageLoad = {\\n                AFT: Math.round(data.aft),\\n                AFT1: Math.round(data.aft),\\n                STR: Math.round(data.startRender),\\n                VIC: data.visuallyComplete,\\n                PLT: data.pageLoadTime,\\n                DOMC: data.domElementsCount,\\n                HTTPC: data.httpRequests.count,\\n                CP: Math.round(data.totalCoveragePercentage),\\n                NCP: Math.round(data.normTotalCoveragePercentage)\\n            };\\n\\n            if(data.aftNoAd) {\\n                initialPageLoad.AFTNOAD = Math.round(data.aftNoAd);\\n            }\\n\\n            var customPerfData = {},\\n                pagePerfData = {},\\n                results = [];\\n\\n            var yaftResults = [0], yaftModule = \\'\\', yaftIndex = \\'\\';\\n            // Find costly resource time\\n            for (yaftModule in data.modulesReport) {\\n                for (yaftIndex in data.modulesReport[yaftModule].resources) {\\n                    yaftResults.push(Math.round(data.modulesReport[yaftModule].resources[yaftIndex].durationFromNStart));\\n                }\\n            }\\n            pagePerfData[\\'COSTLY_RESOURCE\\'] = Math.max.apply(null, yaftResults);\\n            pagePerfData[\\'X_FB1\\'] = 19;\\n            pagePerfData[\\'X_FBN\\'] = 56;\\n\\n            // Log ad perf data to rapid perf metric\\n            if (window.FPAD_rendered) {\\n                pagePerfData[\\'xAFT\\'] = data.aft;\\n                pagePerfData[\\'xPLT\\'] = data.pageLoadTime;\\n                if (window.rtFpadAdStart) {\\n                    pagePerfData[\\'ADSTART_FPAD\\'] = Math.round(window.rtFpadAdStart);\\n                    if (window.rtAdStart) {\\n                         pagePerfData[\\'ADCSTART_FPAD\\'] = Math.round(window.rtAdStart);\\n                    }\\n                    var adEndTime = window.rtAdDone ? window.rtAdDone : (window.performance && window.performance.now && window.performance.now());\\n                    pagePerfData[\\'ADEND_FPAD\\'] = Math.round(adEndTime);\\n                }\\n            }\\n\\n            // Track ad metrics\\n            if ( window._adLT) {\\n                for (var i = 0; i< _adLT.length; i++) {\\n                    pagePerfData[_adLT[i][0]]  = _adLT[i][1];\\n                }\\n            }\\n\\n            // Track video metrics\\n            if (window._videoLT) {\\n                Object.getOwnPropertyNames(window._videoLT).forEach(function(key, index) {\\n                    var videoStartKey = \\'VIDEO_\\' + (index + 1) + \\'_START\\';\\n                    var videoEndKey = \\'VIDEO_\\' + (index + 1) + \\'_END\\';\\n                    pagePerfData[videoStartKey] = Math.round(window._videoLT[key].startTime);\\n                    pagePerfData[videoEndKey] = Math.round(window._videoLT[key].loadTime || 99999);\\n                });\\n            }\\n            \\n\\n            // Track user connection type\\n            var navConnection = navigator && (navigator.connection || navigator.mozConnection || navigator.webkitConnection) || {};\\n            pagePerfData[\\'CONNECTION_TYPE\\'] = navConnection.effectiveType || \\'unknown\\';\\n\\n            customPerfData[\\'utm\\'] = pagePerfData;\\n            var perfData = {\\n                perf_commontime: {initialPageLoad: initialPageLoad},\\n                perf_usertime: customPerfData\\n            };\\n            rapidInstance.beaconPerformanceData(perfData);\\n        }\\n                            } catch (e) {}\\n                        }\\n                   });\\n                }\\n            }\\n            if (window.addEventListener) {\\n                window.addEventListener(\\'DOMContentLoaded\\', yaftInit, false);\\n                var _yaftScrollingTimer,\\n    _yaftIsScrolling = false,\\n    _yaftIsDone = false,\\n    _yaftMaxScroll = 5,\\n    _yaftScrollingTimerDelay = 66,\\n    _yaftScrollCounter = 1,\\n    YMedia = YMedia || null,\\n    rapidInstance = (YAHOO && YAHOO.i13n && YAHOO.i13n.rapidInstance) || (YMedia && YMedia.My && YMedia.My.App && YMedia.My.App.getRapidTracker && YMedia.My.App.getRapidTracker()) || null;\\n\\n// Listen for scroll events\\nwindow.addEventListener(\\'scroll\\', function ( event ) {\\n    if (_yaftScrollCounter > _yaftMaxScroll) {\\n        return;\\n    }\\n    if (!_yaftIsScrolling) {\\n        window.YAFT.FPS.start(\\'FPSIndex\\');\\n        _yaftIsScrolling = true;\\n    }\\n    // Clear our timeout throughout the scroll\\n    window.clearTimeout(_yaftScrollingTimer);\\n\\n    // Set a timeout to run after scrolling ends\\n    _yaftScrollingTimer = setTimeout(function() {\\n        _yaftIsScrolling = false;\\n        window.YAFT.FPS.stop(\\'FPSIndex\\', function(err, data) {\\n            var payload;\\n            if (!err) {\\n                payload = {\\n                   utm: {\\n                       fps_average_index: Math.round(data.avgFps),\\n                       fps_lowest_index: Math.round(data.worse)\\n                   }\\n                };\\n                _yaftScrollCounter++;\\n                if (rapidInstance) {\\n                    rapidInstance.beaconPerformanceData({perf_usertime: payload});\\n                }\\n            }\\n        });\\n    }, _yaftScrollingTimerDelay);\\n\\n}, false);\\n            } else if (window.attachEvent) {\\n                window.attachEvent(\\'DOMContentLoaded\\', yaftInit);\\n            }\\n            \\n\\n      </script>\\n\\n\\n            <!-- dad Tracking -->\\n            \\n<script type=\"text/javascript\">\\nfunction _daTRK() {\\n    var daTrk = \\'-1\\';\\n    var daFr = 0;\\n    var cExpiry = 0;\\n        if (window.pageloadNonCollapsedAds && window.pageloadNonCollapsedAds.length > 0) {\\n        daTrk = \\'0\\';\\n        for (i=0; i<window.pageloadNonCollapsedAds.length; i++) {\\n            var daTRKDiv = document.getElementById(\"my-ads\" + pageloadNonCollapsedAds[i]);\\n            if (daTRKDiv && daTRKDiv.offsetHeight === 0) {\\n                daTrk = \\'1\\';\\n                cExpiry = 10080;\\n                break;\\n            }\\n        }\\n    } else {\\n        var daTRKDiv = document.getElementById(\"my-adsFPAD\");\\n        if (daTRKDiv ) {\\n            daTrk = \\'0\\';\\n            if (daTRKDiv.offsetHeight === 0) {\\n                cExpiry = 10080;\\n                    daTrk = \\'1\\';\\n                }\\n            }   \\n        }\\n    if (daFr || \\'1\\' === daTrk) {\\n        window.thamba = 1;\\n    }\\n\\n    YUI().use(\\'cookie\\', function(Y) {\\n\\n        function fireThambaEvent() {\\n            Y.use(\\'event\\', function(YM) {\\n                if(YM.Cookie.exists(\\'thamba\\')) {\\n                    var clientSideVal = parseInt(YM.Cookie.get(\\'thamba\\'), 10);\\n                    var serverSideVal = 0;\\n                    if(window.rapidPageConfig && \\n                        window.rapidPageConfig.rapidConfig &&\\n                        window.rapidPageConfig.rapidConfig.keys &&\\n                        window.rapidPageConfig.rapidConfig.keys.abk) {\\n                        var value = window.rapidPageConfig.rapidConfig.keys.abk;\\n\\n                        switch(value) {\\n                            case \\'abp\\':\\n                                serverSideVal = 2;\\n                                break;\\n                            case \\'other\\':\\n                                serverSideVal = 1;\\n                                break;\\n                        }\\n                    }\\n\\n                    if(0 === serverSideVal && clientSideVal > serverSideVal) {\\n                        YM.Global.fire(\\'thamba:value-change\\', {\"clientVal\": clientSideVal, \"serverVal\": serverSideVal});\\n                    }\\n                }\\n            });\\n        }\\n\\n        var expires = new Date();\\n        expires.setMinutes(expires.getMinutes() + cExpiry);\\n        Y.Cookie.set(\\'thamba\\', daTrk, {expires: expires, domain: location.hostname});\\n        if (typeof window.thamba != \\'undefined\\') {\\n                    var DPba=new function(){this.detect=function(px,callback){var detected=false;var checksRemain=2;var error1=false;var error2=false;if(typeof callback!=\"function\")return;px+=\"?ch=*&rn=*\";function beforeCheck(callback,timeout){if(checksRemain==0|| timeout>1E3)callback(checksRemain==0&&detected);else setTimeout(function(){beforeCheck(callback,timeout*2)},timeout*2)}function checkImages(){if(--checksRemain)return;detected=!error1&&error2}var random=Math.random()*11;var img1=new Image;img1.onload=checkImages;img1.onerror=function(){error1=true;checkImages()};img1.src=px.replace(/\\\\*/,1).replace(/\\\\*/,random);var img2=new Image;img2.onload=checkImages;img2.onerror=function(){error2=true;checkImages()};img2.src=px.replace(/\\\\*/,2).replace(/\\\\*/,random);beforeCheck(callback,250)}}; \\n        DPba.detect(\"/px.gif\", function(usesABP) {\\n            if (usesABP) {\\n                var expires = new Date();\\n                expires.setMinutes(expires.getMinutes() + 10080);\\n                Y.Cookie.set(\\'thamba\\', \\'2\\', {expires: expires, domain: location.hostname});\\n                fireThambaEvent();\\n            }\\n        });\\n        } else {\\n            fireThambaEvent();\\n        }\\n    });\\n}\\n\\nYUI().use(\\'node\\',\\'event-base\\', function (Y) {\\n    Y.on (\\'domready\\', function () {\\n        setTimeout(function() {window._daTRK()}, 300);\\n    });\\n});\\n\\n</script>\\n\\n\\n            <!-- Adobe Tracking -->\\n            \\n\\n\\n            <!-- Via https/1.1 media-router-fp1003.prod.media.tp2.yahoo.com[05638b68-90b6-489b-a79f-6e2a9591f15f] (YahooTrafficServer), http/1.1 media-router-omega23.prod.media.tp2.yahoo.com[dbc45a82-9bfc-4dc1-8d42-2b821f3ceddb] (YahooTrafficServer) -->\\n            <!-- sid=152963594 -->\\n            \\n    </body>\\n</html>\\n\\n\\n\\n<!-- arcade--production-tp2-6bf86758d8-j77zp Thu Dec  5 05:32:07 UTC 2019 -->\\n'\n旅遊專區 生活情報 省錢特區 人氣速報\n"
    }
   ],
   "source": [
    "from grab import Grab as gr\n",
    "from pyquery import PyQuery as pq\n",
    "\n",
    "url = 'https://www.yahoo.com'\n",
    "\n",
    "g = gr()\n",
    "resp = g.go(url)\n",
    "print(resp.body)\n",
    "\n",
    "doc = pq(resp.body)\n",
    "h2 = doc('h2')\n",
    "\n",
    "print(h2.text())"
   ]
  },
  {
   "cell_type": "code",
   "execution_count": null,
   "metadata": {},
   "outputs": [],
   "source": []
  }
 ],
 "metadata": {
  "kernelspec": {
   "display_name": "Python 3",
   "language": "python",
   "name": "python3"
  },
  "language_info": {
   "codemirror_mode": {
    "name": "ipython",
    "version": 3
   },
   "file_extension": ".py",
   "mimetype": "text/x-python",
   "name": "python",
   "nbconvert_exporter": "python",
   "pygments_lexer": "ipython3",
   "version": "3.7.4"
  }
 },
 "nbformat": 4,
 "nbformat_minor": 2
}