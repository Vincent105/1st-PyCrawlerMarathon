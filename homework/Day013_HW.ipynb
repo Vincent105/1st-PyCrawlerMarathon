{
 "cells": [
  {
   "cell_type": "markdown",
   "metadata": {},
   "source": [
    "# PTT 網路爬蟲實作練習\n",
    "\n",
    "\n",
    "* 能夠利用 Request + BeatifulSour 撰寫爬蟲，並存放到合適的資料結構\n"
   ]
  },
  {
   "cell_type": "markdown",
   "metadata": {},
   "source": [
    "## 作業目標\n",
    "\n",
    "根據範例 ，完成以下問題：\n",
    "\n",
    "* ① 印出最新文章的「作者」「標題」「時間」\n",
    "* ② 印出第一頁所有文章的「作者」「標題」「時間」\n"
   ]
  },
  {
   "cell_type": "markdown",
   "metadata": {},
   "source": [
    "### ① 印出最新文章的「作者」「標題」「時間」"
   ]
  },
  {
   "cell_type": "code",
   "execution_count": 25,
   "metadata": {},
   "outputs": [
    {
     "name": "stdout",
     "output_type": "stream",
     "text": "標題: [Live] 暴龍 @ 公牛\n作者:Rambo (香帥)\n時間:Tue Dec 10 08:30:11 2019\n標題: [花邊] 小牛官方短片：Mavericks Style\n作者:Aotearoa (長白雲之鄉)\n時間:Tue Dec 10 08:35:08 2019\n標題: [Live] 活塞 @ 鵜鶘\n作者:Rambo (香帥)\n時間:Tue Dec 10 08:36:23 2019\n標題: [Live] 魔術 @ 公鹿\n作者:Rambo (香帥)\n時間:Tue Dec 10 08:37:33 2019\n標題: [Live] 灰狼 @ 太陽\n作者:Rambo (香帥)\n時間:Tue Dec 10 09:30:07 2019\n標題: [Live] 雷霆 @ 爵士\n作者:Rambo (香帥)\n時間:Tue Dec 10 09:31:05 2019\n標題: [情報] 火箭與馬刺的比賽抗議被否決\n作者:stud0361411 (呆普森)\n時間:Tue Dec 10 09:47:00 2019\n標題: (本文已被刪除) [Max11]\n標題: [情報] CBA聯賽的廣廈男籃裁掉半獸人\n作者:kairiyu (E N O U G H  is  enough)\n時間:Tue Dec 10 10:11:24 2019\n標題: [公告] 板規v6.6\n標題: [公告] 樂透取消及未來不再開啟樂透\n作者:Vedan (味丹)\n時間:Mon Jun 24 15:08:02 2019\n標題: [公告] 版主上任相關事項 \n作者:qazwsx879345 (Rajon Rondo)\n時間:Fri Oct 25 10:44:03 2019\n標題: [情報] SEASON Schedule 賽程 December 19–20\n作者:JerroLi (銀色小刀)\n時間:Fri Nov 29 00:46:01 2019\n標題: [公告]是否禁止basketball top 5文章投票開始 \n作者:dragon803 (好想去露營啊~)\n時間:Sun Dec  8 23:55:00 2019\n"
    }
   ],
   "source": [
    "import requests\n",
    "from bs4 import BeautifulSoup\n",
    "\n",
    "url = 'https://www.ptt.cc/bbs/NBA/index.html'\n",
    "r = requests.get(url)\n",
    "\n",
    "soup = BeautifulSoup(r.text, \"html5lib\")\n",
    "\n",
    "for d in soup.find_all(class_=\"title\"):\n",
    "    print(\"標題:\",d.text.replace('\\t', '').replace('\\n', ''))\n",
    "    try:\n",
    "        r = BeautifulSoup(requests.get('https://www.ptt.cc'+d.find('a')['href']).text, \"html5lib\")\n",
    "        print('作者:' + r.find(class_='article-meta-value').text)\n",
    "        print('時間:' + r.find(class_='article-meta-tag',string=\"時間\").next_sibling.string)\n",
    "    except:\n",
    "        continue"
   ]
  },
  {
   "cell_type": "markdown",
   "metadata": {},
   "source": [
    "### ② 印出第一頁所有文章的「作者」「標題」「時間」"
   ]
  },
  {
   "cell_type": "code",
   "execution_count": 26,
   "metadata": {},
   "outputs": [
    {
     "name": "stdout",
     "output_type": "stream",
     "text": "標題: [轉錄]Lyotard 對於太陽板討論串的結論\n作者:Price (Price)\n時間:Sun May 16 01:54:33 2004\n標題: [公告] 請停止一切關於本次活動的發言\n作者:Price (Price)\n時間:Mon May 24 00:43:00 2004\n標題: [轉錄]跟之前那篇比起來 我覺得這篇也應該轉過來\n作者:Frankaze (神采風華)\n時間:Tue Jun  8 01:16:45 2004\n標題: [轉錄]再轉一篇好文來\n作者:Frankaze (神采風華)\n時間:Tue Jun  8 09:02:23 2004\n標題: [轉錄][情報] 夏洛特山貓系列\n作者:Price (Price)\n時間:Thu Jun 10 00:39:35 2004\n標題: [轉錄]Re: [心得] 真是受不了糗爺....\n作者:Price (Price)\n時間:Thu Jun 10 00:51:35 2004\n標題: [轉錄]總冠軍賽NO.2觀後感\n作者:Price (Price)\n時間:Thu Jun 10 12:05:07 2004\n標題: [心得] Rasheed Wallace\n作者:AmuroNamie (原來太嗨真的會失眠^___^)\n時間:Fri Jun 11 15:06:09 2004\n標題: 掌控球賽的男人\n作者:toptree (  )\n時間:Sat Jun 12 07:13:04 2004\n標題: [閒聊] 說說2004季後賽名場面回顧\n作者:skchang (3EB板開板囉！)\n時間:Sat Jun 12 13:21:49 2004\n標題: [心得] 其實說穿了 就是活塞的防守太可怕了\n作者:shineup ()\n時間:Sat Jun 12 13:12:47 2004\n標題: Re: [閒聊] 說說2004季後賽名場面回顧\n作者:cOvi (喵~)\n時間:Sat Jun 12 16:43:07 2004\n標題: Re: [閒聊] 說說2004季後賽名場面回顧\n作者:ykshih (￼N￼Ns)\n時間:Sat Jun 12 17:26:37 2004\n標題: Re: [閒聊] 說說2004季後賽名場面回顧\n作者:Frankaze (神采風華)\n時間:Sat Jun 12 18:34:46 2004\n標題: [轉錄]Re: 總冠軍賽NO.3觀後感\n作者:Price (Price)\n時間:Mon Jun 14 02:18:52 2004\n標題: [轉錄]Re: 總冠軍賽NO.3觀後感\n作者:Frankaze (神采風華)\n時間:Mon Jun 14 02:34:33 2004\n標題: Re: [轉錄]Re: 總冠軍賽NO.3觀後感\n作者:star1 (第一次魔術表演不算成功)\n時間:Mon Jun 14 07:16:30 2004\n標題: Re: [轉錄]Re: 總冠軍賽NO.3觀後感\n作者:coldspring (笑笑)\n時間:Mon Jun 14 09:24:57 2004\n標題: Re: Kobe is frustrated...\n作者:airbear (地圖)\n時間:Mon Jun 14 12:56:14 2004\n標題: Re: [轉錄]Re: 總冠軍賽NO.3觀後感\n作者:pennykidd (andre)\n時間:Mon Jun 14 22:07:01 2004\n"
    }
   ],
   "source": [
    "import requests\n",
    "from bs4 import BeautifulSoup\n",
    "\n",
    "url = 'https://www.ptt.cc/bbs/NBA/index1.html'\n",
    "r = requests.get(url)\n",
    "\n",
    "soup = BeautifulSoup(r.text, \"html5lib\")\n",
    "\n",
    "for d in soup.find_all(class_=\"title\"):\n",
    "    print(\"標題:\",d.text.replace('\\t', '').replace('\\n', ''))\n",
    "    try:\n",
    "        r = BeautifulSoup(requests.get('https://www.ptt.cc'+d.find('a')['href']).text, \"html5lib\")\n",
    "        print('作者:' + r.find(class_='article-meta-value').text)\n",
    "        print('時間:' + r.find(class_='article-meta-tag',string=\"時間\").next_sibling.string)\n",
    "    except:\n",
    "        continue"
   ]
  },
  {
   "cell_type": "markdown",
   "metadata": {},
   "source": [
    "### ③ 試著爬爬看其他版的文章"
   ]
  },
  {
   "cell_type": "code",
   "execution_count": null,
   "metadata": {},
   "outputs": [],
   "source": [
    "import requests\n",
    "from bs4 import BeautifulSoup\n",
    "\n",
    "url = 'https://www.ptt.cc/bbs/Stock/index.html'\n",
    "r = requests.get(url)\n",
    "\n",
    "soup = BeautifulSoup(r.text, \"html5lib\")\n",
    "\n",
    "for d in soup.find_all(class_=\"title\"):\n",
    "    print(\"標題:\",d.text.replace('\\t', '').replace('\\n', ''))\n",
    "    try:\n",
    "        r = BeautifulSoup(requests.get('https://www.ptt.cc'+d.find('a')['href']).text, \"html5lib\")\n",
    "        print('作者:' + r.find(class_='article-meta-value').text)\n",
    "        print('時間:' + r.find(class_='article-meta-tag',string=\"時間\").next_sibling.string)\n",
    "    except:\n",
    "        continue"
   ]
  }
 ],
 "metadata": {
  "kernelspec": {
   "display_name": "Python 3",
   "language": "python",
   "name": "python3"
  },
  "language_info": {
   "codemirror_mode": {
    "name": "ipython",
    "version": 3
   },
   "file_extension": ".py",
   "mimetype": "text/x-python",
   "name": "python",
   "nbconvert_exporter": "python",
   "pygments_lexer": "ipython3",
   "version": "3.7.4"
  }
 },
 "nbformat": 4,
 "nbformat_minor": 2
}