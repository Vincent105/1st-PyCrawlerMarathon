{
 "cells": [
  {
   "cell_type": "markdown",
   "metadata": {},
   "source": [
    "# API 資料串接 - 以 Dcard API 實作範例\n",
    "\n",
    "* 利用 urllib 套件的 urlretrieve 方法下載檔案\n",
    "* 了解 Python File I/O 讀檔、寫檔的用法\n",
    "* 能用運用資源管理器 With Statement 優化寫法"
   ]
  },
  {
   "cell_type": "markdown",
   "metadata": {},
   "source": [
    "## 作業目標\n",
    "\n",
    "* 請利用 API: https://www.dcard.tw/_api/forums/pet/posts?popular=true 回答下列問題：\n",
    "\n",
    "1. 這個 API 一次會回傳幾筆資料？每一筆資料包含哪些欄位？\n",
    "2. 取出每一筆資料的「標題」、「貼文時間」、「留言人數」、「按讚人數」\n",
    "3. 計算熱門/非熱門文章的「平均留言人數」與「平均按讚人數」"
   ]
  },
  {
   "cell_type": "code",
   "execution_count": 35,
   "metadata": {},
   "outputs": [
    {
     "name": "stdout",
     "output_type": "stream",
     "text": "這個API一次回傳30筆資料\n這個API可以提供下列欄位\ndict_keys(['id', 'title', 'excerpt', 'anonymousSchool', 'anonymousDepartment', 'pinned', 'forumId', 'replyId', 'createdAt', 'updatedAt', 'commentCount', 'likeCount', 'withNickname', 'tags', 'topics', 'meta', 'forumName', 'forumAlias', 'gender', 'school', 'replyTitle', 'mediaMeta', 'reactions', 'hidden', 'customStyle', 'isSuspiciousAccount', 'layout', 'withImages', 'withVideos', 'media', 'reportReasonText', 'postAvatar'])\n"
    }
   ],
   "source": [
    "# 1. 這個 API 一次會回傳幾筆資料？每一筆資料包含哪些欄位？\n",
    "import requests\n",
    "import json\n",
    "\n",
    "count_number = 0\n",
    "\n",
    "request = requests.get(\n",
    "    'https://www.dcard.tw/_api/forums/pet/posts?popular=true')\n",
    "target_arrays = json.loads(request.text)\n",
    "\n",
    "for target_array in target_arrays:\n",
    "    count_number += 1\n",
    "print('這個API一次回傳%s筆資料' % count_number)\n",
    "\n",
    "print('這個API可以提供下列欄位')\n",
    "print(target_arrays[1].keys())"
   ]
  },
  {
   "cell_type": "code",
   "execution_count": 54,
   "metadata": {},
   "outputs": [
    {
     "name": "stdout",
     "output_type": "stream",
     "text": "貼文時間:2019-11-27T02:15:28.197Z      留言人數:  12按讚人數: 245  標題:我養到別人家的貓                      \n貼文時間:2019-11-27T03:55:26.087Z      留言人數:   2按讚人數: 191  標題:哪裡來的天使                        \n貼文時間:2019-11-27T04:05:54.907Z      留言人數:  15按讚人數: 144  標題:有沒有人想要認養貓😢                    \n貼文時間:2019-11-27T14:09:04.187Z      留言人數:   7按讚人數: 126  標題:最近刺蝟有點苦惱……                    \n貼文時間:2019-11-27T15:53:37.579Z      留言人數:   6按讚人數:  71  標題:貓咪送養                          \n貼文時間:2019-11-27T02:51:29.228Z      留言人數:   8按讚人數:  37  標題:我好像養了一顆球（？                    \n貼文時間:2019-11-27T19:05:47.181Z      留言人數:  13按讚人數:  34  標題:教不到2天就會握手的貓？！                 \n貼文時間:2019-11-27T09:03:30.781Z      留言人數:   3按讚人數:  33  標題:跪求原圖                          \n貼文時間:2019-11-27T01:46:18.916Z      留言人數:   3按讚人數:  31  標題:黑貓                            \n貼文時間:2019-11-27T03:08:52.535Z      留言人數:   9按讚人數:  29  標題:可愛ㄉ米克斯🐶                       \n貼文時間:2019-11-27T13:29:28.841Z      留言人數:   2按讚人數:  25  標題:小cookie 一歲生日嘍                 \n貼文時間:2019-11-27T02:42:25.099Z      留言人數:   2按讚人數:  25  標題:#更新  尋貓啟示（拜託幫幫忙               \n貼文時間:2019-11-27T17:48:07.040Z      留言人數:   1按讚人數:  22  標題:兔子吃草a跩樣                       \n貼文時間:2019-11-27T14:33:01.950Z      留言人數:   2按讚人數:  20  標題:送養貓咪                          \n貼文時間:2019-11-27T16:20:13.198Z      留言人數:   1按讚人數:  17  標題:開箱ㄐㄅ貓貓                        \n貼文時間:2019-11-27T11:11:21.836Z      留言人數:   4按讚人數:  17  標題:尋貓啟示#台南永康南應大                  \n貼文時間:2019-11-27T16:36:38.742Z      留言人數:   7按讚人數:  16  標題:耐ㄍ⋯                           \n貼文時間:2019-11-27T02:13:43.258Z      留言人數:   0按讚人數:  16  標題:［協助汪星人回家］                     \n貼文時間:2019-11-27T07:36:04.550Z      留言人數:   4按讚人數:  15  標題:蛇蛇吃飯（不喜勿入喔                    \n貼文時間:2019-11-28T04:08:18.539Z      留言人數:   4按讚人數:  13  標題:這些狗你認識嗎😍                      \n貼文時間:2019-11-28T02:52:25.651Z      留言人數:   2按讚人數:  13  標題:幼貓送養文                         \n貼文時間:2019-11-27T12:15:40.192Z      留言人數:  12按讚人數:  11  標題:妳的柯基犬很可愛                      \n貼文時間:2019-11-27T08:59:09.803Z      留言人數:   8按讚人數:  10  標題:終於知道去哪裡學來的睡姿⋯⋯                \n貼文時間:2019-11-27T14:33:19.704Z      留言人數:   2按讚人數:   9  標題:貓咪要如何避免被自己的💩臭死？               \n貼文時間:2019-11-27T00:56:58.462Z      留言人數:   1按讚人數:   9  標題:睡姿同步之雙傻組                      \n貼文時間:2019-11-27T16:39:41.215Z      留言人數:   4按讚人數:   7  標題:我家阿北有老人味🦜 求解                  \n貼文時間:2019-11-27T16:26:53.184Z      留言人數:   0按讚人數:   6  標題:求領養🙏🏼                         \n貼文時間:2019-11-27T15:48:46.456Z      留言人數:   1按讚人數:   6  標題:#片  男帥女俏                      \n貼文時間:2019-11-27T15:40:40.727Z      留言人數:   1按讚人數:   6  標題:女大十八變❓🤷🏻‍♀️                   \n貼文時間:2019-11-28T03:32:03.781Z      留言人數:   0按讚人數:   5  標題:走失的寵物狗🦮                       \n"
    }
   ],
   "source": [
    "# 2. 取出每一筆資料的「標題」、「貼文時間」、「留言人數」、「按讚人數」\n",
    "\n",
    "request = requests.get(\n",
    "    'https://www.dcard.tw/_api/forums/pet/posts?popular=true')\n",
    "target_arrays_populars = json.loads(request.text)\n",
    "\n",
    "for target_arrays_popular in target_arrays_populars:\n",
    "    print('貼文時間:{0:30s}留言人數:{1:4d}按讚人數:{2:4d}  標題:{3:30s}'.format(\n",
    "        target_arrays_popular['createdAt'],target_arrays_popular['commentCount'], target_arrays_popular['likeCount'],target_arrays_popular['title']))\n"
   ]
  },
  {
   "cell_type": "code",
   "execution_count": 71,
   "metadata": {},
   "outputs": [
    {
     "ename": "NameError",
     "evalue": "name 'target_arrays_populars' is not defined",
     "output_type": "error",
     "traceback": [
      "\u001b[1;31m---------------------------------------------------------------------------\u001b[0m",
      "\u001b[1;31mNameError\u001b[0m                                 Traceback (most recent call last)",
      "\u001b[1;32m<ipython-input-71-3eef1f5cfd53>\u001b[0m in \u001b[0;36m<module>\u001b[1;34m\u001b[0m\n\u001b[0;32m     13\u001b[0m     \u001b[1;32mreturn\u001b[0m \u001b[0mnum\u001b[0m\u001b[1;33m/\u001b[0m\u001b[0mlen\u001b[0m\u001b[1;33m(\u001b[0m\u001b[0mnumbers\u001b[0m\u001b[1;33m)\u001b[0m\u001b[1;33m\u001b[0m\u001b[1;33m\u001b[0m\u001b[0m\n\u001b[0;32m     14\u001b[0m \u001b[1;33m\u001b[0m\u001b[0m\n\u001b[1;32m---> 15\u001b[1;33m \u001b[1;32mfor\u001b[0m \u001b[0mtarget_arrays_popular\u001b[0m \u001b[1;32min\u001b[0m \u001b[0mtarget_arrays_populars\u001b[0m\u001b[1;33m:\u001b[0m\u001b[1;33m\u001b[0m\u001b[1;33m\u001b[0m\u001b[0m\n\u001b[0m\u001b[0;32m     16\u001b[0m      \u001b[0mcommentCount_popular\u001b[0m\u001b[1;33m.\u001b[0m\u001b[0mappend\u001b[0m\u001b[1;33m(\u001b[0m\u001b[0mtarget_arrays_popular\u001b[0m\u001b[1;33m[\u001b[0m\u001b[1;34m'commentCount'\u001b[0m\u001b[1;33m]\u001b[0m\u001b[1;33m)\u001b[0m\u001b[1;33m\u001b[0m\u001b[1;33m\u001b[0m\u001b[0m\n\u001b[0;32m     17\u001b[0m      \u001b[0mlikeCount_popular\u001b[0m\u001b[1;33m.\u001b[0m\u001b[0mappend\u001b[0m\u001b[1;33m(\u001b[0m\u001b[0mtarget_arrays_popular\u001b[0m\u001b[1;33m[\u001b[0m\u001b[1;34m'likeCount'\u001b[0m\u001b[1;33m]\u001b[0m\u001b[1;33m)\u001b[0m\u001b[1;33m\u001b[0m\u001b[1;33m\u001b[0m\u001b[0m\n",
      "\u001b[1;31mNameError\u001b[0m: name 'target_arrays_populars' is not defined"
     ]
    }
   ],
   "source": [
    "import requests\n",
    "import json# 3. 計算熱門/非熱門文章的「平均留言人數」與「平均按讚人數」\n",
    "\n",
    "request = requests.get(\n",
    "    'https://www.dcard.tw/_api/forums/pet/posts?popular=true')\n",
    "target_arrays_populars = json.loads(request.text)\n",
    "\n",
    "request = requests.get(\n",
    "    'https://www.dcard.tw/_api/forums/pet/posts?popular=false')\n",
    "target_arrays_non_populars = json.loads(request.text)\n",
    "\n",
    "commentCount_popular,likeCount_popular,commentCount_non_popular,likeCount_non_popular = [],[],[],[]\n",
    "\n",
    "def mean(numbers):\n",
    "    num = 0\n",
    "    for number in numbers:\n",
    "        num = num + number\n",
    "    return num/len(numbers)\n",
    "\n",
    "for target_arrays_popular in target_arrays_populars:\n",
    "     commentCount_popular.append(target_arrays_popular['commentCount'])\n",
    "     likeCount_popular.append(target_arrays_popular['likeCount'])\n",
    "     \n",
    "for target_arrays_non_popular in target_arrays_non_populars:\n",
    "     commentCount_non_popular.append(target_arrays_non_popular['commentCount'])\n",
    "     likeCount_non_popular.append(target_arrays_non_popular['likeCount'])    \n",
    "\n",
    "print(mean(commentCount_non_popular))\n",
    "print(mean(likeCount_non_popular))\n",
    "print(mean(commentCount_popular))\n",
    "print(mean(likeCount_popular))"
   ]
  },
  {
   "cell_type": "code",
   "execution_count": null,
   "metadata": {},
   "outputs": [],
   "source": []
  },
  {
   "cell_type": "code",
   "execution_count": null,
   "metadata": {},
   "outputs": [],
   "source": []
  }
 ],
 "metadata": {
  "kernelspec": {
   "display_name": "Python 3",
   "language": "python",
   "name": "python3"
  },
  "language_info": {
   "codemirror_mode": {
    "name": "ipython",
    "version": 3
   },
   "file_extension": ".py",
   "mimetype": "text/x-python",
   "name": "python",
   "nbconvert_exporter": "python",
   "pygments_lexer": "ipython3",
   "version": "3.7.4"
  }
 },
 "nbformat": 4,
 "nbformat_minor": 2
}