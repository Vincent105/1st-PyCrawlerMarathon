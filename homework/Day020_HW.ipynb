{
 "cells": [
  {
   "cell_type": "markdown",
   "metadata": {},
   "source": [
    "# 動態網頁爬蟲 - API Request\n",
    "\n",
    "* 了解 API Request 用於動態網頁爬蟲的原理\n",
    "* 能夠使用 API Request 撰寫動態網頁爬蟲\n",
    "\n",
    "\n",
    "\n",
    "\n"
   ]
  },
  {
   "cell_type": "markdown",
   "metadata": {},
   "source": [
    "## 作業目標\n",
    "\n",
    "\n",
    "* 根據範例使用 API 取出 高雄市小港區 2019 年 空氣品質 資料，並用一個適合的資料結構儲存\n",
    "* Hint: 將所有資料存在一個變數當中\n"
   ]
  },
  {
   "cell_type": "code",
   "execution_count": 1,
   "metadata": {},
   "outputs": [
    {
     "data": {
      "text/plain": "200"
     },
     "execution_count": 1,
     "metadata": {},
     "output_type": "execute_result"
    }
   ],
   "source": [
    "import requests\n",
    "url = 'https://taqm.epa.gov.tw/taqm/tw/MonthlyAverage.aspx'\n",
    "payload = {\n",
    "    'ctl05$ddlSite': 58,\n",
    "    'ctl05$ddlYear': 2019,\n",
    "    'ctl05$btnQuery': '查詢',\n",
    "    'ScriptManager1': 'ctl05$UpdatePanel1|ctl05$btnQuery',\n",
    "    '__VIEWSTATE': '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',\n",
    "    '__VIEWSTATEGENERATOR': '0C858E1A',\n",
    "    '__EVENTVALIDATION': 'on8u4GLb2W9Vycft4Ua5P7qV18IQZEliTRhYdS01tER1+rWcaEilMLPFYGr31pHBKSElwTWrRaXILXoxBqN9QrjgGlvSdK+/dqBHmAuL0lU1LRUExBFxQJuEg8eYUjmU0Xf8LfoJsEBbrVQvbRiowHHO7PFcirZvLiX9vjMYrq9bT6qT6EwQKsxz6klNpXGTzktYte2blt+ZxS55O8ZFg718k9SaFyJ91EaOJtcmmymBL6DLvKpvsuRpPOSk6tAddMRf5Qq0vX7CSSu+aX4YlW0UwwIwnEYsEpP6SIK3vm2kg+ce/quHk8UZ0DC3ucxtg6Ph6c+C7GK/y4WrwBJUoT15Re5iTpsUOH/5GJOVL1FWmiDw/m2BIocLkneHfVZDw99iDM8HcB2fq3Mo6goCBQZjT0RjxVsSFwcaDmJDJVPfUNqYhUJ1AaG6ZXaf6qzcx5ilKUTvQKNo5DDZzARoZeWNto78W7Fu8niDqKbhVwsjGOE9ZaOPx6Ntqu4H2BnZRWTVsKWpEMKWc3gJVt9Uwkqh8hs5H+SEyZP/OLTTug1Y4olLzA5DhfA6gtSjeeqgFIiNaAhFfO3CKh+GrYhpkxqwvNIcDfNtxJFk1n5Ra2H7voA512/0DtsBkQPdkdHuLr6UuCsvr7judNQ4jDvm300sNCfJGwPVq1mncTGt37aU0krhi4kvHpB8LLemY9sOlwxaUtgCglp85/1XSNWsJ0O8A4+cU2Ol1zHy+zCmPhybs4Jv8qUAvyC2kOgO4Kv/gysi5Gm2zIb8WGPHnShFa82vRoGs530rEgUcvYabpq28zTo6WgGnirjee+u/CXalB7+N5DmXjOMYkPockqzi8Ro8tuwIFxK73WbGgaqD8Rk5jIvX0Y1NJLIFxhuMWqo+6/eEOgTmA2XN2Nqj+jawo2sHXaAAMnEKtbMxapqY1CYBLoGZ3B/TFBWBSrNazghKBoTQmw=='\n",
    "}\n",
    "r = requests.post(url, data=payload)\n",
    "r.status_code\n"
   ]
  },
  {
   "cell_type": "code",
   "execution_count": 2,
   "metadata": {},
   "outputs": [
    {
     "name": "stdout",
     "output_type": "stream",
     "text": "<table align=\"Center\" border=\"1\" cellpadding=\"3\" cellspacing=\"0\" class=\"TABLE_G\" id=\"ctl05_gv\" rules=\"all\" style=\"border-color:Black;border-width:1px;border-style:None;border-collapse:collapse;\">\n<tr style=\"color:Black;font-weight:normal;\">\n<th scope=\"col\">監測項目</th><th scope=\"col\">單位</th><th scope=\"col\">監測日期</th><th scope=\"col\">監測值</th><th scope=\"col\">標註</th>\n</tr><tr style=\"color:Black;\">\n<td class=\"no-alt\" rowspan=\"11\" style=\"white-space:nowrap;\" valign=\"top\">SO2</td><td class=\"no-alt\" rowspan=\"11\" valign=\"top\">ppb</td><td>2019/01</td><td>4.10</td><td> </td>\n</tr><tr class=\"ALT\" style=\"color:Black;\">\n<td>2019/02</td><td>3.30</td><td> </td>\n</tr><tr style=\"color:Black;\">\n<td>2019/03</td><td>3.90</td><td> </td>\n</tr><tr class=\"ALT\" style=\"color:Black;\">\n<td>2019/04</td><td>3.40</td><td> </td>\n</tr><tr style=\"color:Black;\">\n<td>2019/05</td><td>3.30</td><td> </td>\n</tr><tr class=\"ALT\" style=\"color:Black;\">\n<td>2019/06</td><td>4.10</td><td> </td>\n</tr><tr style=\"color:Black;\">\n<td>2019/07</td><td>4</td><td> </td>\n</tr><tr class=\"ALT\" style=\"color:Black;\">\n<td>2019/08</td><td>4.60</td><td> </td>\n</tr><tr style=\"color:Black;\">\n<td>2019/09</td><td>3.50</td><td> </td>\n</tr><tr class=\"ALT\" style=\"color:Black;\">\n<td>2019/10</td><td>3.20</td><td> </td>\n</tr><tr style=\"color:Black;\">\n<td>2019/11</td><td>3.60</td><td> </td>\n</tr><tr class=\"ALT\" style=\"color:Black;\">\n<td class=\"no-alt\" rowspan=\"11\" style=\"white-space:nowrap;\" valign=\"top\">CO</td><td class=\"no-alt\" rowspan=\"11\" valign=\"top\">ppm</td><td>2019/01</td><td>0.67</td><td> </td>\n</tr><tr style=\"color:Black;\">\n<td>2019/02</td><td>0.48</td><td> </td>\n</tr><tr class=\"ALT\" style=\"color:Black;\">\n<td>2019/03</td><td>0.50</td><td> </td>\n</tr><tr style=\"color:Black;\">\n<td>2019/04</td><td>0.39</td><td> </td>\n</tr><tr class=\"ALT\" style=\"color:Black;\">\n<td>2019/05</td><td>0.38</td><td> </td>\n</tr><tr style=\"color:Black;\">\n<td>2019/06</td><td>0.24</td><td> </td>\n</tr><tr class=\"ALT\" style=\"color:Black;\">\n<td>2019/07</td><td>0.28</td><td> </td>\n</tr><tr style=\"color:Black;\">\n<td>2019/08</td><td>0.33</td><td> </td>\n</tr><tr class=\"ALT\" style=\"color:Black;\">\n<td>2019/09</td><td>0.32</td><td> </td>\n</tr><tr style=\"color:Black;\">\n<td>2019/10</td><td>0.36</td><td> </td>\n</tr><tr class=\"ALT\" style=\"color:Black;\">\n<td>2019/11</td><td>0.46</td><td> </td>\n</tr><tr style=\"color:Black;\">\n<td class=\"no-alt\" rowspan=\"11\" style=\"white-space:nowrap;\" valign=\"top\">O3</td><td class=\"no-alt\" rowspan=\"11\" valign=\"top\">ppb</td><td>2019/01</td><td>24.70</td><td> </td>\n</tr><tr class=\"ALT\" style=\"color:Black;\">\n<td>2019/02</td><td>29.40</td><td> </td>\n</tr><tr style=\"color:Black;\">\n<td>2019/03</td><td>29.20</td><td> </td>\n</tr><tr class=\"ALT\" style=\"color:Black;\">\n<td>2019/04</td><td>30.40</td><td> </td>\n</tr><tr style=\"color:Black;\">\n<td>2019/05</td><td>28.60</td><td> </td>\n</tr><tr class=\"ALT\" style=\"color:Black;\">\n<td>2019/06</td><td>16.30</td><td> </td>\n</tr><tr style=\"color:Black;\">\n<td>2019/07</td><td>15.50</td><td> </td>\n</tr><tr class=\"ALT\" style=\"color:Black;\">\n<td>2019/08</td><td>19.70</td><td> </td>\n</tr><tr style=\"color:Black;\">\n<td>2019/09</td><td>35.70</td><td> </td>\n</tr><tr class=\"ALT\" style=\"color:Black;\">\n<td>2019/10</td><td>44</td><td> </td>\n</tr><tr style=\"color:Black;\">\n<td>2019/11</td><td>34.80</td><td> </td>\n</tr><tr class=\"ALT\" style=\"color:Black;\">\n<td class=\"no-alt\" rowspan=\"11\" style=\"white-space:nowrap;\" valign=\"top\">PM10</td><td class=\"no-alt\" rowspan=\"11\" valign=\"top\">μg/m3</td><td>2019/01</td><td>78</td><td> </td>\n</tr><tr style=\"color:Black;\">\n<td>2019/02</td><td>57</td><td> </td>\n</tr><tr class=\"ALT\" style=\"color:Black;\">\n<td>2019/03</td><td>52</td><td> </td>\n</tr><tr style=\"color:Black;\">\n<td>2019/04</td><td>42</td><td> </td>\n</tr><tr class=\"ALT\" style=\"color:Black;\">\n<td>2019/05</td><td>35</td><td> </td>\n</tr><tr style=\"color:Black;\">\n<td>2019/06</td><td>20</td><td> </td>\n</tr><tr class=\"ALT\" style=\"color:Black;\">\n<td>2019/07</td><td>24</td><td> </td>\n</tr><tr style=\"color:Black;\">\n<td>2019/08</td><td>27</td><td> </td>\n</tr><tr class=\"ALT\" style=\"color:Black;\">\n<td>2019/09</td><td>35</td><td> </td>\n</tr><tr style=\"color:Black;\">\n<td>2019/10</td><td>50</td><td> </td>\n</tr><tr class=\"ALT\" style=\"color:Black;\">\n<td>2019/11</td><td>63</td><td> </td>\n</tr><tr style=\"color:Black;\">\n<td class=\"no-alt\" rowspan=\"11\" style=\"white-space:nowrap;\" valign=\"top\">NOx</td><td class=\"no-alt\" rowspan=\"11\" valign=\"top\">ppb</td><td>2019/01</td><td>38.01</td><td> </td>\n</tr><tr class=\"ALT\" style=\"color:Black;\">\n<td>2019/02</td><td>25.62</td><td> </td>\n</tr><tr style=\"color:Black;\">\n<td>2019/03</td><td>27.84</td><td> </td>\n</tr><tr class=\"ALT\" style=\"color:Black;\">\n<td>2019/04</td><td>21.83</td><td> </td>\n</tr><tr style=\"color:Black;\">\n<td>2019/05</td><td>22.55</td><td> </td>\n</tr><tr class=\"ALT\" style=\"color:Black;\">\n<td>2019/06</td><td>17.15</td><td> </td>\n</tr><tr style=\"color:Black;\">\n<td>2019/07</td><td>17.71</td><td> </td>\n</tr><tr class=\"ALT\" style=\"color:Black;\">\n<td>2019/08</td><td>19.66</td><td> </td>\n</tr><tr style=\"color:Black;\">\n<td>2019/09</td><td>18.66</td><td> </td>\n</tr><tr class=\"ALT\" style=\"color:Black;\">\n<td>2019/10</td><td>19.50</td><td> </td>\n</tr><tr style=\"color:Black;\">\n<td>2019/11</td><td>28.99</td><td> </td>\n</tr><tr class=\"ALT\" style=\"color:Black;\">\n<td class=\"no-alt\" rowspan=\"11\" style=\"white-space:nowrap;\" valign=\"top\">NO</td><td class=\"no-alt\" rowspan=\"11\" valign=\"top\">ppb</td><td>2019/01</td><td>7.95</td><td> </td>\n</tr><tr style=\"color:Black;\">\n<td>2019/02</td><td>4.76</td><td> </td>\n</tr><tr class=\"ALT\" style=\"color:Black;\">\n<td>2019/03</td><td>5.41</td><td> </td>\n</tr><tr style=\"color:Black;\">\n<td>2019/04</td><td>4.16</td><td> </td>\n</tr><tr class=\"ALT\" style=\"color:Black;\">\n<td>2019/05</td><td>4.58</td><td> </td>\n</tr><tr style=\"color:Black;\">\n<td>2019/06</td><td>5.08</td><td> </td>\n</tr><tr class=\"ALT\" style=\"color:Black;\">\n<td>2019/07</td><td>5.16</td><td> </td>\n</tr><tr style=\"color:Black;\">\n<td>2019/08</td><td>5.17</td><td> </td>\n</tr><tr class=\"ALT\" style=\"color:Black;\">\n<td>2019/09</td><td>3.63</td><td> </td>\n</tr><tr style=\"color:Black;\">\n<td>2019/10</td><td>3.50</td><td> </td>\n</tr><tr class=\"ALT\" style=\"color:Black;\">\n<td>2019/11</td><td>5.21</td><td> </td>\n</tr><tr style=\"color:Black;\">\n<td class=\"no-alt\" rowspan=\"11\" style=\"white-space:nowrap;\" valign=\"top\">NO2</td><td class=\"no-alt\" rowspan=\"11\" valign=\"top\">ppb</td><td>2019/01</td><td>30.06</td><td> </td>\n</tr><tr class=\"ALT\" style=\"color:Black;\">\n<td>2019/02</td><td>20.86</td><td> </td>\n</tr><tr style=\"color:Black;\">\n<td>2019/03</td><td>22.43</td><td> </td>\n</tr><tr class=\"ALT\" style=\"color:Black;\">\n<td>2019/04</td><td>17.68</td><td> </td>\n</tr><tr style=\"color:Black;\">\n<td>2019/05</td><td>17.98</td><td> </td>\n</tr><tr class=\"ALT\" style=\"color:Black;\">\n<td>2019/06</td><td>12.08</td><td> </td>\n</tr><tr style=\"color:Black;\">\n<td>2019/07</td><td>12.54</td><td> </td>\n</tr><tr class=\"ALT\" style=\"color:Black;\">\n<td>2019/08</td><td>14.49</td><td> </td>\n</tr><tr style=\"color:Black;\">\n<td>2019/09</td><td>15.03</td><td> </td>\n</tr><tr class=\"ALT\" style=\"color:Black;\">\n<td>2019/10</td><td>15.99</td><td> </td>\n</tr><tr style=\"color:Black;\">\n<td>2019/11</td><td>23.78</td><td> </td>\n</tr><tr class=\"ALT\" style=\"color:Black;\">\n<td class=\"no-alt\" rowspan=\"11\" style=\"white-space:nowrap;\" valign=\"top\">THC</td><td class=\"no-alt\" rowspan=\"11\" valign=\"top\">ppm</td><td>2019/01</td><td>2.27</td><td> </td>\n</tr><tr style=\"color:Black;\">\n<td>2019/02</td><td>2.11</td><td> </td>\n</tr><tr class=\"ALT\" style=\"color:Black;\">\n<td>2019/03</td><td>2.12</td><td> </td>\n</tr><tr style=\"color:Black;\">\n<td>2019/04</td><td>2.02</td><td> </td>\n</tr><tr class=\"ALT\" style=\"color:Black;\">\n<td>2019/05</td><td>2.02</td><td> </td>\n</tr><tr style=\"color:Black;\">\n<td>2019/06</td><td>1.92</td><td> </td>\n</tr><tr class=\"ALT\" style=\"color:Black;\">\n<td>2019/07</td><td>1.93</td><td> </td>\n</tr><tr style=\"color:Black;\">\n<td>2019/08</td><td>1.97</td><td> </td>\n</tr><tr class=\"ALT\" style=\"color:Black;\">\n<td>2019/09</td><td>1.98</td><td> </td>\n</tr><tr style=\"color:Black;\">\n<td>2019/10</td><td>2.05</td><td> </td>\n</tr><tr class=\"ALT\" style=\"color:Black;\">\n<td>2019/11</td><td>2.15</td><td> </td>\n</tr><tr style=\"color:Black;\">\n<td class=\"no-alt\" rowspan=\"11\" style=\"white-space:nowrap;\" valign=\"top\">NMHC</td><td class=\"no-alt\" rowspan=\"11\" valign=\"top\">ppm</td><td>2019/01</td><td>0.27</td><td> </td>\n</tr><tr class=\"ALT\" style=\"color:Black;\">\n<td>2019/02</td><td>0.17</td><td> </td>\n</tr><tr style=\"color:Black;\">\n<td>2019/03</td><td>0.18</td><td> </td>\n</tr><tr class=\"ALT\" style=\"color:Black;\">\n<td>2019/04</td><td>0.14</td><td> </td>\n</tr><tr style=\"color:Black;\">\n<td>2019/05</td><td>0.16</td><td> </td>\n</tr><tr class=\"ALT\" style=\"color:Black;\">\n<td>2019/06</td><td>0.13</td><td> </td>\n</tr><tr style=\"color:Black;\">\n<td>2019/07</td><td>0.14</td><td> </td>\n</tr><tr class=\"ALT\" style=\"color:Black;\">\n<td>2019/08</td><td>0.15</td><td> </td>\n</tr><tr style=\"color:Black;\">\n<td>2019/09</td><td>0.13</td><td> </td>\n</tr><tr class=\"ALT\" style=\"color:Black;\">\n<td>2019/10</td><td>0.13</td><td> </td>\n</tr><tr style=\"color:Black;\">\n<td>2019/11</td><td>0.21</td><td> </td>\n</tr><tr class=\"ALT\" style=\"color:Black;\">\n<td class=\"no-alt\" rowspan=\"11\" style=\"white-space:nowrap;\" valign=\"top\">CH4</td><td class=\"no-alt\" rowspan=\"11\" valign=\"top\">ppm</td><td>2019/01</td><td>2</td><td> </td>\n</tr><tr style=\"color:Black;\">\n<td>2019/02</td><td>1.94</td><td> </td>\n</tr><tr class=\"ALT\" style=\"color:Black;\">\n<td>2019/03</td><td>1.94</td><td> </td>\n</tr><tr style=\"color:Black;\">\n<td>2019/04</td><td>1.88</td><td> </td>\n</tr><tr class=\"ALT\" style=\"color:Black;\">\n<td>2019/05</td><td>1.86</td><td> </td>\n</tr><tr style=\"color:Black;\">\n<td>2019/06</td><td>1.79</td><td> </td>\n</tr><tr class=\"ALT\" style=\"color:Black;\">\n<td>2019/07</td><td>1.80</td><td> </td>\n</tr><tr style=\"color:Black;\">\n<td>2019/08</td><td>1.82</td><td> </td>\n</tr><tr class=\"ALT\" style=\"color:Black;\">\n<td>2019/09</td><td>1.86</td><td> </td>\n</tr><tr style=\"color:Black;\">\n<td>2019/10</td><td>1.92</td><td> </td>\n</tr><tr class=\"ALT\" style=\"color:Black;\">\n<td>2019/11</td><td>1.94</td><td> </td>\n</tr>\n</table>\n"
    }
   ],
   "source": [
    "from bs4 import BeautifulSoup\n",
    "\n",
    "soup = BeautifulSoup(r.text, 'html.parser')\n",
    "table = soup.find('table', class_='TABLE_G')\n",
    "print(table)"
   ]
  },
  {
   "cell_type": "code",
   "execution_count": 3,
   "metadata": {},
   "outputs": [
    {
     "data": {
      "text/plain": "{'SO2': {'2019/01': '4.10',\n  '2019/02': '3.30',\n  '2019/03': '3.90',\n  '2019/04': '3.40',\n  '2019/05': '3.30',\n  '2019/06': '4.10',\n  '2019/07': '4',\n  '2019/08': '4.60',\n  '2019/09': '3.50',\n  '2019/10': '3.20',\n  '2019/11': '3.60'},\n 'CO': {'2019/01': '0.67',\n  '2019/02': '0.48',\n  '2019/03': '0.50',\n  '2019/04': '0.39',\n  '2019/05': '0.38',\n  '2019/06': '0.24',\n  '2019/07': '0.28',\n  '2019/08': '0.33',\n  '2019/09': '0.32',\n  '2019/10': '0.36',\n  '2019/11': '0.46'},\n 'O3': {'2019/01': '24.70',\n  '2019/02': '29.40',\n  '2019/03': '29.20',\n  '2019/04': '30.40',\n  '2019/05': '28.60',\n  '2019/06': '16.30',\n  '2019/07': '15.50',\n  '2019/08': '19.70',\n  '2019/09': '35.70',\n  '2019/10': '44',\n  '2019/11': '34.80'},\n 'PM10': {'2019/01': '78',\n  '2019/02': '57',\n  '2019/03': '52',\n  '2019/04': '42',\n  '2019/05': '35',\n  '2019/06': '20',\n  '2019/07': '24',\n  '2019/08': '27',\n  '2019/09': '35',\n  '2019/10': '50',\n  '2019/11': '63'},\n 'NOx': {'2019/01': '38.01',\n  '2019/02': '25.62',\n  '2019/03': '27.84',\n  '2019/04': '21.83',\n  '2019/05': '22.55',\n  '2019/06': '17.15',\n  '2019/07': '17.71',\n  '2019/08': '19.66',\n  '2019/09': '18.66',\n  '2019/10': '19.50',\n  '2019/11': '28.99'},\n 'NO': {'2019/01': '7.95',\n  '2019/02': '4.76',\n  '2019/03': '5.41',\n  '2019/04': '4.16',\n  '2019/05': '4.58',\n  '2019/06': '5.08',\n  '2019/07': '5.16',\n  '2019/08': '5.17',\n  '2019/09': '3.63',\n  '2019/10': '3.50',\n  '2019/11': '5.21'},\n 'NO2': {'2019/01': '30.06',\n  '2019/02': '20.86',\n  '2019/03': '22.43',\n  '2019/04': '17.68',\n  '2019/05': '17.98',\n  '2019/06': '12.08',\n  '2019/07': '12.54',\n  '2019/08': '14.49',\n  '2019/09': '15.03',\n  '2019/10': '15.99',\n  '2019/11': '23.78'},\n 'THC': {'2019/01': '2.27',\n  '2019/02': '2.11',\n  '2019/03': '2.12',\n  '2019/04': '2.02',\n  '2019/05': '2.02',\n  '2019/06': '1.92',\n  '2019/07': '1.93',\n  '2019/08': '1.97',\n  '2019/09': '1.98',\n  '2019/10': '2.05',\n  '2019/11': '2.15'},\n 'NMHC': {'2019/01': '0.27',\n  '2019/02': '0.17',\n  '2019/03': '0.18',\n  '2019/04': '0.14',\n  '2019/05': '0.16',\n  '2019/06': '0.13',\n  '2019/07': '0.14',\n  '2019/08': '0.15',\n  '2019/09': '0.13',\n  '2019/10': '0.13',\n  '2019/11': '0.21'},\n 'CH4': {'2019/01': '2',\n  '2019/02': '1.94',\n  '2019/03': '1.94',\n  '2019/04': '1.88',\n  '2019/05': '1.86',\n  '2019/06': '1.79',\n  '2019/07': '1.80',\n  '2019/08': '1.82',\n  '2019/09': '1.86',\n  '2019/10': '1.92',\n  '2019/11': '1.94'}}"
     },
     "execution_count": 3,
     "metadata": {},
     "output_type": "execute_result"
    }
   ],
   "source": [
    "data = {}\n",
    "for tr in table.find_all('tr')[1:]:\n",
    "    tds = tr.find_all('td')\n",
    "    if (len(tds)==5):     \n",
    "        target = tds[0].text                   \n",
    "        data.setdefault(target,{})\n",
    "        data[target][tds[2].text] = tds[3].text         \n",
    "    else:\n",
    "        data[target][tds[0].text] = tds[1].text       \n",
    "data          "
   ]
  },
  {
   "cell_type": "code",
   "execution_count": 5,
   "metadata": {},
   "outputs": [
    {
     "data": {
      "text/html": "<div>\n<style scoped>\n    .dataframe tbody tr th:only-of-type {\n        vertical-align: middle;\n    }\n\n    .dataframe tbody tr th {\n        vertical-align: top;\n    }\n\n    .dataframe thead th {\n        text-align: right;\n    }\n</style>\n<table border=\"1\" class=\"dataframe\">\n  <thead>\n    <tr style=\"text-align: right;\">\n      <th></th>\n      <th>SO2</th>\n      <th>CO</th>\n      <th>O3</th>\n      <th>PM10</th>\n      <th>NOx</th>\n      <th>NO</th>\n      <th>NO2</th>\n      <th>THC</th>\n      <th>NMHC</th>\n      <th>CH4</th>\n    </tr>\n  </thead>\n  <tbody>\n    <tr>\n      <td>2019/01</td>\n      <td>4.10</td>\n      <td>0.67</td>\n      <td>24.70</td>\n      <td>78</td>\n      <td>38.01</td>\n      <td>7.95</td>\n      <td>30.06</td>\n      <td>2.27</td>\n      <td>0.27</td>\n      <td>2</td>\n    </tr>\n    <tr>\n      <td>2019/02</td>\n      <td>3.30</td>\n      <td>0.48</td>\n      <td>29.40</td>\n      <td>57</td>\n      <td>25.62</td>\n      <td>4.76</td>\n      <td>20.86</td>\n      <td>2.11</td>\n      <td>0.17</td>\n      <td>1.94</td>\n    </tr>\n    <tr>\n      <td>2019/03</td>\n      <td>3.90</td>\n      <td>0.50</td>\n      <td>29.20</td>\n      <td>52</td>\n      <td>27.84</td>\n      <td>5.41</td>\n      <td>22.43</td>\n      <td>2.12</td>\n      <td>0.18</td>\n      <td>1.94</td>\n    </tr>\n    <tr>\n      <td>2019/04</td>\n      <td>3.40</td>\n      <td>0.39</td>\n      <td>30.40</td>\n      <td>42</td>\n      <td>21.83</td>\n      <td>4.16</td>\n      <td>17.68</td>\n      <td>2.02</td>\n      <td>0.14</td>\n      <td>1.88</td>\n    </tr>\n    <tr>\n      <td>2019/05</td>\n      <td>3.30</td>\n      <td>0.38</td>\n      <td>28.60</td>\n      <td>35</td>\n      <td>22.55</td>\n      <td>4.58</td>\n      <td>17.98</td>\n      <td>2.02</td>\n      <td>0.16</td>\n      <td>1.86</td>\n    </tr>\n    <tr>\n      <td>2019/06</td>\n      <td>4.10</td>\n      <td>0.24</td>\n      <td>16.30</td>\n      <td>20</td>\n      <td>17.15</td>\n      <td>5.08</td>\n      <td>12.08</td>\n      <td>1.92</td>\n      <td>0.13</td>\n      <td>1.79</td>\n    </tr>\n    <tr>\n      <td>2019/07</td>\n      <td>4</td>\n      <td>0.28</td>\n      <td>15.50</td>\n      <td>24</td>\n      <td>17.71</td>\n      <td>5.16</td>\n      <td>12.54</td>\n      <td>1.93</td>\n      <td>0.14</td>\n      <td>1.80</td>\n    </tr>\n    <tr>\n      <td>2019/08</td>\n      <td>4.60</td>\n      <td>0.33</td>\n      <td>19.70</td>\n      <td>27</td>\n      <td>19.66</td>\n      <td>5.17</td>\n      <td>14.49</td>\n      <td>1.97</td>\n      <td>0.15</td>\n      <td>1.82</td>\n    </tr>\n    <tr>\n      <td>2019/09</td>\n      <td>3.50</td>\n      <td>0.32</td>\n      <td>35.70</td>\n      <td>35</td>\n      <td>18.66</td>\n      <td>3.63</td>\n      <td>15.03</td>\n      <td>1.98</td>\n      <td>0.13</td>\n      <td>1.86</td>\n    </tr>\n    <tr>\n      <td>2019/10</td>\n      <td>3.20</td>\n      <td>0.36</td>\n      <td>44</td>\n      <td>50</td>\n      <td>19.50</td>\n      <td>3.50</td>\n      <td>15.99</td>\n      <td>2.05</td>\n      <td>0.13</td>\n      <td>1.92</td>\n    </tr>\n    <tr>\n      <td>2019/11</td>\n      <td>3.60</td>\n      <td>0.46</td>\n      <td>34.80</td>\n      <td>63</td>\n      <td>28.99</td>\n      <td>5.21</td>\n      <td>23.78</td>\n      <td>2.15</td>\n      <td>0.21</td>\n      <td>1.94</td>\n    </tr>\n  </tbody>\n</table>\n</div>",
      "text/plain": "          SO2    CO     O3 PM10    NOx    NO    NO2   THC  NMHC   CH4\n2019/01  4.10  0.67  24.70   78  38.01  7.95  30.06  2.27  0.27     2\n2019/02  3.30  0.48  29.40   57  25.62  4.76  20.86  2.11  0.17  1.94\n2019/03  3.90  0.50  29.20   52  27.84  5.41  22.43  2.12  0.18  1.94\n2019/04  3.40  0.39  30.40   42  21.83  4.16  17.68  2.02  0.14  1.88\n2019/05  3.30  0.38  28.60   35  22.55  4.58  17.98  2.02  0.16  1.86\n2019/06  4.10  0.24  16.30   20  17.15  5.08  12.08  1.92  0.13  1.79\n2019/07     4  0.28  15.50   24  17.71  5.16  12.54  1.93  0.14  1.80\n2019/08  4.60  0.33  19.70   27  19.66  5.17  14.49  1.97  0.15  1.82\n2019/09  3.50  0.32  35.70   35  18.66  3.63  15.03  1.98  0.13  1.86\n2019/10  3.20  0.36     44   50  19.50  3.50  15.99  2.05  0.13  1.92\n2019/11  3.60  0.46  34.80   63  28.99  5.21  23.78  2.15  0.21  1.94"
     },
     "execution_count": 5,
     "metadata": {},
     "output_type": "execute_result"
    }
   ],
   "source": [
    "import pandas as pd\n",
    "pd.DataFrame(data)"
   ]
  },
  {
   "cell_type": "code",
   "execution_count": null,
   "metadata": {},
   "outputs": [],
   "source": []
  },
  {
   "cell_type": "code",
   "execution_count": null,
   "metadata": {},
   "outputs": [],
   "source": []
  }
 ],
 "metadata": {
  "kernelspec": {
   "display_name": "Python 3",
   "language": "python",
   "name": "python3"
  },
  "language_info": {
   "codemirror_mode": {
    "name": "ipython",
    "version": 3
   },
   "file_extension": ".py",
   "mimetype": "text/x-python",
   "name": "python",
   "nbconvert_exporter": "python",
   "pygments_lexer": "ipython3",
   "version": "3.7.4"
  }
 },
 "nbformat": 4,
 "nbformat_minor": 2
}