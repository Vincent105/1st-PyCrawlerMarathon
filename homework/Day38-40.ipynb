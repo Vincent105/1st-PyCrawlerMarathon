{
 "nbformat": 4,
 "nbformat_minor": 2,
 "metadata": {
  "language_info": {
   "name": "python",
   "codemirror_mode": {
    "name": "ipython",
    "version": 3
   },
   "version": "3.7.5-final"
  },
  "orig_nbformat": 2,
  "file_extension": ".py",
  "mimetype": "text/x-python",
  "name": "python",
  "npconvert_exporter": "python",
  "pygments_lexer": "ipython3",
  "version": 3,
  "kernelspec": {
   "name": "python37564bitvirtualenvfe5bae16d3f743aca73bce467ebd2e37",
   "display_name": "Python 3.7.5 64-bit (virtualenv)"
  }
 },
 "cells": [
  {
   "cell_type": "code",
   "execution_count": 1,
   "metadata": {},
   "outputs": [
    {
     "name": "stdout",
     "output_type": "stream",
     "text": "標題    分類  \\\n1   從防疫學英文：確診病例、潛伏期、隔離檢疫，英文怎麼說？ - The News Lens 關鍵評論網  醫療健康   \n2   《1人健身》：維持肌力訓練的重點在於「管理你的意志力」 - The News Lens 關鍵評論網    健身   \n3                       洗手少這步驟比沒洗手還糟！研究證實細菌多84％ |早安健康  醫療健康   \n4                      脹氣悶痛有3種原因！中醫3方藥解救你的一肚子悶氣 |早安健康  醫療健康   \n5                     聽力與失智症有關？醫界證實7招預防重聽也等於防失智 |早安健康  醫療健康   \n6                 杜絕飛沫傳染！防治病毒清潔術：靠打掃、控制濕度預防飛沫傳染 |早安健康  醫療健康   \n7                     手腳不冰冷卻是「冷底」！隱性體寒自己摸摸肚子就知道 |早安健康  醫療健康   \n8   外網公佈「2019 最佳電影海報」，《寄生上流》、壞美小丑女上榜，每張都藏有巧思！ - 設計...  平面設計   \n9                        2020年最新！十二生肖小孩,性格大解析。 - 天才領袖    育兒   \n10  CICA霜妳聽過嗎？保養界的新熱門成分～熱賣產品幫妳整理 | 美人會部落格 | VOGUE 時尚網  美妝保養   \n11  「蟲蟲世界」攻佔臺灣燈會　森林機械巨蟲秀酷又帥 | ETtoday 旅遊雲 | ETtoda...    美食   \n12  「2020內湖草莓季」15日正式開跑！20家草莓園資訊懶人包 | ETtoday 旅遊雲 |...    美食   \n13  住進百年童話莊園！瑞士格林德瓦唯一5星飯店開箱　走3分鐘就到車站 | ETtoday 旅遊雲...    美食   \n14  救業績！犇鐵板燒30年來首度賣便當　阿霞飯店桌菜也能外送 | ETtoday 旅遊雲 | E...    美食   \n15  只有100人能搭！「超奢華遊艇」2021年啟航　開進世界最美麗海灣 | ETtoday 旅遊...    美食   \n16                    四個重點策略，循序訓練寶寶如廁！ – 媽媽經｜專屬於媽媽的網站    育兒   \n17                       3步肌活！保養這樣做保濕效果更加倍 - uho優活健康網  美妝保養   \n18  J.D Power公佈北美最可靠品牌排名　韓系Genesis首度榮登冠軍！ | 車壇新訊 |...    汽車   \n19  你的習慣值多少錢？一天一杯咖啡、一週一包菸、一年一換新手機…10年多花800萬！-財富未來-...    理財   \n20                愛憋尿！膀胱成鐘乳石洞，恐終生依靠導尿管 – 媽媽經｜專屬於媽媽的網站  醫療健康   \n21  【千禧世代不可忽視的兩大狀況】美國「10 大健康問題排行」，最需要注意的反而「不是癌症」 |...  醫療健康   \n22          日本恐已出現隱性社區傳播　指揮中心：即起旅遊警示升為第一級 - Yahoo奇摩理財    旅遊   \n23       isCar - 十年磨出1,750匹馬力，美國超跑車廠SSC終於發表量產版Tuatara    汽車   \n24    優質暖男玄彬／身價破億　坐擁江南區名宅 P1 | 好房網雜誌 NO.19 |  好房網News    影劇   \n25             沒繳延託費，小孩遭幼兒園隔離？家長淚訴差別對待 – 媽媽經｜專屬於媽媽的網站    育兒   \n26              我的孩子情緒容易崩潰、歇斯底里怎麼辦！！ - BabyHome 新知大耳朵    育兒   \n27                2020臺北燈節 攜手拍美照打卡 留下浪漫回憶-欣攝影-欣傳媒攝影頻道    攝影   \n28             闢謠！低脂鮮乳有澱粉？一次破解低脂鮮乳4大迷思 – 媽媽經｜專屬於媽媽的網站  醫療健康   \n29  只有香川才有的住宿體驗就在這！整棟出租式的城宿「穴吹邸」 | MATCHA - 日本線上旅遊...    旅遊   \n30           15歲少女邊泡澡邊滑充電中手機，不慎掉入浴缸被電死 – 媽媽經｜專屬於媽媽的網站  3C產品   \n31                       光雕橋新寵大熱點 光影水舞新月橋-欣攝影-欣傳媒攝影頻道    攝影   \n32                 健康食品稽查：奧利多碳酸飲遭開罰三萬！ – 媽媽經｜專屬於媽媽的網站  醫療健康   \n33             「皮蛇」長一圈就會死掉？如何預防並提升免疫力！ – 媽媽經｜專屬於媽媽的網站    育兒   \n34                       沛麗婷減肥藥恐致癌　食藥署要求禁用 - uho優活健康網  醫療健康   \n35  8種小菜任你吃！臺中銷魂半熟蛋+炸豬排　白飯、冰淇淋免費續 | ETtoday 旅遊雲 | ...    美食   \n\n                                                   摘要  \\\n1   這波病毒來勢洶洶，若你有密切關注相關消息的話，想必一定經常聽到「感染、潛伏期、確診病例......   \n2   研究人員針會各種金錢帶來的持續效應進行驗證。結果顯示，金錢確實會使人願意參與肌力訓練，但一旦...   \n3   【早安健康／餘宗翰報導】我們都知道洗手步驟是「濕、搓、沖、捧、擦」，但最後把手擦乾的動作，你...   \n4   【早安健康／澄品中醫 陳詩潔醫師】脹氣是門診很常見的主訴症狀之一，輕微者可能只是吃飽後些微脹...   \n5   【早安健康／王彥文報導】在大眾的觀念中，重聽是因為歲月消逝、跟著老化慢慢出現的障礙。但您知道...   \n6   【早安健康／松本忠男（醫療級清潔專家）】 「流感」可以用打掃與控制濕度來預防  為了不染上 ...   \n7   【早安健康／友野尚（睡眠諮商師兼產業心理顧問）】「我的手腳又不會冰冷，安啦！」自以為不是寒性...   \n8   全球性的電影評論網 MUBI 近期公開了「2019 最佳電影海報」的評比，其中不乏幾部聞名全...   \n9   2020年什麼生肖的孩子最歡？ 那個生肖最教不動？改變教養的一年來了， 今年會有大突破，從1...   \n10        咦，我只聽過BB霜和CC霜，又來個CICA霜？其實CICA（英文讀音“西卡”）霜跟BB   \n11  臺、法合作「森林機械巨蟲秀」，首度在2020臺灣燈會後裏森林園區科技展演燈區登場，臺中市政府...   \n12  採草莓不一定要到苗栗！「2020內湖草莓季」於今（15日）正式開跑，北市府產業局也貼心準備2...   \n13  想要前往少女峯，有世界最美小鎮美稱的格林德瓦是必經之地，許多人也會選擇入住在當地旅館，享受在...   \n14  新冠肺炎疫情持續影響大家出外用餐意願，各家餐廳也推出外送搶救業績，就連頂級鐵板燒業者犇鐵板燒...   \n15  Emerald Yacht Cruises首艘新船Emerald Azzurra身長110公...   \n16  對於孩子而言，在所有的日常生活活動中，如廁是在訓練孩子自我照顧上極需要審慎應對的事情。孩子常...   \n17  （優活健康網編輯部╱綜合整理）長年從事皮膚醫學研究的豊田醫師認為：「想要搞定皮膚問題，關鍵就...   \n18  知名市調單位J.D Power日前公佈了美國市場上最可靠的汽車品牌名單，針對近三年來於美國販...   \n19  人到中年，突發奇想，想寫一篇文章給年輕人看。我們生活上有很多習慣，當中習慣有不少其實可有可無...   \n20  大部分人都知道喝水的重要以及憋尿可能造成的危害，卻時常因工作忙碌等為由而不喝水或愛憋尿。日前...   \n21  【為什麼我們選擇這篇文章】 健康是萬事根本，身體狀況和心理、情緒狀況都需要我們留心照顧。一項...   \n22  新型冠狀病毒肺炎（武漢肺炎，COVID-19）持續延燒，中央流行疫情指揮中心今（14）日表示...   \n23  isCar！SSC全名為Shelby SuperCars，這間來自美國的超跑車廠曾經以Ult...   \n24  《我叫金三順》、《祕密花園》讓反骨踏上演藝路的玄彬名氣一路推高，累積的財富足夠他在首爾的江南...   \n25  宜蘭有一間幼兒園，日前遭到一名家長控訴學費超收，經檢舉後才更改收費標準，此外因為她沒繳延託費...   \n26  我的孩子情緒容易崩潰、歇斯底里怎麼辦！！    病人：大女兒從兩歲3個月開始會為了一點點小事...   \n27  網紅視網膜手把手教你 四種個性的燈區告白法要補過情人節的，就先來看這邊啦！去哪裡約會好呢？快...   \n28  近年來，網路上盛傳著低脂的迷思，但多是似是而非，或者過度解釋了文獻，像是低脂鮮乳含有澱粉會導...   \n29  位在香川縣高鬆市的「穴吹邸」是一間擁有天守閣及日本庭園，有如日本城樓般的旅店，原本是老闆穴吹...   \n30  根據英國《每日星報》的報導，有一名15歲的法國女孩在泡澡時，一邊充電一邊玩手機，結果手機意外...   \n31  圖片說明：圖攝/哈米貓 提供2014年的絕美光雕橋當然首推5/17甫啟用的新月橋，橋樑設計採...   \n32  衛福部食藥署前天（12）公佈去年9至10月針對健康食品工廠的專案稽查結果，其中奧利多碳酸飲料...   \n33  我們俗稱的「皮蛇」，就是所謂的「帶狀皰疹」。「帶狀皰疹」就是我們小時候長水痘，水痘病毒其實好...   \n34  （優活健康網記者張桂榕╱綜合報導）根據國民健康署統計，臺灣男性每兩位就有一位是「腹翁」，每三...   \n35  臺中西區公益路平價吃到飽美食推薦，「遇見和食」2020年新推出8款小菜現點現做，可以吃得到熱...   \n\n                                                   連結  \n1   https://www.thenewslens.com/article/131241?utm...  \n2   https://www.thenewslens.com/article/130630?utm...  \n3                    https://www.edh.tw/article/23682  \n4                    https://www.edh.tw/article/23650  \n5                    https://www.edh.tw/article/23626  \n6                    https://www.edh.tw/article/23602  \n7                    https://www.edh.tw/article/23599  \n8   https://www.pinkoi.com/magz/w9fAGK9i?utm_sourc...  \n9   https://www.leaderkid.com.tw/2020/02/15/2020%e...  \n10  https://www.vogue.com.tw/beautyblog/sisterjenn...  \n11     https://travel.ettoday.net/article/1646404.htm  \n12     https://travel.ettoday.net/article/1646361.htm  \n13     https://travel.ettoday.net/article/1646357.htm  \n14     https://travel.ettoday.net/article/1646310.htm  \n15     https://travel.ettoday.net/article/1638456.htm  \n16  https://mamaclub.com/learn/%e8%a8%93%e7%b7%b4%...  \n17        http://www.uho.com.tw/hotnews.asp?aid=50925  \n18     https://autos.udn.com/autos/story/7826/4346812  \n19  https://wealth.businessweekly.com.tw/m/GArticl...  \n20  https://mamaclub.com/learn/%e5%b0%bf%e5%a4%b1%...  \n21  https://buzzorange.com/vidaorange/2020/02/15/b...  \n22                     http://user74046.psee.io/NATQY  \n23  http://tw.iscarmg.com/index.php/top-news/home-...  \n24  https://news.housefun.com.tw/mag/hf/19/article...  \n25  https://mamaclub.com/learn/%e6%b2%92%e7%b9%b3%...  \n26  https://info.babyhome.com.tw/article/21512?utm...  \n27  https://solomo.xinmedia.com/photo/178361-2020l...  \n28  https://mamaclub.com/learn/%e9%97%a2%e8%ac%a0%...  \n29  https://matcha-jp.com/tw/9232?utm_source=socia...  \n30  https://mamaclub.com/learn/%e4%b9%9d%e6%ad%b2%...  \n31  https://solomo.xinmedia.com/photo/14071-lights...  \n32  https://mamaclub.com/learn/%e4%bf%9d%e5%81%a5%...  \n33  https://mamaclub.com/learn/%e3%80%8c%e7%9a%ae%...  \n34        http://www.uho.com.tw/hotnews.asp?aid=50935  \n35  https://travel.ettoday.net/article/1639688.htm...  \n"
    }
   ],
   "source": [
    "from bs4 import BeautifulSoup\n",
    "from selenium import webdriver\n",
    "from selenium.webdriver.common.keys import Keys\n",
    "import time\n",
    "import pandas as pd\n",
    "\n",
    "url = \"https://www.cupoy.com/newsfeed/topicgrp/life_tw\"\n",
    "\n",
    "browser = webdriver.Chrome(\n",
    "    executable_path='E:\\Project\\\\1st-PyCrawlerMarathon\\chromedriver\\chromedriver.exe')\n",
    "browser.get(url)\n",
    "time.sleep(5)\n",
    "\n",
    "article_count = 1\n",
    "target_count = 35\n",
    "article_url = []\n",
    "article_content = {}\n",
    "\n",
    "keepGoing = True\n",
    "\n",
    "while keepGoing:\n",
    "    html = browser.page_source\n",
    "    soup = BeautifulSoup(html, \"lxml\")\n",
    "\n",
    "    news_block = soup.find_all('div', class_='sc-eEieub sc-iuDHTM ibJqYc')\n",
    "\n",
    "    for news_item in news_block:\n",
    "        url = news_item.find('a', class_='sc-RbTVP sc-kEmuub eSJXii').get(\"href\")\n",
    "        article_content.setdefault(article_count, {})\n",
    "\n",
    "        if url not in article_url and article_count < target_count:\n",
    "            article_url.append(url)\n",
    "            article_content[article_count]['標題'] = news_item.find('h6').text\n",
    "            article_content[article_count]['分類'] = news_item.find('div', class_='sc-gacfCG bPSpUf').string\n",
    "            article_content[article_count]['摘要'] = news_item.find('p', class_='sc-FQuPU sc-ciodno bvnzOw').string\n",
    "            article_content[article_count]['連結'] = url\n",
    "            article_count += 1\n",
    "        elif url not in article_url and article_count == target_count:    \n",
    "            article_content[article_count]['標題'] = news_item.find('h6').text\n",
    "            article_content[article_count]['分類'] = news_item.find('div', class_='sc-gacfCG bPSpUf').string\n",
    "            article_content[article_count]['摘要'] = news_item.find('p', class_='sc-FQuPU sc-ciodno bvnzOw').string\n",
    "            article_content[article_count]['連結'] = url               \n",
    "            keepGoing = False\n",
    "\n",
    "    time.sleep(2)\n",
    "    browser.execute_script(\"window.scrollBy(0,10000)\")\n",
    "\n",
    "# print(article_content)\n",
    "\n",
    "print(pd.DataFrame.from_dict(article_content, orient='index', columns=['標題', '分類', '摘要', '連結']) )"
   ]
  },
  {
   "cell_type": "code",
   "execution_count": 19,
   "metadata": {},
   "outputs": [],
   "source": [
    "url = \"https://www.cupoy.com/newsfeed/topicgrp/life_tw\"\n",
    "\n",
    "browser = webdriver.Chrome(executable_path='..\\chromedriver\\chromedriver.exe')\n",
    "browser.get(url)\n",
    "\n",
    "time.sleep(5)\n",
    "\n",
    "article_count = 0\n",
    "article_content = {}\n",
    "\n",
    "html = browser.page_source\n",
    "soup = BeautifulSoup(html, \"lxml\")\n",
    "\n",
    "for content in soup.find_all(\"div\", class_='sc-eEieub sc-iuDHTM ibJqYc'):\n",
    "    print(soup.find(\"h6\").text,soup.find(\"div\", attr='style'))"
   ]
  },
  {
   "cell_type": "code",
   "execution_count": null,
   "metadata": {},
   "outputs": [],
   "source": [
    "#\n",
    "# 這裡先建立一個函數，其功能是連到外部連結，並爬取新聞內容。\n",
    "#\n",
    "def getNewsDetailContent(link_url):\n",
    "    resp = requests.get(link_url)\n",
    "    resp.encoding = 'utf-8'\n",
    "    #print(resp.text)\n",
    "\n",
    "    soup = BeautifulSoup(resp.text, 'lxml')\n",
    "    news_content = soup.find(\"div\", attrs={'class':'story'}).find_all(\"p\")\n",
    "    for p in news_content:\n",
    "        if ((p.string) is not None):\n",
    "            print(p.string)"
   ]
  },
  {
   "cell_type": "code",
   "execution_count": null,
   "metadata": {},
   "outputs": [],
   "source": [
    "# 爬取網頁內容，解析後萃取新聞摘要\n",
    "html = browser.page_source\n",
    "soup = BeautifulSoup(html, \"lxml\")\n",
    "all_news = soup.find(\"div\", attrs={'class':'block block_1 infinite_scroll'})\n",
    "\n",
    "news_block = all_news.find_all('div', attrs={'class':'piece clearfix'})\n",
    "\n",
    "for i, news_item in enumerate(news_block):\n",
    "    print(\"----------------------------------------------------------------------\")\n",
    "    news_body = news_item.find('h3')\n",
    "    print(\"\\n[%d] %s\\n\" % (i, news_body.a.string))\n",
    "    \n",
    "    # \n",
    "    # 連到外部連結，擷取詳細新聞內容\n",
    "    #\n",
    "    externalLink = \"https://www.ettoday.net\" + news_body.a[\"href\"]\n",
    "    getNewsDetailContent(externalLink)\n"
   ]
  }
 ]
}