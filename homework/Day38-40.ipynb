{
 "nbformat": 4,
 "nbformat_minor": 2,
 "metadata": {
  "language_info": {
   "name": "python",
   "codemirror_mode": {
    "name": "ipython",
    "version": 3
   },
   "version": "3.7.5-final"
  },
  "orig_nbformat": 2,
  "file_extension": ".py",
  "mimetype": "text/x-python",
  "name": "python",
  "npconvert_exporter": "python",
  "pygments_lexer": "ipython3",
  "version": 3,
  "kernelspec": {
   "name": "python37564bitvirtualenvfe5bae16d3f743aca73bce467ebd2e37",
   "display_name": "Python 3.7.5 64-bit (virtualenv)"
  }
 },
 "cells": [
  {
   "cell_type": "code",
   "execution_count": null,
   "metadata": {},
   "outputs": [],
   "source": [
    "import re\n",
    "\n",
    "#網址判斷   \n",
    "def RegexMatchingTest(regex, input_text):\n",
    "    pattern = re.compile(regex)\n",
    "    result = re.search(pattern, input_text)\n",
    "\n",
    "    if result:\n",
    "        if result.lastindex is not None:\n",
    "            for i in range(0, result.lastindex+1):\n",
    "                return result.group(2)\n",
    "    else:\n",
    "        return None\n",
    "regex = \"(\\w+):\\/\\/([^/:]+)?([^# !>]*)\"     "
   ]
  },
  {
   "cell_type": "code",
   "execution_count": 3,
   "metadata": {},
   "outputs": [
    {
     "data": {
      "text/html": "<div>\n<style scoped>\n    .dataframe tbody tr th:only-of-type {\n        vertical-align: middle;\n    }\n\n    .dataframe tbody tr th {\n        vertical-align: top;\n    }\n\n    .dataframe thead th {\n        text-align: right;\n    }\n</style>\n<table border=\"1\" class=\"dataframe\">\n  <thead>\n    <tr style=\"text-align: right;\">\n      <th></th>\n      <th>標題</th>\n      <th>分類</th>\n      <th>摘要</th>\n      <th>連結</th>\n      <th>網域</th>\n    </tr>\n  </thead>\n  <tbody>\n    <tr>\n      <th>1</th>\n      <td>和失智長輩一起去旅行！六福旅遊的「喘息服務」，如何突破框架、打造新的生意？ | 經理人</td>\n      <td>旅遊</td>\n      <td>創造一項新服務，僅從服務對象身上看到未被滿足的需求並不夠，因為使用者往往不知道自己需要什麼；...</td>\n      <td>https://www.managertoday.com.tw/columns/view/5...</td>\n      <td>www.managertoday.com.tw</td>\n    </tr>\n    <tr>\n      <th>2</th>\n      <td>Google用AI自動重新剪輯影片 | iThome</td>\n      <td>攝影</td>\n      <td>Google以人工智慧技術重新剪裁16:9或是4:3長寬比的影片，讓影片更適合在各種螢幕大小...</td>\n      <td>https://www.ithome.com.tw/news/135833</td>\n      <td>www.ithome.com.tw</td>\n    </tr>\n    <tr>\n      <th>3</th>\n      <td>特斯拉召回至少 1.8 萬臺 Model X，轉向器有失去動力的安全疑慮 | MoneyDJ...</td>\n      <td>汽車</td>\n      <td>召回的方案適用於 2016 年生產的 Model X，在 2016 年 10 月中旬之後製造...</td>\n      <td>https://blog.moneydj.com/news/2020/02/15/%e7%8...</td>\n      <td>blog.moneydj.com</td>\n    </tr>\n    <tr>\n      <th>4</th>\n      <td>窮人的高速公路不只省錢 濕地、夕陽、燈塔、美食一次體驗 | 信傳媒</td>\n      <td>美食</td>\n      <td>交通部公路總局與天下雜誌合作出版《吹海風的路:臺61線西部濱海快速公路》一書，1</td>\n      <td>https://www.cmmedia.com.tw/home/articles/19923</td>\n      <td>www.cmmedia.com.tw</td>\n    </tr>\n    <tr>\n      <th>5</th>\n      <td>菲律賓解除旅遊禁令關鍵：在臺菲律賓移工震怒｜天下雜誌</td>\n      <td>旅遊</td>\n      <td>菲律賓政策在14日急轉彎，解除在10日對臺頒布的旅遊禁令。菲律賓詢問者日報（Philippi...</td>\n      <td>https://www.cw.com.tw/article/article.action?i...</td>\n      <td>www.cw.com.tw</td>\n    </tr>\n  </tbody>\n</table>\n</div>",
      "text/plain": "                                                  標題  分類  \\\n1        和失智長輩一起去旅行！六福旅遊的「喘息服務」，如何突破框架、打造新的生意？ | 經理人  旅遊   \n2                         Google用AI自動重新剪輯影片 | iThome  攝影   \n3  特斯拉召回至少 1.8 萬臺 Model X，轉向器有失去動力的安全疑慮 | MoneyDJ...  汽車   \n4                  窮人的高速公路不只省錢 濕地、夕陽、燈塔、美食一次體驗 | 信傳媒  美食   \n5                         菲律賓解除旅遊禁令關鍵：在臺菲律賓移工震怒｜天下雜誌  旅遊   \n\n                                                  摘要  \\\n1  創造一項新服務，僅從服務對象身上看到未被滿足的需求並不夠，因為使用者往往不知道自己需要什麼；...   \n2  Google以人工智慧技術重新剪裁16:9或是4:3長寬比的影片，讓影片更適合在各種螢幕大小...   \n3  召回的方案適用於 2016 年生產的 Model X，在 2016 年 10 月中旬之後製造...   \n4           交通部公路總局與天下雜誌合作出版《吹海風的路:臺61線西部濱海快速公路》一書，1   \n5  菲律賓政策在14日急轉彎，解除在10日對臺頒布的旅遊禁令。菲律賓詢問者日報（Philippi...   \n\n                                                  連結                       網域  \n1  https://www.managertoday.com.tw/columns/view/5...  www.managertoday.com.tw  \n2              https://www.ithome.com.tw/news/135833        www.ithome.com.tw  \n3  https://blog.moneydj.com/news/2020/02/15/%e7%8...         blog.moneydj.com  \n4     https://www.cmmedia.com.tw/home/articles/19923       www.cmmedia.com.tw  \n5  https://www.cw.com.tw/article/article.action?i...            www.cw.com.tw  "
     },
     "execution_count": 3,
     "metadata": {},
     "output_type": "execute_result"
    }
   ],
   "source": [
    "from bs4 import BeautifulSoup\n",
    "from selenium import webdriver\n",
    "from selenium.webdriver.common.keys import Keys\n",
    "import time\n",
    "import pandas as pd\n",
    "import re \n",
    "\n",
    "browser = webdriver.Chrome(\n",
    "    executable_path='E:\\Project\\\\1st-PyCrawlerMarathon\\chromedriver\\chromedriver.exe')\n",
    "# 目標文章數量\n",
    "target_count = 5\n",
    "\n",
    "article_count = 1\n",
    "article_url = []\n",
    "article_content = {}\n",
    "keepGoing = True\n",
    "url = \"https://www.cupoy.com/newsfeed/topicgrp/life_tw\"\n",
    "\n",
    "browser.get(url)\n",
    "time.sleep(5)\n",
    "\n",
    "while keepGoing:\n",
    "    html = browser.page_source\n",
    "    soup = BeautifulSoup(html, \"lxml\")\n",
    "\n",
    "    news_block = soup.find_all('div', class_='sc-eEieub sc-iuDHTM ibJqYc')\n",
    "\n",
    "    for news_item in news_block:\n",
    "        url = news_item.find(\n",
    "            'a', class_='sc-RbTVP sc-kEmuub eSJXii').get(\"href\")\n",
    "        article_content.setdefault(article_count, {})\n",
    "        # 目標文章數量-1篇之前處理\n",
    "        if url not in article_url and article_count < target_count:\n",
    "            article_url.append(url)\n",
    "            article_content[article_count]['標題'] = news_item.find('h6').string\n",
    "            article_content[article_count]['分類'] = news_item.find(\n",
    "                'div', class_='sc-gacfCG bPSpUf').string\n",
    "            article_content[article_count]['摘要'] = news_item.find(\n",
    "                'p', class_='sc-FQuPU sc-ciodno bvnzOw').string\n",
    "            article_content[article_count]['連結'] = url               \n",
    "            article_content[article_count]['網域'] = RegexMatchingTest(regex, url)   \n",
    "            article_count += 1\n",
    "        # 目標文章數量最後一篇處理\n",
    "        elif url not in article_url and article_count == target_count:\n",
    "            article_content[article_count]['標題'] = news_item.find('h6').string\n",
    "            article_content[article_count]['分類'] = news_item.find(\n",
    "                'div', class_='sc-gacfCG bPSpUf').string\n",
    "            article_content[article_count]['摘要'] = news_item.find(\n",
    "                'p', class_='sc-FQuPU sc-ciodno bvnzOw').string\n",
    "            article_content[article_count]['連結'] = url\n",
    "            article_content[article_count]['網域'] = RegexMatchingTest(regex, url)\n",
    "            keepGoing = False\n",
    "\n",
    "    time.sleep(2)\n",
    "    browser.execute_script(\"window.scrollBy(0,10000)\")\n",
    "\n",
    "# print(article_content)\n",
    "browser.quit()\n",
    "frame = pd.DataFrame(article_content)\n",
    "frame.T\n"
   ]
  },
  {
   "cell_type": "code",
   "execution_count": null,
   "metadata": {},
   "outputs": [],
   "source": []
  }
 ]
}