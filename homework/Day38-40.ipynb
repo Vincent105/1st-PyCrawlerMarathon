{
 "nbformat": 4,
 "nbformat_minor": 2,
 "metadata": {
  "language_info": {
   "name": "python",
   "codemirror_mode": {
    "name": "ipython",
    "version": 3
   },
   "version": "3.7.5-final"
  },
  "orig_nbformat": 2,
  "file_extension": ".py",
  "mimetype": "text/x-python",
  "name": "python",
  "npconvert_exporter": "python",
  "pygments_lexer": "ipython3",
  "version": 3,
  "kernelspec": {
   "name": "python37564bitvirtualenvfe5bae16d3f743aca73bce467ebd2e37",
   "display_name": "Python 3.7.5 64-bit (virtualenv)"
  }
 },
 "cells": [
  {
   "cell_type": "code",
   "execution_count": 1,
   "metadata": {},
   "outputs": [
    {
     "data": {
      "text/html": "<div>\n<style scoped>\n    .dataframe tbody tr th:only-of-type {\n        vertical-align: middle;\n    }\n\n    .dataframe tbody tr th {\n        vertical-align: top;\n    }\n\n    .dataframe thead th {\n        text-align: right;\n    }\n</style>\n<table border=\"1\" class=\"dataframe\">\n  <thead>\n    <tr style=\"text-align: right;\">\n      <th></th>\n      <th>標題</th>\n      <th>分類</th>\n      <th>摘要</th>\n      <th>連結</th>\n    </tr>\n  </thead>\n  <tbody>\n    <tr>\n      <th>1</th>\n      <td>【耗時 100 小時！菲律賓對臺政策髮夾彎】強人杜特地解除對臺禁令的關鍵，竟是「自己人」？ ...</td>\n      <td>旅遊</td>\n      <td>【我們為什麼選擇這篇文章？】 因應武漢肺炎防疫，菲律賓衛生部在 10 日突然宣佈把臺灣列入禁...</td>\n      <td>https://buzzorange.com/2020/02/15/philippines-...</td>\n    </tr>\n    <tr>\n      <th>2</th>\n      <td>傾聽、溝通、尊重，德國父母教孩子「自己做決定」，就算是 3 歲也一樣！ ｜ 書宜在德國 ｜ ...</td>\n      <td>育兒</td>\n      <td>這篇文章談的雖然是臺德教養的差異，但並非要比較兩國教育方式的優劣，文中提到的差異性，是我站在...</td>\n      <td>https://crossing.cw.com.tw/article/11984?utm_s...</td>\n    </tr>\n    <tr>\n      <th>3</th>\n      <td>【圖輯】這一次，由東南亞移工拍攝他們眼裡的臺灣（下） ｜ One-Forty ｜ 換日線 C...</td>\n      <td>攝影</td>\n      <td>每位移工，在臺灣一待就是 6 到 12 年，他們人生最精華的歲月，就在此開展與成長。臺灣不只...</td>\n      <td>https://crossing.cw.com.tw/article/12979?utm_s...</td>\n    </tr>\n    <tr>\n      <th>4</th>\n      <td>《愛在黎明破曉時》：25 歲的經典、90 年代的愛情 ｜ 陳怡潔／在倫敦醒來 ｜ 換日線 C...</td>\n      <td>兩性</td>\n      <td>在伊森霍克（Ethan Hawke）的 Instagram 上看到《紐約時報》這篇〈Befo...</td>\n      <td>https://crossing.cw.com.tw/article/12976?utm_s...</td>\n    </tr>\n    <tr>\n      <th>5</th>\n      <td>和失智長輩一起去旅行！六福旅遊的「喘息服務」，如何突破框架、打造新的生意？ | 經理人</td>\n      <td>旅遊</td>\n      <td>創造一項新服務，僅從服務對象身上看到未被滿足的需求並不夠，因為使用者往往不知道自己需要什麼；...</td>\n      <td>https://www.managertoday.com.tw/columns/view/5...</td>\n    </tr>\n    <tr>\n      <th>6</th>\n      <td>Google用AI自動重新剪輯影片 | iThome</td>\n      <td>攝影</td>\n      <td>Google以人工智慧技術重新剪裁16:9或是4:3長寬比的影片，讓影片更適合在各種螢幕大小...</td>\n      <td>https://www.ithome.com.tw/news/135833</td>\n    </tr>\n    <tr>\n      <th>7</th>\n      <td>女人年過30還單身，沒什麼不好但總有點焦慮？看看這五種女人你是哪一種，釐清情緒才能做更好的自...</td>\n      <td>兩性</td>\n      <td>在所有的讀者和身邊朋友中，過了三十歲，但「為什麼遇不到對的人」大概是最困擾每個人，尤其是女人...</td>\n      <td>https://www.storm.mg/lifestyle/2292195</td>\n    </tr>\n    <tr>\n      <th>8</th>\n      <td>想拍出「高級大片」，光線很重要！電影劇組親授打光手法，不用網美濾鏡照樣能有超美照片-風傳媒</td>\n      <td>電影</td>\n      <td>人像打燈不僅是平面攝影師的必修技法，亦是動態攝影師增添人物魅力或情緒的關鍵祕訣；因此，除了常...</td>\n      <td>https://www.storm.mg/lifestyle/2283834</td>\n    </tr>\n    <tr>\n      <th>9</th>\n      <td>荷蘭男性平均185公分！過人身高絕不只是基因優勢，「阿度仔」老爸公開飲食祕密…-風傳媒</td>\n      <td>醫療健康</td>\n      <td>亞洲人對西方人的刻板印象就是人高馬大，而荷蘭男性的平均身高確實也高達185公分，硬是比臺灣男...</td>\n      <td>https://www.storm.mg/lifestyle/353189</td>\n    </tr>\n    <tr>\n      <th>10</th>\n      <td>契訶夫《海鷗》劇評：不是去想而是去做，不是去演而是去活 - The News Lens 關鍵評論網</td>\n      <td>影劇</td>\n      <td>或許這就是契訶夫的劇本最有意思的地方，我們在閱讀他的戲劇時，比起想像裡面的情節、人物，我們更...</td>\n      <td>http://www.thenewslens.com/article/130551</td>\n    </tr>\n    <tr>\n      <th>11</th>\n      <td>美國公立學校有錢也不一定能進！真實經歷告訴你，資本主義的教育如何用錢堆出來 | BuzzOr...</td>\n      <td>育兒</td>\n      <td>【我們為什麼選這本書：買槍，養馬，呼大麻：范琪斐的美國時間】 外界對於美國教育看似充滿翻身的...</td>\n      <td>https://buzzorange.com/2018/04/20/gun-horse-ma...</td>\n    </tr>\n    <tr>\n      <th>12</th>\n      <td>「鑽石公主號」一天又增67名確診病例！美國明天將包機接回郵輪上380名美國公民及其家屬回國 ...</td>\n      <td>美妝保養</td>\n      <td>美國駐日本東京大使館15日證實，為瞭解決停靠在日本橫濱港「鑽石公主號」郵輪上無法離開的美國公...</td>\n      <td>https://www.techbang.com/posts/76221-us-charte...</td>\n    </tr>\n    <tr>\n      <th>13</th>\n      <td>Gogoro 更新性能款 ABS 車型，推出石墨灰 Gogoro S2 ABS 與 S2 C...</td>\n      <td>汽車</td>\n      <td>Gogoro 去年發表 Gogoro S2 ABS 車款以來，半年間創下近五千臺的銷售成績，...</td>\n      <td>https://www.techbang.com/posts/76199-2020-gogo...</td>\n    </tr>\n    <tr>\n      <th>14</th>\n      <td>從防疫學英文：確診病例、潛伏期、隔離檢疫，英文怎麼說？ - The News Lens 關鍵評論網</td>\n      <td>醫療健康</td>\n      <td>這波病毒來勢洶洶，若你有密切關注相關消息的話，想必一定經常聽到「感染、潛伏期、確診病例......</td>\n      <td>https://www.thenewslens.com/article/131241?utm...</td>\n    </tr>\n    <tr>\n      <th>15</th>\n      <td>《1人健身》：維持肌力訓練的重點在於「管理你的意志力」 - The News Lens 關鍵評論網</td>\n      <td>健身</td>\n      <td>研究人員針會各種金錢帶來的持續效應進行驗證。結果顯示，金錢確實會使人願意參與肌力訓練，但一旦...</td>\n      <td>https://www.thenewslens.com/article/130630?utm...</td>\n    </tr>\n    <tr>\n      <th>16</th>\n      <td>2020年最新！十二生肖小孩,性格大解析。 - 天才領袖</td>\n      <td>育兒</td>\n      <td>2020年什麼生肖的孩子最歡？ 那個生肖最教不動？改變教養的一年來了， 今年會有大突破，從1...</td>\n      <td>https://www.leaderkid.com.tw/2020/02/15/2020%e...</td>\n    </tr>\n    <tr>\n      <th>17</th>\n      <td>CICA霜妳聽過嗎？保養界的新熱門成分～熱賣產品幫妳整理 | 美人會部落格 | VOGUE 時尚網</td>\n      <td>美妝保養</td>\n      <td>咦，我只聽過BB霜和CC霜，又來個CICA霜？其實CICA（英文讀音“西卡”）霜跟BB</td>\n      <td>https://www.vogue.com.tw/beautyblog/sisterjenn...</td>\n    </tr>\n    <tr>\n      <th>18</th>\n      <td>食用月見草油調經，肌瘤體質勿亂補 – 媽媽經｜專屬於媽媽的網站</td>\n      <td>育兒</td>\n      <td>「每個月『那個來』前都會不舒服，來了又覺得不順」，很多人會拜託朋友從國外帶回來據說含有「月見...</td>\n      <td>https://mamaclub.com/learn/%e9%a3%9f%e7%94%a8%...</td>\n    </tr>\n    <tr>\n      <th>19</th>\n      <td>「屁股走路」減重法，瘦小腹兼矯正骨盆 – 媽媽經｜專屬於媽媽的網站</td>\n      <td>育兒</td>\n      <td>「屁股走路」是個在家就能做到的簡單運動，減重成效也能展現在身體各個部位上，實在令人感到開心。...</td>\n      <td>https://mamaclub.com/learn/%e3%80%8c%e5%b1%81%...</td>\n    </tr>\n    <tr>\n      <th>20</th>\n      <td>愛面子還是真教育？強迫分享妨礙孩子自主權 – 媽媽經｜專屬於媽媽的網站</td>\n      <td>育兒</td>\n      <td>如果你的孩子自主權強不想跟別人『分享』他的玩具，那就千萬不要帶來！」學校舉辦了一場活動，邀請...</td>\n      <td>https://mamaclub.com/learn/%e6%84%9b%e9%9d%a2%...</td>\n    </tr>\n    <tr>\n      <th>21</th>\n      <td>Levante真的有伴了！　Maserati第二款休旅確定2021年量產！ | 車壇新訊 |...</td>\n      <td>汽車</td>\n      <td>先前曾傳出要推出第二款休旅的Maserati，在這兩年間反反覆覆的決策之下，最近終於是完全確...</td>\n      <td>https://autos.udn.com/autos/story/7826/4347062</td>\n    </tr>\n    <tr>\n      <th>22</th>\n      <td>經血顏色會說話！三茶飲加速經血排乾淨 – 媽媽經｜專屬於媽媽的網站</td>\n      <td>育兒</td>\n      <td>每次月經來潮都是子宮內膜大掃除的時候，經血顏色也可能反應健康狀況，但許多女性有經期後段滴滴答...</td>\n      <td>https://mamaclub.com/learn/%e7%b6%93%e8%a1%80%...</td>\n    </tr>\n    <tr>\n      <th>23</th>\n      <td>228連假，多項公共運輸優惠鼓勵搭乘！ – 媽媽經｜專屬於媽媽的網站</td>\n      <td>育兒</td>\n      <td>228連假即將到來，為鼓勵民眾連假多搭公共運輸、紓解交通壅塞，交通部公路總局推出多項優惠，包...</td>\n      <td>https://mamaclub.com/learn/228%e9%80%a3%e5%81%...</td>\n    </tr>\n    <tr>\n      <th>24</th>\n      <td>春天易上火！一碗【黑芝麻生薑紅糖粥】打擊「體內邪燥」、脾胃毛</td>\n      <td>醫療健康</td>\n      <td>中醫認為「冬不藏精，春必病瘟」，經過去年的暖冬之後，腎精失常，我們迎來了「多病之春」。在這個...</td>\n      <td>https://healthylives.tw/Article/vBeHmlBQcHX.html</td>\n    </tr>\n    <tr>\n      <th>25</th>\n      <td>2/25開學後，高中以下由教部供給口罩 （緊急備用） – 媽媽經｜專屬於媽媽的網站</td>\n      <td>育兒</td>\n      <td>教育部2/15（六）發布通知，目前教育部已統籌備用口罩645萬片、酒精8.4萬公升，額溫槍2...</td>\n      <td>https://mamaclub.com/learn/%e9%96%8b%e5%ad%b8%...</td>\n    </tr>\n    <tr>\n      <th>26</th>\n      <td>汽車線上：大改造Ford Mustang Mach 1成為千匹巨獸</td>\n      <td>汽車</td>\n      <td>當一輛車被稱之為「Hitman」，你最後對它保持著敬畏之心，因為它有可能會傷害到你。一家專門...</td>\n      <td>https://www.auto-online.com.tw/news/33254</td>\n    </tr>\n    <tr>\n      <th>27</th>\n      <td>盤點當年SARS疫情過後，中國有哪些行業真的逆襲了？ | 微信上的中國</td>\n      <td>兩岸</td>\n      <td>…</td>\n      <td>https://chinaqna.com/a/105377</td>\n    </tr>\n    <tr>\n      <th>28</th>\n      <td>日本恐已出現隱性社區傳播　指揮中心：即起旅遊警示升為第一級 - Yahoo奇摩理財</td>\n      <td>旅遊</td>\n      <td>新型冠狀病毒肺炎（武漢肺炎，COVID-19）持續延燒，中央流行疫情指揮中心今（14）日表示...</td>\n      <td>http://user74046.psee.io/NATQY</td>\n    </tr>\n    <tr>\n      <th>29</th>\n      <td>會員限定專屬下載／親子天下</td>\n      <td>育兒</td>\n      <td>親子天下會員專屬好物下載，無論是親職教育專家講座精華、全臺特色公園集錦、小行星著色畫，只要登...</td>\n      <td>https://member.parenting.com.tw/download?utm_s...</td>\n    </tr>\n    <tr>\n      <th>30</th>\n      <td>「蟲蟲世界」攻佔臺灣燈會　森林機械巨蟲秀酷又帥 | ETtoday 旅遊雲 | ETtoda...</td>\n      <td>美食</td>\n      <td>臺、法合作「森林機械巨蟲秀」，首度在2020臺灣燈會後裏森林園區科技展演燈區登場，臺中市政府...</td>\n      <td>https://travel.ettoday.net/article/1646404.htm</td>\n    </tr>\n    <tr>\n      <th>31</th>\n      <td>「2020內湖草莓季」15日正式開跑！20家草莓園資訊懶人包 | ETtoday 旅遊雲 |...</td>\n      <td>美食</td>\n      <td>採草莓不一定要到苗栗！「2020內湖草莓季」於今（15日）正式開跑，北市府產業局也貼心準備2...</td>\n      <td>https://travel.ettoday.net/article/1646361.htm</td>\n    </tr>\n    <tr>\n      <th>32</th>\n      <td>住進百年童話莊園！瑞士格林德瓦唯一5星飯店開箱　走3分鐘就到車站 | ETtoday 旅遊雲...</td>\n      <td>美食</td>\n      <td>想要前往少女峯，有世界最美小鎮美稱的格林德瓦是必經之地，許多人也會選擇入住在當地旅館，享受在...</td>\n      <td>https://travel.ettoday.net/article/1646357.htm</td>\n    </tr>\n    <tr>\n      <th>33</th>\n      <td>救業績！犇鐵板燒30年來首度賣便當　阿霞飯店桌菜也能外送 | ETtoday 旅遊雲 | E...</td>\n      <td>美食</td>\n      <td>新冠肺炎疫情持續影響大家出外用餐意願，各家餐廳也推出外送搶救業績，就連頂級鐵板燒業者犇鐵板燒...</td>\n      <td>https://travel.ettoday.net/article/1646310.htm</td>\n    </tr>\n    <tr>\n      <th>34</th>\n      <td>只有100人能搭！「超奢華遊艇」2021年啟航　開進世界最美麗海灣 | ETtoday 旅遊...</td>\n      <td>美食</td>\n      <td>Emerald Yacht Cruises首艘新船Emerald Azzurra身長110公...</td>\n      <td>https://travel.ettoday.net/article/1638456.htm</td>\n    </tr>\n    <tr>\n      <th>35</th>\n      <td>子瑜辣穿熱褲秀美腿！　原來就靠3招邊追劇邊輕鬆練｜每日健康</td>\n      <td>醫療健康</td>\n      <td>韓國女團「TWICE」最近成為韓國遊戲「突擊風暴」的「Candy TWICE」角色人物，前天...</td>\n      <td>https://healthylives.tw/article/lVAZb7QkA7j.ht...</td>\n    </tr>\n  </tbody>\n</table>\n</div>",
      "text/plain": "                                                   標題    分類  \\\n1   【耗時 100 小時！菲律賓對臺政策髮夾彎】強人杜特地解除對臺禁令的關鍵，竟是「自己人」？ ...    旅遊   \n2   傾聽、溝通、尊重，德國父母教孩子「自己做決定」，就算是 3 歲也一樣！ ｜ 書宜在德國 ｜ ...    育兒   \n3   【圖輯】這一次，由東南亞移工拍攝他們眼裡的臺灣（下） ｜ One-Forty ｜ 換日線 C...    攝影   \n4   《愛在黎明破曉時》：25 歲的經典、90 年代的愛情 ｜ 陳怡潔／在倫敦醒來 ｜ 換日線 C...    兩性   \n5         和失智長輩一起去旅行！六福旅遊的「喘息服務」，如何突破框架、打造新的生意？ | 經理人    旅遊   \n6                          Google用AI自動重新剪輯影片 | iThome    攝影   \n7   女人年過30還單身，沒什麼不好但總有點焦慮？看看這五種女人你是哪一種，釐清情緒才能做更好的自...    兩性   \n8       想拍出「高級大片」，光線很重要！電影劇組親授打光手法，不用網美濾鏡照樣能有超美照片-風傳媒    電影   \n9         荷蘭男性平均185公分！過人身高絕不只是基因優勢，「阿度仔」老爸公開飲食祕密…-風傳媒  醫療健康   \n10  契訶夫《海鷗》劇評：不是去想而是去做，不是去演而是去活 - The News Lens 關鍵評論網    影劇   \n11  美國公立學校有錢也不一定能進！真實經歷告訴你，資本主義的教育如何用錢堆出來 | BuzzOr...    育兒   \n12  「鑽石公主號」一天又增67名確診病例！美國明天將包機接回郵輪上380名美國公民及其家屬回國 ...  美妝保養   \n13  Gogoro 更新性能款 ABS 車型，推出石墨灰 Gogoro S2 ABS 與 S2 C...    汽車   \n14  從防疫學英文：確診病例、潛伏期、隔離檢疫，英文怎麼說？ - The News Lens 關鍵評論網  醫療健康   \n15  《1人健身》：維持肌力訓練的重點在於「管理你的意志力」 - The News Lens 關鍵評論網    健身   \n16                       2020年最新！十二生肖小孩,性格大解析。 - 天才領袖    育兒   \n17  CICA霜妳聽過嗎？保養界的新熱門成分～熱賣產品幫妳整理 | 美人會部落格 | VOGUE 時尚網  美妝保養   \n18                    食用月見草油調經，肌瘤體質勿亂補 – 媽媽經｜專屬於媽媽的網站    育兒   \n19                  「屁股走路」減重法，瘦小腹兼矯正骨盆 – 媽媽經｜專屬於媽媽的網站    育兒   \n20                愛面子還是真教育？強迫分享妨礙孩子自主權 – 媽媽經｜專屬於媽媽的網站    育兒   \n21  Levante真的有伴了！　Maserati第二款休旅確定2021年量產！ | 車壇新訊 |...    汽車   \n22                  經血顏色會說話！三茶飲加速經血排乾淨 – 媽媽經｜專屬於媽媽的網站    育兒   \n23                 228連假，多項公共運輸優惠鼓勵搭乘！ – 媽媽經｜專屬於媽媽的網站    育兒   \n24                     春天易上火！一碗【黑芝麻生薑紅糖粥】打擊「體內邪燥」、脾胃毛  醫療健康   \n25          2/25開學後，高中以下由教部供給口罩 （緊急備用） – 媽媽經｜專屬於媽媽的網站    育兒   \n26                  汽車線上：大改造Ford Mustang Mach 1成為千匹巨獸    汽車   \n27                盤點當年SARS疫情過後，中國有哪些行業真的逆襲了？ | 微信上的中國    兩岸   \n28          日本恐已出現隱性社區傳播　指揮中心：即起旅遊警示升為第一級 - Yahoo奇摩理財    旅遊   \n29                                      會員限定專屬下載／親子天下    育兒   \n30  「蟲蟲世界」攻佔臺灣燈會　森林機械巨蟲秀酷又帥 | ETtoday 旅遊雲 | ETtoda...    美食   \n31  「2020內湖草莓季」15日正式開跑！20家草莓園資訊懶人包 | ETtoday 旅遊雲 |...    美食   \n32  住進百年童話莊園！瑞士格林德瓦唯一5星飯店開箱　走3分鐘就到車站 | ETtoday 旅遊雲...    美食   \n33  救業績！犇鐵板燒30年來首度賣便當　阿霞飯店桌菜也能外送 | ETtoday 旅遊雲 | E...    美食   \n34  只有100人能搭！「超奢華遊艇」2021年啟航　開進世界最美麗海灣 | ETtoday 旅遊...    美食   \n35                      子瑜辣穿熱褲秀美腿！　原來就靠3招邊追劇邊輕鬆練｜每日健康  醫療健康   \n\n                                                   摘要  \\\n1   【我們為什麼選擇這篇文章？】 因應武漢肺炎防疫，菲律賓衛生部在 10 日突然宣佈把臺灣列入禁...   \n2   這篇文章談的雖然是臺德教養的差異，但並非要比較兩國教育方式的優劣，文中提到的差異性，是我站在...   \n3   每位移工，在臺灣一待就是 6 到 12 年，他們人生最精華的歲月，就在此開展與成長。臺灣不只...   \n4   在伊森霍克（Ethan Hawke）的 Instagram 上看到《紐約時報》這篇〈Befo...   \n5   創造一項新服務，僅從服務對象身上看到未被滿足的需求並不夠，因為使用者往往不知道自己需要什麼；...   \n6   Google以人工智慧技術重新剪裁16:9或是4:3長寬比的影片，讓影片更適合在各種螢幕大小...   \n7   在所有的讀者和身邊朋友中，過了三十歲，但「為什麼遇不到對的人」大概是最困擾每個人，尤其是女人...   \n8   人像打燈不僅是平面攝影師的必修技法，亦是動態攝影師增添人物魅力或情緒的關鍵祕訣；因此，除了常...   \n9   亞洲人對西方人的刻板印象就是人高馬大，而荷蘭男性的平均身高確實也高達185公分，硬是比臺灣男...   \n10  或許這就是契訶夫的劇本最有意思的地方，我們在閱讀他的戲劇時，比起想像裡面的情節、人物，我們更...   \n11  【我們為什麼選這本書：買槍，養馬，呼大麻：范琪斐的美國時間】 外界對於美國教育看似充滿翻身的...   \n12  美國駐日本東京大使館15日證實，為瞭解決停靠在日本橫濱港「鑽石公主號」郵輪上無法離開的美國公...   \n13  Gogoro 去年發表 Gogoro S2 ABS 車款以來，半年間創下近五千臺的銷售成績，...   \n14  這波病毒來勢洶洶，若你有密切關注相關消息的話，想必一定經常聽到「感染、潛伏期、確診病例......   \n15  研究人員針會各種金錢帶來的持續效應進行驗證。結果顯示，金錢確實會使人願意參與肌力訓練，但一旦...   \n16  2020年什麼生肖的孩子最歡？ 那個生肖最教不動？改變教養的一年來了， 今年會有大突破，從1...   \n17        咦，我只聽過BB霜和CC霜，又來個CICA霜？其實CICA（英文讀音“西卡”）霜跟BB   \n18  「每個月『那個來』前都會不舒服，來了又覺得不順」，很多人會拜託朋友從國外帶回來據說含有「月見...   \n19  「屁股走路」是個在家就能做到的簡單運動，減重成效也能展現在身體各個部位上，實在令人感到開心。...   \n20  如果你的孩子自主權強不想跟別人『分享』他的玩具，那就千萬不要帶來！」學校舉辦了一場活動，邀請...   \n21  先前曾傳出要推出第二款休旅的Maserati，在這兩年間反反覆覆的決策之下，最近終於是完全確...   \n22  每次月經來潮都是子宮內膜大掃除的時候，經血顏色也可能反應健康狀況，但許多女性有經期後段滴滴答...   \n23  228連假即將到來，為鼓勵民眾連假多搭公共運輸、紓解交通壅塞，交通部公路總局推出多項優惠，包...   \n24  中醫認為「冬不藏精，春必病瘟」，經過去年的暖冬之後，腎精失常，我們迎來了「多病之春」。在這個...   \n25  教育部2/15（六）發布通知，目前教育部已統籌備用口罩645萬片、酒精8.4萬公升，額溫槍2...   \n26  當一輛車被稱之為「Hitman」，你最後對它保持著敬畏之心，因為它有可能會傷害到你。一家專門...   \n27                                                  …   \n28  新型冠狀病毒肺炎（武漢肺炎，COVID-19）持續延燒，中央流行疫情指揮中心今（14）日表示...   \n29  親子天下會員專屬好物下載，無論是親職教育專家講座精華、全臺特色公園集錦、小行星著色畫，只要登...   \n30  臺、法合作「森林機械巨蟲秀」，首度在2020臺灣燈會後裏森林園區科技展演燈區登場，臺中市政府...   \n31  採草莓不一定要到苗栗！「2020內湖草莓季」於今（15日）正式開跑，北市府產業局也貼心準備2...   \n32  想要前往少女峯，有世界最美小鎮美稱的格林德瓦是必經之地，許多人也會選擇入住在當地旅館，享受在...   \n33  新冠肺炎疫情持續影響大家出外用餐意願，各家餐廳也推出外送搶救業績，就連頂級鐵板燒業者犇鐵板燒...   \n34  Emerald Yacht Cruises首艘新船Emerald Azzurra身長110公...   \n35  韓國女團「TWICE」最近成為韓國遊戲「突擊風暴」的「Candy TWICE」角色人物，前天...   \n\n                                                   連結  \n1   https://buzzorange.com/2020/02/15/philippines-...  \n2   https://crossing.cw.com.tw/article/11984?utm_s...  \n3   https://crossing.cw.com.tw/article/12979?utm_s...  \n4   https://crossing.cw.com.tw/article/12976?utm_s...  \n5   https://www.managertoday.com.tw/columns/view/5...  \n6               https://www.ithome.com.tw/news/135833  \n7              https://www.storm.mg/lifestyle/2292195  \n8              https://www.storm.mg/lifestyle/2283834  \n9               https://www.storm.mg/lifestyle/353189  \n10          http://www.thenewslens.com/article/130551  \n11  https://buzzorange.com/2018/04/20/gun-horse-ma...  \n12  https://www.techbang.com/posts/76221-us-charte...  \n13  https://www.techbang.com/posts/76199-2020-gogo...  \n14  https://www.thenewslens.com/article/131241?utm...  \n15  https://www.thenewslens.com/article/130630?utm...  \n16  https://www.leaderkid.com.tw/2020/02/15/2020%e...  \n17  https://www.vogue.com.tw/beautyblog/sisterjenn...  \n18  https://mamaclub.com/learn/%e9%a3%9f%e7%94%a8%...  \n19  https://mamaclub.com/learn/%e3%80%8c%e5%b1%81%...  \n20  https://mamaclub.com/learn/%e6%84%9b%e9%9d%a2%...  \n21     https://autos.udn.com/autos/story/7826/4347062  \n22  https://mamaclub.com/learn/%e7%b6%93%e8%a1%80%...  \n23  https://mamaclub.com/learn/228%e9%80%a3%e5%81%...  \n24   https://healthylives.tw/Article/vBeHmlBQcHX.html  \n25  https://mamaclub.com/learn/%e9%96%8b%e5%ad%b8%...  \n26          https://www.auto-online.com.tw/news/33254  \n27                      https://chinaqna.com/a/105377  \n28                     http://user74046.psee.io/NATQY  \n29  https://member.parenting.com.tw/download?utm_s...  \n30     https://travel.ettoday.net/article/1646404.htm  \n31     https://travel.ettoday.net/article/1646361.htm  \n32     https://travel.ettoday.net/article/1646357.htm  \n33     https://travel.ettoday.net/article/1646310.htm  \n34     https://travel.ettoday.net/article/1638456.htm  \n35  https://healthylives.tw/article/lVAZb7QkA7j.ht...  "
     },
     "execution_count": 1,
     "metadata": {},
     "output_type": "execute_result"
    }
   ],
   "source": [
    "from bs4 import BeautifulSoup\n",
    "from selenium import webdriver\n",
    "from selenium.webdriver.common.keys import Keys\n",
    "import time\n",
    "import pandas as pd\n",
    "\n",
    "url = \"https://www.cupoy.com/newsfeed/topicgrp/life_tw\"\n",
    "\n",
    "browser = webdriver.Chrome(\n",
    "    executable_path='E:\\Project\\\\1st-PyCrawlerMarathon\\chromedriver\\chromedriver.exe')\n",
    "browser.get(url)\n",
    "time.sleep(5)\n",
    "\n",
    "article_count = 1\n",
    "target_count = 35\n",
    "article_url = []\n",
    "article_content = {}\n",
    "\n",
    "keepGoing = True\n",
    "\n",
    "while keepGoing:\n",
    "    html = browser.page_source\n",
    "    soup = BeautifulSoup(html, \"lxml\")\n",
    "\n",
    "    news_block = soup.find_all('div', class_='sc-eEieub sc-iuDHTM ibJqYc')\n",
    "\n",
    "    for news_item in news_block:\n",
    "        url = news_item.find('a', class_='sc-RbTVP sc-kEmuub eSJXii').get(\"href\")\n",
    "        article_content.setdefault(article_count, {})\n",
    "\n",
    "        if url not in article_url and article_count < target_count:\n",
    "            article_url.append(url)\n",
    "            article_content[article_count]['標題'] = news_item.find('h6').string\n",
    "            article_content[article_count]['分類'] = news_item.find('div', class_='sc-gacfCG bPSpUf').string\n",
    "            article_content[article_count]['摘要'] = news_item.find('p', class_='sc-FQuPU sc-ciodno bvnzOw').string\n",
    "            article_content[article_count]['連結'] = url\n",
    "            article_count += 1\n",
    "        elif url not in article_url and article_count == target_count:    \n",
    "            article_content[article_count]['標題'] = news_item.find('h6').string\n",
    "            article_content[article_count]['分類'] = news_item.find('div', class_='sc-gacfCG bPSpUf').string\n",
    "            article_content[article_count]['摘要'] = news_item.find('p', class_='sc-FQuPU sc-ciodno bvnzOw').string\n",
    "            article_content[article_count]['連結'] = url               \n",
    "            keepGoing = False\n",
    "\n",
    "    time.sleep(2)\n",
    "    browser.execute_script(\"window.scrollBy(0,10000)\")\n",
    "\n",
    "# print(article_content)\n",
    "pd.set_option('display.max_columns',5) #a就是你要设置显示的最大列数参数\n",
    "\n",
    "\n",
    "frame = pd.DataFrame(article_content)\n",
    "frame.T"
   ]
  },
  {
   "cell_type": "code",
   "execution_count": null,
   "metadata": {},
   "outputs": [],
   "source": []
  }
 ]
}