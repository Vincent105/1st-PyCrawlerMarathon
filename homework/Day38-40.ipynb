{
 "nbformat": 4,
 "nbformat_minor": 2,
 "metadata": {
  "language_info": {
   "name": "python",
   "codemirror_mode": {
    "name": "ipython",
    "version": 3
   },
   "version": "3.7.5-final"
  },
  "orig_nbformat": 2,
  "file_extension": ".py",
  "mimetype": "text/x-python",
  "name": "python",
  "npconvert_exporter": "python",
  "pygments_lexer": "ipython3",
  "version": 3,
  "kernelspec": {
   "name": "python37564bitvirtualenvfe5bae16d3f743aca73bce467ebd2e37",
   "display_name": "Python 3.7.5 64-bit (virtualenv)"
  }
 },
 "cells": [
  {
   "cell_type": "code",
   "execution_count": 1,
   "metadata": {},
   "outputs": [
    {
     "name": "stdout",
     "output_type": "stream",
     "text": "標題    分類  \\\n1   【耗時 100 小時！菲律賓對臺政策髮夾彎】強人杜特地解除對臺禁令的關鍵，竟是「自己人」？ ...    旅遊   \n2   傾聽、溝通、尊重，德國父母教孩子「自己做決定」，就算是 3 歲也一樣！ ｜ 書宜在德國 ｜ ...    育兒   \n3   【圖輯】這一次，由東南亞移工拍攝他們眼裡的臺灣（下） ｜ One-Forty ｜ 換日線 C...    攝影   \n4   《愛在黎明破曉時》：25 歲的經典、90 年代的愛情 ｜ 陳怡潔／在倫敦醒來 ｜ 換日線 C...    兩性   \n5         和失智長輩一起去旅行！六福旅遊的「喘息服務」，如何突破框架、打造新的生意？ | 經理人    旅遊   \n6                          Google用AI自動重新剪輯影片 | iThome    攝影   \n7   女人年過30還單身，沒什麼不好但總有點焦慮？看看這五種女人你是哪一種，釐清情緒才能做更好的自...    兩性   \n8       想拍出「高級大片」，光線很重要！電影劇組親授打光手法，不用網美濾鏡照樣能有超美照片-風傳媒    電影   \n9         荷蘭男性平均185公分！過人身高絕不只是基因優勢，「阿度仔」老爸公開飲食祕密…-風傳媒  醫療健康   \n10  契訶夫《海鷗》劇評：不是去想而是去做，不是去演而是去活 - The News Lens 關鍵評論網    影劇   \n11  美國公立學校有錢也不一定能進！真實經歷告訴你，資本主義的教育如何用錢堆出來 | BuzzOr...    育兒   \n12  「鑽石公主號」一天又增67名確診病例！美國明天將包機接回郵輪上380名美國公民及其家屬回國 ...  美妝保養   \n13  Gogoro 更新性能款 ABS 車型，推出石墨灰 Gogoro S2 ABS 與 S2 C...    汽車   \n14  從防疫學英文：確診病例、潛伏期、隔離檢疫，英文怎麼說？ - The News Lens 關鍵評論網  醫療健康   \n15  《1人健身》：維持肌力訓練的重點在於「管理你的意志力」 - The News Lens 關鍵評論網    健身   \n16         全球第二重災區》新加坡人口560萬 卻爆發5個羣聚感染67人確診武漢肺炎 | 信傳媒  醫療健康   \n17                  經血顏色會說話！三茶飲加速經血排乾淨 – 媽媽經｜專屬於媽媽的網站    育兒   \n18                 228連假，多項公共運輸優惠鼓勵搭乘！ – 媽媽經｜專屬於媽媽的網站    育兒   \n19                     春天易上火！一碗【黑芝麻生薑紅糖粥】打擊「體內邪燥」、脾胃毛  醫療健康   \n20          2/25開學後，高中以下由教部供給口罩 （緊急備用） – 媽媽經｜專屬於媽媽的網站    育兒   \n21                      子瑜辣穿熱褲秀美腿！　原來就靠3招邊追劇邊輕鬆練｜每日健康  醫療健康   \n22                盤點當年SARS疫情過後，中國有哪些行業真的逆襲了？ | 微信上的中國    兩岸   \n23          日本恐已出現隱性社區傳播　指揮中心：即起旅遊警示升為第一級 - Yahoo奇摩理財    旅遊   \n24    優質暖男玄彬／身價破億　坐擁江南區名宅 P1 | 好房網雜誌 NO.19 |  好房網News    影劇   \n25  何美鄉：武漢肺炎封城效果有限，臺灣防疫更要爭取時間！ ｜ 何美鄉主講、謝元凱整理 ／ 大愛電...  醫療健康   \n26   低醣飲食怎麼吃？掌握 5 原則，先控制糖和澱粉攝取量 | 照護線上 | 健康遠見 - 對身體好！  醫療健康   \n27                            日本疫情升溫　衝擊赴日旅遊 | 好房網News    旅遊   \n28               日本疑現新冠肺炎社區感染　我提升日旅遊警示第一級注意 | 好房網News    旅遊   \n29                       什麼星座的爸媽吃軟不吃硬？ – 媽媽經｜專屬於媽媽的網站    育兒   \n30               【星座運勢】吃軟不吃硬！吵架最兇狠的星座女 – 媽媽經｜專屬於媽媽的網站    育兒   \n31           新冠肺炎在武漢！澳洲分批撤僑，返澳被隔離的真實生活 – 媽媽經｜專屬於媽媽的網站    育兒   \n32  「蟲蟲世界」攻佔臺灣燈會　森林機械巨蟲秀酷又帥 | ETtoday 旅遊雲 | ETtoda...    美食   \n33  「2020內湖草莓季」15日正式開跑！20家草莓園資訊懶人包 | ETtoday 旅遊雲 |...    美食   \n34  從臺灣出發的飛機延誤了，竟然不會理賠！出國買「旅遊不便險」，必知5不賠-MY83 保險網-保...    理財   \n35                2020臺北燈節 攜手拍美照打卡 留下浪漫回憶-欣攝影-欣傳媒攝影頻道    攝影   \n\n                                                   摘要  \\\n1   【我們為什麼選擇這篇文章？】 因應武漢肺炎防疫，菲律賓衛生部在 10 日突然宣佈把臺灣列入禁...   \n2   這篇文章談的雖然是臺德教養的差異，但並非要比較兩國教育方式的優劣，文中提到的差異性，是我站在...   \n3   每位移工，在臺灣一待就是 6 到 12 年，他們人生最精華的歲月，就在此開展與成長。臺灣不只...   \n4   在伊森霍克（Ethan Hawke）的 Instagram 上看到《紐約時報》這篇〈Befo...   \n5   創造一項新服務，僅從服務對象身上看到未被滿足的需求並不夠，因為使用者往往不知道自己需要什麼；...   \n6   Google以人工智慧技術重新剪裁16:9或是4:3長寬比的影片，讓影片更適合在各種螢幕大小...   \n7   在所有的讀者和身邊朋友中，過了三十歲，但「為什麼遇不到對的人」大概是最困擾每個人，尤其是女人...   \n8   人像打燈不僅是平面攝影師的必修技法，亦是動態攝影師增添人物魅力或情緒的關鍵祕訣；因此，除了常...   \n9   亞洲人對西方人的刻板印象就是人高馬大，而荷蘭男性的平均身高確實也高達185公分，硬是比臺灣男...   \n10  或許這就是契訶夫的劇本最有意思的地方，我們在閱讀他的戲劇時，比起想像裡面的情節、人物，我們更...   \n11  【我們為什麼選這本書：買槍，養馬，呼大麻：范琪斐的美國時間】 外界對於美國教育看似充滿翻身的...   \n12  美國駐日本東京大使館15日證實，為瞭解決停靠在日本橫濱港「鑽石公主號」郵輪上無法離開的美國公...   \n13  Gogoro 去年發表 Gogoro S2 ABS 車款以來，半年間創下近五千臺的銷售成績，...   \n14  這波病毒來勢洶洶，若你有密切關注相關消息的話，想必一定經常聽到「感染、潛伏期、確診病例......   \n15  研究人員針會各種金錢帶來的持續效應進行驗證。結果顯示，金錢確實會使人願意參與肌力訓練，但一旦...   \n16           中國官方數據顯示，武漢肺炎（2019新冠病毒）確診人數15日增至66492，並持   \n17  每次月經來潮都是子宮內膜大掃除的時候，經血顏色也可能反應健康狀況，但許多女性有經期後段滴滴答...   \n18  228連假即將到來，為鼓勵民眾連假多搭公共運輸、紓解交通壅塞，交通部公路總局推出多項優惠，包...   \n19  中醫認為「冬不藏精，春必病瘟」，經過去年的暖冬之後，腎精失常，我們迎來了「多病之春」。在這個...   \n20  教育部2/15（六）發布通知，目前教育部已統籌備用口罩645萬片、酒精8.4萬公升，額溫槍2...   \n21  韓國女團「TWICE」最近成為韓國遊戲「突擊風暴」的「Candy TWICE」角色人物，前天...   \n22                                                  …   \n23  新型冠狀病毒肺炎（武漢肺炎，COVID-19）持續延燒，中央流行疫情指揮中心今（14）日表示...   \n24  《我叫金三順》、《祕密花園》讓反骨踏上演藝路的玄彬名氣一路推高，累積的財富足夠他在首爾的江南...   \n25  21世紀出現一個新名詞「一個健康」（One Health），意思是「人類的健康跟周遭的生物，...   \n26  所謂的三大營養來源，是指碳水化合物、脂肪、蛋白質。我們每天進食也都是在吃這些東西，一項食物裡...   \n27  新冠肺炎疫情延燒，持續衝擊海外旅遊市場，繼中國、港澳與郵輪旅遊之後，日本因出現首例死亡病例，...   \n28  日本國內的新冠肺炎（COVID-19）疫情，截至14日中午為止，共有252確診病例，包含鑽石...   \n29  會溫柔地照顧人，可是他也有情緒化的時候，如果你是他的小孩，你一定要順著他的毛摸。只要你能講一...   \n30  當媽後常被說老是兇巴巴，但我們又何嘗願意這麼兇？完全是原則問題！尤其是面對孩子的教養或是孩子...   \n31  疫情發生後，為控制病毒擴散，1月23日，武漢封城。回國探親的數百名澳洲公民和PR突然被困在了...   \n32  臺、法合作「森林機械巨蟲秀」，首度在2020臺灣燈會後裏森林園區科技展演燈區登場，臺中市政府...   \n33  採草莓不一定要到苗栗！「2020內湖草莓季」於今（15日）正式開跑，北市府產業局也貼心準備2...   \n34  保了旅遊不便險，就是要讓自己在發生倒楣事時，能夠獲得金錢補償，彌補自己受傷的心靈。但如果再沒...   \n35  網紅視網膜手把手教你 四種個性的燈區告白法要補過情人節的，就先來看這邊啦！去哪裡約會好呢？快...   \n\n                                                   連結  \n1   https://buzzorange.com/2020/02/15/philippines-...  \n2   https://crossing.cw.com.tw/article/11984?utm_s...  \n3   https://crossing.cw.com.tw/article/12979?utm_s...  \n4   https://crossing.cw.com.tw/article/12976?utm_s...  \n5   https://www.managertoday.com.tw/columns/view/5...  \n6               https://www.ithome.com.tw/news/135833  \n7              https://www.storm.mg/lifestyle/2292195  \n8              https://www.storm.mg/lifestyle/2283834  \n9               https://www.storm.mg/lifestyle/353189  \n10          http://www.thenewslens.com/article/130551  \n11  https://buzzorange.com/2018/04/20/gun-horse-ma...  \n12  https://www.techbang.com/posts/76221-us-charte...  \n13  https://www.techbang.com/posts/76199-2020-gogo...  \n14  https://www.thenewslens.com/article/131241?utm...  \n15  https://www.thenewslens.com/article/130630?utm...  \n16     https://www.cmmedia.com.tw/home/articles/19920  \n17  https://mamaclub.com/learn/%e7%b6%93%e8%a1%80%...  \n18  https://mamaclub.com/learn/228%e9%80%a3%e5%81%...  \n19   https://healthylives.tw/Article/vBeHmlBQcHX.html  \n20  https://mamaclub.com/learn/%e9%96%8b%e5%ad%b8%...  \n21  https://healthylives.tw/article/lVAZb7QkA7j.ht...  \n22                      https://chinaqna.com/a/105377  \n23                     http://user74046.psee.io/NATQY  \n24  https://news.housefun.com.tw/mag/hf/19/article...  \n25  https://opinion.cw.com.tw/blog/profile/466/art...  \n26  https://health.gvm.com.tw/article.html?id=7026...  \n27  https://news.housefun.com.tw/news/article/4221...  \n28  https://news.housefun.com.tw/news/article/1518...  \n29  https://mamaclub.com/learn/%e4%bb%80%e9%ba%bc%...  \n30  https://mamaclub.com/learn/%e5%90%83%e8%bb%9f%...  \n31  https://mamaclub.com/learn/%e6%96%b0%e5%86%a0%...  \n32     https://travel.ettoday.net/article/1646404.htm  \n33     https://travel.ettoday.net/article/1646361.htm  \n34  https://wealth.businessweekly.com.tw/m/GArticl...  \n35  https://solomo.xinmedia.com/photo/178361-2020l...  \n"
    }
   ],
   "source": [
    "from bs4 import BeautifulSoup\n",
    "from selenium import webdriver\n",
    "from selenium.webdriver.common.keys import Keys\n",
    "import time\n",
    "import pandas as pd\n",
    "\n",
    "url = \"https://www.cupoy.com/newsfeed/topicgrp/life_tw\"\n",
    "\n",
    "browser = webdriver.Chrome(\n",
    "    executable_path='E:\\Project\\\\1st-PyCrawlerMarathon\\chromedriver\\chromedriver.exe')\n",
    "browser.get(url)\n",
    "time.sleep(5)\n",
    "\n",
    "article_count = 1\n",
    "target_count = 35\n",
    "article_url = []\n",
    "article_content = {}\n",
    "\n",
    "keepGoing = True\n",
    "\n",
    "while keepGoing:\n",
    "    html = browser.page_source\n",
    "    soup = BeautifulSoup(html, \"lxml\")\n",
    "\n",
    "    news_block = soup.find_all('div', class_='sc-eEieub sc-iuDHTM ibJqYc')\n",
    "\n",
    "    for news_item in news_block:\n",
    "        url = news_item.find('a', class_='sc-RbTVP sc-kEmuub eSJXii').get(\"href\")\n",
    "        article_content.setdefault(article_count, {})\n",
    "\n",
    "        if url not in article_url and article_count < target_count:\n",
    "            article_url.append(url)\n",
    "            article_content[article_count]['標題'] = news_item.find('h6').text\n",
    "            article_content[article_count]['分類'] = news_item.find('div', class_='sc-gacfCG bPSpUf').string\n",
    "            article_content[article_count]['摘要'] = news_item.find('p', class_='sc-FQuPU sc-ciodno bvnzOw').string\n",
    "            article_content[article_count]['連結'] = url\n",
    "            article_count += 1\n",
    "        elif url not in article_url and article_count == target_count:    \n",
    "            article_content[article_count]['標題'] = news_item.find('h6').text\n",
    "            article_content[article_count]['分類'] = news_item.find('div', class_='sc-gacfCG bPSpUf').string\n",
    "            article_content[article_count]['摘要'] = news_item.find('p', class_='sc-FQuPU sc-ciodno bvnzOw').string\n",
    "            article_content[article_count]['連結'] = url               \n",
    "            keepGoing = False\n",
    "\n",
    "    time.sleep(2)\n",
    "    browser.execute_script(\"window.scrollBy(0,10000)\")\n",
    "\n",
    "# print(article_content)\n",
    "\n",
    "frame = pd.DataFrame(article_content)\n",
    "print(frame.T)"
   ]
  }
 ]
}