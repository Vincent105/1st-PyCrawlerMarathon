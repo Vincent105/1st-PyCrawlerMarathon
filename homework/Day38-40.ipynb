{
 "nbformat": 4,
 "nbformat_minor": 2,
 "metadata": {
  "language_info": {
   "name": "python",
   "codemirror_mode": {
    "name": "ipython",
    "version": 3
   },
   "version": "3.7.5-final"
  },
  "orig_nbformat": 2,
  "file_extension": ".py",
  "mimetype": "text/x-python",
  "name": "python",
  "npconvert_exporter": "python",
  "pygments_lexer": "ipython3",
  "version": 3,
  "kernelspec": {
   "name": "python37564bitvirtualenvfe5bae16d3f743aca73bce467ebd2e37",
   "display_name": "Python 3.7.5 64-bit (virtualenv)"
  }
 },
 "cells": [
  {
   "cell_type": "code",
   "execution_count": 1,
   "metadata": {},
   "outputs": [],
   "source": [
    "from bs4 import BeautifulSoup\n",
    "from selenium import webdriver\n",
    "from selenium.webdriver.common.keys import Keys\n",
    "import time\n",
    "import pandas as pd\n",
    "\n",
    "url = \"https://www.cupoy.com/newsfeed/topicgrp/life_tw\"\n",
    "\n",
    "browser = webdriver.Chrome(\n",
    "    executable_path='E:\\Project\\\\1st-PyCrawlerMarathon\\chromedriver\\chromedriver.exe')\n",
    "browser.get(url)\n",
    "time.sleep(5)\n",
    "\n",
    "article_count = 1\n",
    "target_count = 35\n",
    "article_url = []\n",
    "article_content = {}\n",
    "\n",
    "keepGoing = True\n",
    "\n",
    "while keepGoing:\n",
    "    html = browser.page_source\n",
    "    soup = BeautifulSoup(html, \"lxml\")\n",
    "\n",
    "    news_block = soup.find_all('div', class_='sc-eEieub sc-iuDHTM ibJqYc')\n",
    "\n",
    "    for news_item in news_block:\n",
    "        url = news_item.find('a', class_='sc-RbTVP sc-kEmuub eSJXii').get(\"href\")\n",
    "        article_content.setdefault(article_count, {})\n",
    "\n",
    "        if url not in article_url and article_count < target_count:\n",
    "            article_url.append(url)\n",
    "            article_content[article_count]['標題'] = news_item.find('h6').text\n",
    "            article_content[article_count]['分類'] = news_item.find('div', class_='sc-gacfCG bPSpUf').string\n",
    "            article_content[article_count]['摘要'] = news_item.find('p', class_='sc-FQuPU sc-ciodno bvnzOw').string\n",
    "            article_content[article_count]['連結'] = url\n",
    "            article_count += 1\n",
    "        elif url not in article_url and article_count == target_count:    \n",
    "            article_content[article_count]['標題'] = news_item.find('h6').text\n",
    "            article_content[article_count]['分類'] = news_item.find('div', class_='sc-gacfCG bPSpUf').string\n",
    "            article_content[article_count]['摘要'] = news_item.find('p', class_='sc-FQuPU sc-ciodno bvnzOw').string\n",
    "            article_content[article_count]['連結'] = url               \n",
    "            keepGoing = False\n",
    "\n",
    "    time.sleep(2)\n",
    "    browser.execute_script(\"window.scrollBy(0,10000)\")\n",
    "\n",
    "# print(article_content)\n",
    "\n",
    "frame = pd.DataFrame(article_content)\n",
    "print(frame.T)"
   ]
  }
 ]
}