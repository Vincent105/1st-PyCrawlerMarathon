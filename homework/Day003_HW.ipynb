{
 "cells": [
  {
   "cell_type": "markdown",
   "metadata": {},
   "source": [
    "# Python 下載XML檔案與解析\n",
    "\n",
    "\n",
    "* 了解 xml 檔案格式與內容\n",
    "* 能夠利用套件存取 xml 格式的檔案\n"
   ]
  },
  {
   "cell_type": "markdown",
   "execution_count": null,
   "metadata": {},
   "outputs": [],
   "source": [
    "## 下載檔案"
   ]
  },
  {
   "cell_type": "code",
   "execution_count": 9,
   "metadata": {},
   "outputs": [
    {
     "name": "stdout",
     "output_type": "stream",
     "text": "09007_72hr_CH.xml\n09007_72hr_EN.xml\n09007_Week24_CH.xml\n09007_Week24_EN.xml\n09007_Weekday_CH.xml\n09007_Weekday_EN.xml\n09020_72hr_CH.xml\n09020_72hr_EN.xml\n09020_Week24_CH.xml\n09020_Week24_EN.xml\n09020_Weekday_CH.xml\n09020_Weekday_EN.xml\n10002_72hr_CH.xml\n10002_72hr_EN.xml\n10002_Week24_CH.xml\n10002_Week24_EN.xml\n10002_Weekday_CH.xml\n10002_Weekday_EN.xml\n10004_72hr_CH.xml\n10004_72hr_EN.xml\n10004_Week24_CH.xml\n10004_Week24_EN.xml\n10004_Weekday_CH.xml\n10004_Weekday_EN.xml\n10005_72hr_CH.xml\n10005_72hr_EN.xml\n10005_Week24_CH.xml\n10005_Week24_EN.xml\n10005_Weekday_CH.xml\n10005_Weekday_EN.xml\n10007_72hr_CH.xml\n10007_72hr_EN.xml\n10007_Week24_CH.xml\n10007_Week24_EN.xml\n10007_Weekday_CH.xml\n10007_Weekday_EN.xml\n10008_72hr_CH.xml\n10008_72hr_EN.xml\n10008_Week24_CH.xml\n10008_Week24_EN.xml\n10008_Weekday_CH.xml\n10008_Weekday_EN.xml\n10009_72hr_CH.xml\n10009_72hr_EN.xml\n10009_Week24_CH.xml\n10009_Week24_EN.xml\n10009_Weekday_CH.xml\n10009_Weekday_EN.xml\n10010_72hr_CH.xml\n10010_72hr_EN.xml\n10010_Week24_CH.xml\n10010_Week24_EN.xml\n10010_Weekday_CH.xml\n10010_Weekday_EN.xml\n10013_72hr_CH.xml\n10013_72hr_EN.xml\n10013_Week24_CH.xml\n10013_Week24_EN.xml\n10013_Weekday_CH.xml\n10013_Weekday_EN.xml\n10014_72hr_CH.xml\n10014_72hr_EN.xml\n10014_Week24_CH.xml\n10014_Week24_EN.xml\n10014_Weekday_CH.xml\n10014_Weekday_EN.xml\n10015_72hr_CH.xml\n10015_72hr_EN.xml\n10015_Week24_CH.xml\n10015_Week24_EN.xml\n10015_Weekday_CH.xml\n10015_Weekday_EN.xml\n10016_72hr_CH.xml\n10016_72hr_EN.xml\n10016_Week24_CH.xml\n10016_Week24_EN.xml\n10016_Weekday_CH.xml\n10016_Weekday_EN.xml\n10017_72hr_CH.xml\n10017_72hr_EN.xml\n10017_Week24_CH.xml\n10017_Week24_EN.xml\n10017_Weekday_CH.xml\n10017_Weekday_EN.xml\n10018_72hr_CH.xml\n10018_72hr_EN.xml\n10018_Week24_CH.xml\n10018_Week24_EN.xml\n10018_Weekday_CH.xml\n10018_Weekday_EN.xml\n10020_72hr_CH.xml\n10020_72hr_EN.xml\n10020_Week24_CH.xml\n10020_Week24_EN.xml\n10020_Weekday_CH.xml\n10020_Weekday_EN.xml\n63_72hr_CH.xml\n63_72hr_EN.xml\n63_Week24_CH.xml\n63_Week24_EN.xml\n63_Weekday_CH.xml\n63_Weekday_EN.xml\n64_72hr_CH.xml\n64_72hr_EN.xml\n64_Week24_CH.xml\n64_Week24_EN.xml\n64_Weekday_CH.xml\n64_Weekday_EN.xml\n65_72hr_CH.xml\n65_72hr_EN.xml\n65_Week24_CH.xml\n65_Week24_EN.xml\n65_Weekday_CH.xml\n65_Weekday_EN.xml\n66_72hr_CH.xml\n66_72hr_EN.xml\n66_Week24_CH.xml\n66_Week24_EN.xml\n66_Weekday_CH.xml\n66_Weekday_EN.xml\n67_72hr_CH.xml\n67_72hr_EN.xml\n67_Week24_CH.xml\n67_Week24_EN.xml\n67_Weekday_CH.xml\n67_Weekday_EN.xml\n68_72hr_CH.xml\n68_72hr_EN.xml\n68_Week24_CH.xml\n68_Week24_EN.xml\n68_Weekday_CH.xml\n68_Weekday_EN.xml\nexample.csv\nHomework.txt\nsample.xml\nsample.zip\nTAIWAN_72hr_CH.xml\nTAIWAN_72hr_EN.xml\nTAIWAN_Week24_CH.xml\nTAIWAN_Week24_EN.xml\nTAIWAN_Weekday_CH.xml\nTAIWAN_Weekday_EN.xml\n"
    }
   ],
   "source": [
    "import os, sys\n",
    "\n",
    "dirs = os.listdir('./data')\n",
    "\n",
    "for file in dirs:\n",
    "    print(file)"
   ]
  },
  {
   "cell_type": "code",
   "execution_count": 6,
   "metadata": {},
   "outputs": [],
   "source": [
    "import urllib.request\n",
    "import zipfile\n",
    "res = \"http://opendata.cwb.gov.tw/govdownload?dataid=F-D0047-093&authorizationkey=rdec-key-123-45678-011121314\"\n",
    "urllib.request.urlretrieve(res,'./data/sample.zip')\n",
    "\n",
    "f = zipfile.ZipFile('./data/sample.zip')\n",
    "f.extractall('./data')\n"
   ]
  },
  {
   "cell_type": "markdown",
   "execution_count": null,
   "metadata": {},
   "outputs": [],
   "source": [
    "## 測試存取 XML 的三種套件\n"
   ]
  },
  {
   "cell_type": "code",
   "execution_count": 10,
   "metadata": {},
   "outputs": [
    {
     "name": "stdout",
     "output_type": "stream",
     "text": "爬蟲⾺拉松\n靜態網⾴爬蟲\n01 資料來源與存取\n02 靜態網⾴爬蟲\n03 動態網⾴爬蟲\n"
    }
   ],
   "source": [
    "import xml.dom.minidom\n",
    "\n",
    "# 存取檔案\n",
    "doc = xml.dom.minidom.parse('./data/sample.xml')\n",
    "\n",
    "# 取得單一節點content\n",
    "print(doc.getElementsByTagName('Title')[0].firstChild.nodeValue)\n",
    "\n",
    "chapters = doc.getElementsByTagName('Chapter')\n",
    "\n",
    "# 利用迴圈取得所有節點attribute,content\n",
    "for chapter in chapters:\n",
    "    print(chapter.getAttribute('name'),chapter.firstChild.nodeValue)"
   ]
  },
  {
   "cell_type": "code",
   "execution_count": 15,
   "metadata": {},
   "outputs": [
    {
     "name": "stdout",
     "output_type": "stream",
     "text": "Wei\n"
    }
   ],
   "source": [
    "import xml.etree.ElementTree as ET\n",
    "\n",
    "tree = ET.parse('./data/sample.xml')\n",
    "root = tree.getroot()\n",
    "\n",
    "print(root[0].text)"
   ]
  },
  {
   "cell_type": "markdown",
   "metadata": {},
   "source": [
    "### 比較一下範例檔案中的「File I/O」與「xmltodict」讀出來的內容有什麼差異\n"
   ]
  },
  {
   "cell_type": "code",
   "execution_count": null,
   "metadata": {},
   "outputs": [],
   "source": [
    "'''\n",
    "Your Code\n",
    "'''"
   ]
  },
  {
   "cell_type": "markdown",
   "metadata": {},
   "source": [
    "### 根據範例檔案的結果：\n",
    "\n",
    "1. 請問高雄市有多少地區有溫度資料？\n",
    "2. 請取出每一個地區所記錄的第一個時間點跟溫度\n",
    "3. 請取出第一個地區所記錄的每一個時間點跟溫度"
   ]
  },
  {
   "cell_type": "code",
   "execution_count": 2,
   "metadata": {},
   "outputs": [],
   "source": [
    "# 1. 請問高雄市有多少地區有溫度資料？\n",
    "\n",
    "'''\n",
    "Your Code\n",
    "'''"
   ]
  },
  {
   "cell_type": "code",
   "execution_count": null,
   "metadata": {},
   "outputs": [],
   "source": [
    "# 2. 請取出每一個地區所記錄的第一個時間點跟溫度\n",
    "\n",
    "'''\n",
    "Your Code\n",
    "'''"
   ]
  },
  {
   "cell_type": "code",
   "execution_count": null,
   "metadata": {},
   "outputs": [],
   "source": [
    "# 3. 請取出第一個地區所記錄的每一個時間點跟溫度\n",
    "\n",
    "'''\n",
    "Your Code\n",
    "'''"
   ]
  },
  {
   "cell_type": "code",
   "execution_count": null,
   "metadata": {},
   "outputs": [],
   "source": []
  }
 ],
 "metadata": {
  "kernelspec": {
   "display_name": "Python 3",
   "language": "python",
   "name": "python3"
  },
  "language_info": {
   "codemirror_mode": {
    "name": "ipython",
    "version": 3
   },
   "file_extension": ".py",
   "mimetype": "text/x-python",
   "name": "python",
   "nbconvert_exporter": "python",
   "pygments_lexer": "ipython3",
   "version": "3.7.4"
  }
 },
 "nbformat": 4,
 "nbformat_minor": 2
}