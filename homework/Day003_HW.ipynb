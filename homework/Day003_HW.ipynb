{
 "cells": [
  {
   "cell_type": "markdown",
   "metadata": {},
   "source": [
    "# Python 下載XML檔案與解析\n",
    "\n",
    "\n",
    "* 了解 xml 檔案格式與內容\n",
    "* 能夠利用套件存取 xml 格式的檔案\n"
   ]
  },
  {
   "cell_type": "markdown",
   "execution_count": null,
   "metadata": {},
   "outputs": [],
   "source": [
    "## 下載檔案"
   ]
  },
  {
   "cell_type": "code",
   "execution_count": 9,
   "metadata": {},
   "outputs": [
    {
     "name": "stdout",
     "output_type": "stream",
     "text": "09007_72hr_CH.xml\n09007_72hr_EN.xml\n09007_Week24_CH.xml\n09007_Week24_EN.xml\n09007_Weekday_CH.xml\n09007_Weekday_EN.xml\n09020_72hr_CH.xml\n09020_72hr_EN.xml\n09020_Week24_CH.xml\n09020_Week24_EN.xml\n09020_Weekday_CH.xml\n09020_Weekday_EN.xml\n10002_72hr_CH.xml\n10002_72hr_EN.xml\n10002_Week24_CH.xml\n10002_Week24_EN.xml\n10002_Weekday_CH.xml\n10002_Weekday_EN.xml\n10004_72hr_CH.xml\n10004_72hr_EN.xml\n10004_Week24_CH.xml\n10004_Week24_EN.xml\n10004_Weekday_CH.xml\n10004_Weekday_EN.xml\n10005_72hr_CH.xml\n10005_72hr_EN.xml\n10005_Week24_CH.xml\n10005_Week24_EN.xml\n10005_Weekday_CH.xml\n10005_Weekday_EN.xml\n10007_72hr_CH.xml\n10007_72hr_EN.xml\n10007_Week24_CH.xml\n10007_Week24_EN.xml\n10007_Weekday_CH.xml\n10007_Weekday_EN.xml\n10008_72hr_CH.xml\n10008_72hr_EN.xml\n10008_Week24_CH.xml\n10008_Week24_EN.xml\n10008_Weekday_CH.xml\n10008_Weekday_EN.xml\n10009_72hr_CH.xml\n10009_72hr_EN.xml\n10009_Week24_CH.xml\n10009_Week24_EN.xml\n10009_Weekday_CH.xml\n10009_Weekday_EN.xml\n10010_72hr_CH.xml\n10010_72hr_EN.xml\n10010_Week24_CH.xml\n10010_Week24_EN.xml\n10010_Weekday_CH.xml\n10010_Weekday_EN.xml\n10013_72hr_CH.xml\n10013_72hr_EN.xml\n10013_Week24_CH.xml\n10013_Week24_EN.xml\n10013_Weekday_CH.xml\n10013_Weekday_EN.xml\n10014_72hr_CH.xml\n10014_72hr_EN.xml\n10014_Week24_CH.xml\n10014_Week24_EN.xml\n10014_Weekday_CH.xml\n10014_Weekday_EN.xml\n10015_72hr_CH.xml\n10015_72hr_EN.xml\n10015_Week24_CH.xml\n10015_Week24_EN.xml\n10015_Weekday_CH.xml\n10015_Weekday_EN.xml\n10016_72hr_CH.xml\n10016_72hr_EN.xml\n10016_Week24_CH.xml\n10016_Week24_EN.xml\n10016_Weekday_CH.xml\n10016_Weekday_EN.xml\n10017_72hr_CH.xml\n10017_72hr_EN.xml\n10017_Week24_CH.xml\n10017_Week24_EN.xml\n10017_Weekday_CH.xml\n10017_Weekday_EN.xml\n10018_72hr_CH.xml\n10018_72hr_EN.xml\n10018_Week24_CH.xml\n10018_Week24_EN.xml\n10018_Weekday_CH.xml\n10018_Weekday_EN.xml\n10020_72hr_CH.xml\n10020_72hr_EN.xml\n10020_Week24_CH.xml\n10020_Week24_EN.xml\n10020_Weekday_CH.xml\n10020_Weekday_EN.xml\n63_72hr_CH.xml\n63_72hr_EN.xml\n63_Week24_CH.xml\n63_Week24_EN.xml\n63_Weekday_CH.xml\n63_Weekday_EN.xml\n64_72hr_CH.xml\n64_72hr_EN.xml\n64_Week24_CH.xml\n64_Week24_EN.xml\n64_Weekday_CH.xml\n64_Weekday_EN.xml\n65_72hr_CH.xml\n65_72hr_EN.xml\n65_Week24_CH.xml\n65_Week24_EN.xml\n65_Weekday_CH.xml\n65_Weekday_EN.xml\n66_72hr_CH.xml\n66_72hr_EN.xml\n66_Week24_CH.xml\n66_Week24_EN.xml\n66_Weekday_CH.xml\n66_Weekday_EN.xml\n67_72hr_CH.xml\n67_72hr_EN.xml\n67_Week24_CH.xml\n67_Week24_EN.xml\n67_Weekday_CH.xml\n67_Weekday_EN.xml\n68_72hr_CH.xml\n68_72hr_EN.xml\n68_Week24_CH.xml\n68_Week24_EN.xml\n68_Weekday_CH.xml\n68_Weekday_EN.xml\nexample.csv\nHomework.txt\nsample.xml\nsample.zip\nTAIWAN_72hr_CH.xml\nTAIWAN_72hr_EN.xml\nTAIWAN_Week24_CH.xml\nTAIWAN_Week24_EN.xml\nTAIWAN_Weekday_CH.xml\nTAIWAN_Weekday_EN.xml\n"
    }
   ],
   "source": [
    "import os, sys\n",
    "\n",
    "dirs = os.listdir('./data')\n",
    "\n",
    "for file in dirs:\n",
    "    print(file)"
   ]
  },
  {
   "cell_type": "code",
   "execution_count": 6,
   "metadata": {},
   "outputs": [],
   "source": [
    "import urllib.request\n",
    "import zipfile\n",
    "res = \"http://opendata.cwb.gov.tw/govdownload?dataid=F-D0047-093&authorizationkey=rdec-key-123-45678-011121314\"\n",
    "urllib.request.urlretrieve(res,'./data/sample.zip')\n",
    "\n",
    "f = zipfile.ZipFile('./data/sample.zip')\n",
    "f.extractall('./data')\n"
   ]
  },
  {
   "cell_type": "markdown",
   "execution_count": null,
   "metadata": {},
   "outputs": [],
   "source": [
    "## 測試存取 XML 的三種套件\n"
   ]
  },
  {
   "cell_type": "code",
   "execution_count": 10,
   "metadata": {},
   "outputs": [
    {
     "name": "stdout",
     "output_type": "stream",
     "text": "爬蟲⾺拉松\n靜態網⾴爬蟲\n01 資料來源與存取\n02 靜態網⾴爬蟲\n03 動態網⾴爬蟲\n"
    }
   ],
   "source": [
    "import xml.dom.minidom\n",
    "\n",
    "# 存取檔案\n",
    "doc = xml.dom.minidom.parse('./data/sample.xml')\n",
    "\n",
    "# 取得單一節點content\n",
    "print(doc.getElementsByTagName('Title')[0].firstChild.nodeValue)\n",
    "\n",
    "chapters = doc.getElementsByTagName('Chapter')\n",
    "\n",
    "# 利用迴圈取得所有節點attribute,content\n",
    "for chapter in chapters:\n",
    "    print(chapter.getAttribute('name'),chapter.firstChild.nodeValue)"
   ]
  },
  {
   "cell_type": "code",
   "execution_count": 8,
   "metadata": {},
   "outputs": [
    {
     "name": "stdout",
     "output_type": "stream",
     "text": "爬蟲⾺拉松\n01 資料來源與存取\n02 靜態網⾴爬蟲\n03 動態網⾴爬蟲\n"
    }
   ],
   "source": [
    "import xml.etree.ElementTree as ET\n",
    "\n",
    "tree = ET.parse('./data/sample.xml')\n",
    "root = tree.getroot()\n",
    "\n",
    "print(root[0].text)\n",
    "\n",
    "chatpers = root[2]\n",
    "\n",
    "for chapter in chatpers:\n",
    "    print(chapter.attrib['name'], chapter.text)\n"
   ]
  },
  {
   "cell_type": "code",
   "execution_count": 44,
   "metadata": {},
   "outputs": [
    {
     "name": "stdout",
     "output_type": "stream",
     "text": "{'CUPOY': OrderedDict([('Title', '爬蟲⾺拉松'), ('Author', 'Wei'), ('Chapters', OrderedDict([('Chapter', [OrderedDict([('@name', '01'), ('#text', '資料來源與存取')]), OrderedDict([('@name', '02'), ('#text', '靜態網⾴爬蟲')]), OrderedDict([('@name', '03'), ('#text', '動態網⾴爬蟲')])])]))])}\n爬蟲⾺拉松\n01 資料來源與存取\n02 靜態網⾴爬蟲\n03 動態網⾴爬蟲\n"
    }
   ],
   "source": [
    "import xmltodict\n",
    "\n",
    "with open('./data/sample.xml',encoding='UTF-8') as fd:\n",
    "    doc = dict(xmltodict.parse(fd.read()))\n",
    "print(doc)\n",
    "print(doc['CUPOY']['Title'])\n",
    "\n",
    "chapters = doc['CUPOY']['Chapters']['Chapter']\n",
    "for chapter in chapters:\n",
    "    print (chapter['@name'], chapter['#text'])"
   ]
  },
  {
   "cell_type": "markdown",
   "metadata": {},
   "source": [
    "### 比較一下範例檔案中的「File I/O」與「xmltodict」讀出來的內容有什麼差異\n"
   ]
  },
  {
   "cell_type": "markdown",
   "execution_count": null,
   "metadata": {},
   "outputs": [],
   "source": [
    "## File I/O"
   ]
  },
  {
   "cell_type": "code",
   "execution_count": 2,
   "metadata": {},
   "outputs": [
    {
     "name": "stdout",
     "output_type": "stream",
     "text": "<?xml version=\"1.0\" encoding=\"UTF-8\"?>\n<CUPOY>\n<Title>爬蟲⾺拉松</Title>\n<Author>Wei</Author>\n<Chapters>\n<Chapter name=\"01\">資料來源與存取</Chapter>\n<Chapter name=\"02\">靜態網⾴爬蟲</Chapter>\n<Chapter name=\"03\">動態網⾴爬蟲</Chapter>\n</Chapters>\n</CUPOY>\n"
    }
   ],
   "source": [
    "import os \n",
    "\n",
    "fn = open('./data/sample.xml',encoding='UTF-8')\n",
    "xml = fn.read()\n",
    "print(xml)"
   ]
  },
  {
   "cell_type": "markdown",
   "execution_count": null,
   "metadata": {},
   "outputs": [],
   "source": [
    "## xmltodict"
   ]
  },
  {
   "cell_type": "code",
   "execution_count": 73,
   "metadata": {},
   "outputs": [
    {
     "name": "stdout",
     "output_type": "stream",
     "text": "{'CUPOY': OrderedDict([('Title', '爬蟲⾺拉松'), ('Author', 'Wei'), ('Chapters', OrderedDict([('Chapter', [OrderedDict([('@name', '01'), ('#text', '資料來源與存取')]), OrderedDict([('@name', '02'), ('#text', '靜態網⾴爬蟲')]), OrderedDict([('@name', '03'), ('#text', '動態網⾴爬蟲')])])]))])}\n"
    }
   ],
   "source": [
    "import xmltodict\n",
    "\n",
    "with open('./data/sample.xml',encoding='UTF-8') as fd:\n",
    "    doc = dict(xmltodict.parse(fd.read()))\n",
    "    print(doc)"
   ]
  },
  {
   "cell_type": "markdown",
   "metadata": {},
   "source": [
    "### 根據範例檔案的結果：\n",
    "\n",
    "1. 請問高雄市有多少地區有溫度資料？\n",
    "2. 請取出每一個地區所記錄的第一個時間點跟溫度\n",
    "3. 請取出第一個地區所記錄的每一個時間點跟溫度"
   ]
  },
  {
   "cell_type": "code",
   "execution_count": 75,
   "metadata": {},
   "outputs": [
    {
     "name": "stdout",
     "output_type": "stream",
     "text": "高雄市有38個地區有溫度資料\n"
    }
   ],
   "source": [
    "# 1. 請問高雄市有多少地區有溫度資料？\n",
    "import xmltodict\n",
    "\n",
    "count_number = 0\n",
    "\n",
    "with open('./data/64_72hr_CH.xml', encoding='UTF-8-sig') as fd:\n",
    "    doc = xmltodict.parse(fd.read())\n",
    "\n",
    "sect_with_tempers = doc[\"cwbopendata\"][\"dataset\"][\"locations\"][\"location\"]\n",
    "for sect_with_temper in sect_with_tempers:\n",
    "    for weatherElement in sect_with_temper['weatherElement']:\n",
    "        if weatherElement['description'] == '溫度':\n",
    "            count_number += 1\n",
    "\n",
    "print(\"高雄市有%s個地區有溫度資料\" % count_number)"
   ]
  },
  {
   "cell_type": "code",
   "execution_count": null,
   "metadata": {},
   "outputs": [],
   "source": []
  },
  {
   "cell_type": "code",
   "execution_count": 87,
   "metadata": {},
   "outputs": [
    {
     "name": "stdout",
     "output_type": "stream",
     "text": "鹽埕區 2019-11-26T12:00:00+08:00 26\n鼓山區 2019-11-26T12:00:00+08:00 26\n左營區 2019-11-26T12:00:00+08:00 26\n楠梓區 2019-11-26T12:00:00+08:00 26\n三民區 2019-11-26T12:00:00+08:00 26\n新興區 2019-11-26T12:00:00+08:00 26\n前金區 2019-11-26T12:00:00+08:00 26\n苓雅區 2019-11-26T12:00:00+08:00 26\n前鎮區 2019-11-26T12:00:00+08:00 27\n旗津區 2019-11-26T12:00:00+08:00 26\n小港區 2019-11-26T12:00:00+08:00 27\n鳳山區 2019-11-26T12:00:00+08:00 27\n林園區 2019-11-26T12:00:00+08:00 27\n大寮區 2019-11-26T12:00:00+08:00 27\n大樹區 2019-11-26T12:00:00+08:00 28\n大社區 2019-11-26T12:00:00+08:00 27\n仁武區 2019-11-26T12:00:00+08:00 26\n鳥松區 2019-11-26T12:00:00+08:00 27\n岡山區 2019-11-26T12:00:00+08:00 27\n橋頭區 2019-11-26T12:00:00+08:00 27\n燕巢區 2019-11-26T12:00:00+08:00 27\n田寮區 2019-11-26T12:00:00+08:00 27\n阿蓮區 2019-11-26T12:00:00+08:00 27\n路竹區 2019-11-26T12:00:00+08:00 27\n湖內區 2019-11-26T12:00:00+08:00 26\n茄萣區 2019-11-26T12:00:00+08:00 25\n永安區 2019-11-26T12:00:00+08:00 25\n彌陀區 2019-11-26T12:00:00+08:00 26\n梓官區 2019-11-26T12:00:00+08:00 26\n旗山區 2019-11-26T12:00:00+08:00 27\n美濃區 2019-11-26T12:00:00+08:00 28\n六龜區 2019-11-26T12:00:00+08:00 27\n甲仙區 2019-11-26T12:00:00+08:00 27\n杉林區 2019-11-26T12:00:00+08:00 30\n內門區 2019-11-26T12:00:00+08:00 28\n茂林區 2019-11-26T12:00:00+08:00 28\n桃源區 2019-11-26T12:00:00+08:00 25\n那瑪夏區 2019-11-26T12:00:00+08:00 23\n"
    }
   ],
   "source": [
    "# 2. 請取出每一個地區所記錄的第一個時間點跟溫度\n",
    "import xmltodict\n",
    "\n",
    "with open('./data/64_72hr_CH.xml',encoding='UTF-8-sig') as fd:\n",
    "    doc = dict(xmltodict.parse(fd.read()))\n",
    "\n",
    "sect_with_tempers = doc[\"cwbopendata\"][\"dataset\"][\"locations\"][\"location\"]\n",
    "for sect_with_temper in sect_with_tempers:\n",
    "    for weatherElement in sect_with_temper['weatherElement']:\n",
    "        if weatherElement['description'] == '溫度':\n",
    "            print(sect_with_temper['locationName'],weatherElement['time'][0]['dataTime'],weatherElement['time'][0]  ['elementValue']['value'])\n"
   ]
  },
  {
   "cell_type": "code",
   "execution_count": null,
   "metadata": {},
   "outputs": [],
   "source": [
    "# 3. 請取出第一個地區所記錄的每一個時間點跟溫度\n",
    "\n",
    "'''\n",
    "Your Code\n",
    "'''"
   ]
  },
  {
   "cell_type": "code",
   "execution_count": null,
   "metadata": {},
   "outputs": [],
   "source": []
  }
 ],
 "metadata": {
  "kernelspec": {
   "display_name": "Python 3",
   "language": "python",
   "name": "python3"
  },
  "language_info": {
   "codemirror_mode": {
    "name": "ipython",
    "version": 3
   },
   "file_extension": ".py",
   "mimetype": "text/x-python",
   "name": "python",
   "nbconvert_exporter": "python",
   "pygments_lexer": "ipython3",
   "version": "3.7.4"
  }
 },
 "nbformat": 4,
 "nbformat_minor": 2
}