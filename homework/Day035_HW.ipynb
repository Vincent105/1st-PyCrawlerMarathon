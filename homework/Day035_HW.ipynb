{
 "cells": [
  {
   "cell_type": "markdown",
   "metadata": {},
   "source": [
    "# 加速：多線程爬蟲\n",
    "\n",
    "\n",
    "\n",
    "* 了解知乎 API 使用方式與回傳內容\n",
    "* 撰寫程式存取 API 且添加標頭"
   ]
  },
  {
   "cell_type": "markdown",
   "metadata": {},
   "source": [
    "## 作業目標\n",
    "\n",
    "* 找一個之前實作過的爬蟲改用多線程改寫，比較前後時間的差異。\n",
    "\n",
    "\n",
    "\n"
   ]
  },
  {
   "cell_type": "code",
   "execution_count": 1,
   "metadata": {},
   "outputs": [
    {
     "name": "stdout",
     "output_type": "stream",
     "text": "標題: Re: [請益] 說玩股票會賠一屁股的是中肯還是迷思？ \n作者: Kobe5210 (旅程)\n標題: [新聞] 中國延後開工重創經濟 江蘇農民4萬隻雞快\n作者: nightwing (內觀自心)\n標題: [其他] 上市大盤加權指數2020/1/31更新(扣除版)\n作者: Kobe5210 (旅程)\n標題: (本文已被刪除) [arslanhs]\n標題: (本文已被刪除) [arslanhs]\n標題: [新聞] 日本口罩賣到缺貨 廠商嘆原料卡在大陸\n作者: nightwing (內觀自心)\n標題: [新聞] 美股暴跌！武漢肺炎疫情加劇 道瓊重挫603\n作者: charles0939 (charles0939)\n標題: (本文已被刪除) [fantasy14]\n標題: [新聞] 美國宣告 武漢肺炎構成突發公共衛生事件\n作者: kof70380 (小隆)\n標題: Re: [轉錄] 武漢病毒被插入4段HIV的基因\n作者: zzahoward (Cheshire Cat)\n標題: Re: [請益] 股市還有可能低迷嗎？\n作者: j2708180 (JaJa)\n標題: (本文已被刪除) [fantasy14]\n標題: [新聞] 台灣成功分離病毒株 有望加速藥物、疫苗\n作者: Reewalker (報告饅頭班長不夠)\n標題: [新聞]刷新歷史記錄！\n作者: awss1971 (令狐沖)\n標題: (本文已被刪除) [affect12]\n標題: [心得] 如果用各國撤僑人數推算確診\n作者: justin200428 (7788kkk)\n標題: [請益] 2610華航\n作者: pupss9316623 (wwwwwwwwwwwwwwwwwwwwwww)\n標題: [請益] 張國煒算是運氣很差嗎?\n作者: Silmeria (abc)\n標題: [新聞] 大聯大收購文曄到期 實際成交達1.77億股\n作者: JerianGrant (Jerian Grant)\n標題: Re: [標的] 2316 楠梓電 多\n作者: king02061225 ()\n標題: [公告] 精華區導覽Q&A\n作者: IanLi (IanLi)\n標題: [公告] Stock 板規V2.6             (2019/06/20)\n標題: [公告] 關於武漢肺炎新聞規範\n作者: noldorelf (屏東周渝民)\n標題: [閒聊] 2020/01/31 盤後閒聊\n作者: vendan5566 (阿文)\n標題: [花邊] Shaq幫安慰他的球迷買新筆電\n作者: pneumo (超☆冒險蓋)\n標題: (本文已被刪除) [HoterLin]\n標題: [花邊] James在賽前的悼念儀式激動落淚\n作者: ghost069 (阿鬼)\n標題: [BOX ] Nuggets 127:115 Bucks 數據\n標題: [BOX ] Thunder 111:107 Suns 數據\n標題: (本文已被刪除) <pig5566966>\n標題: [外絮] LBJ的傳球視野(上)\n作者: VIATOR (阿布拉卡達不拉)\n標題: [新聞] 史坦波中心太小　Kobe追思會可能辦在奧運\n作者: go190214 (天空之島拉普達)\n標題: [討論] 緯來到底在？？？\n作者: BestlovexD (小蛇)\n標題: [BOX ] Blazers 127:119 Lakers 數據\n標題: [花邊] 詹姆斯深情致辭：曼巴遠去，但他永生難忘\n作者: PttGod (PttGod)\n標題: [花邊] Ki談爆砍54分：科比精神，曼巴精神，不\n作者: KyrieIrving1 (King of New York)\n標題: [花邊] Vanessa再度發聲：24這數字離不開2，沒有\n作者: Wojnarowski (@wojespn)\n標題: [情報] D.Lillard近5場命中40三分 歷史首位\n作者: NSYSUheng (Pain)\n標題: [討論] 能承襲Kobe球風的NBA球員\n作者: PttGod (PttGod)\n標題: [公告] 板規v6.8\n標題: [公告] 樂透取消及未來不再開啟樂透\n作者: Vedan (味丹)\n標題: [公告] 版主上任相關事項 \n作者: qazwsx879345 (Rajon Rondo)\n標題: [情報] SEASON Schedule 賽程 January 19–20\n作者: Acetoxy (阿斯)\n標題: [公告] 難過區\n作者: Vedan (味丹)\n爬蟲擷取時間: 30.784054040908813\n"
    }
   ],
   "source": [
    "import requests\n",
    "from bs4 import BeautifulSoup\n",
    "import time\n",
    "\n",
    "startTime = time.time()\n",
    "\n",
    "urls = ['https://www.ptt.cc/bbs/Stock/index.html','https://www.ptt.cc/bbs/NBA/index.html']\n",
    "\n",
    "for url in urls:\n",
    "    r = requests.get(url)\n",
    "    \n",
    "    soup = BeautifulSoup(r.text, \"html5lib\")\n",
    "\n",
    "    for d in soup.find_all(class_=\"title\"):\n",
    "        print(\"標題:\",d.text.replace('\\t', '').replace('\\n', ''))\n",
    "        try:\n",
    "            r = BeautifulSoup(requests.get('https://www.ptt.cc'+d.find('a')['href']).text, \"html5lib\")\n",
    "            print('作者: ' + r.find(class_='article-meta-value').text)\n",
    "        except:\n",
    "            continue    \n",
    "finishTime = time.time()\n",
    "print('爬蟲擷取時間:', finishTime - startTime) # 正常情況的爬蟲所需時間  "
   ]
  },
  {
   "cell_type": "code",
   "execution_count": 1,
   "metadata": {},
   "outputs": [
    {
     "name": "stdout",
     "output_type": "stream",
     "text": "標題:標題: [花邊] Shaq幫安慰他的球迷買新筆電\n Re: [請益] 說玩股票會賠一屁股的是中肯還是迷思？ \n作者: pneumo (超☆冒險蓋)\n標題: (本文已被刪除) [HoterLin]\n標題: [花邊] James在賽前的悼念儀式激動落淚\n作者: Kobe5210 (旅程)\n標題: [新聞] 中國延後開工重創經濟 江蘇農民4萬隻雞快\n作者: ghost069 (阿鬼)\n標題: [BOX ] Nuggets 127:115 Bucks 數據\n作者: nightwing (內觀自心)\n標題: [其他] 上市大盤加權指數2020/1/31更新(扣除版)\n作者: Kobe5210 (旅程)\n標題: (本文已被刪除) [arslanhs]\n標題: (本文已被刪除) [arslanhs]\n標題: [新聞] 日本口罩賣到缺貨 廠商嘆原料卡在大陸\n標題: [BOX ] Thunder 111:107 Suns 數據\n標題:作者: nightwing (內觀自心)\n標題: [新聞] 美股暴跌！武漢肺炎疫情加劇 道瓊重挫603\n (本文已被刪除) <pig5566966>\n標題: [外絮] LBJ的傳球視野(上)\n作者: VIATOR (阿布拉卡達不拉)\n標題: [新聞] 史坦波中心太小　Kobe追思會可能辦在奧運\n作者: charles0939 (charles0939)\n標題: (本文已被刪除) [fantasy14]\n標題: [新聞] 美國宣告 武漢肺炎構成突發公共衛生事件\n作者: go190214 (天空之島拉普達)\n標題: [討論] 緯來到底在？？？\n作者: kof70380 (小隆)\n標題: Re: [轉錄] 武漢病毒被插入4段HIV的基因\n作者: BestlovexD (小蛇)\n標題: [BOX ] Blazers 127:119 Lakers 數據\n作者: zzahoward (Cheshire Cat)\n標題: Re: [請益] 股市還有可能低迷嗎？\n標題: [花邊] 詹姆斯深情致辭：曼巴遠去，但他永生難忘\n作者: j2708180 (JaJa)\n標題: (本文已被刪除) [fantasy14]\n標題: [新聞] 台灣成功分離病毒株 有望加速藥物、疫苗\n作者: PttGod (PttGod)\n標題: [花邊] Ki談爆砍54分：科比精神，曼巴精神，不\n作者: Reewalker (報告饅頭班長不夠)\n標題: [新聞]刷新歷史記錄！\n作者: KyrieIrving1 (King of New York)\n標題: [花邊] Vanessa再度發聲：24這數字離不開2，沒有\n作者: awss1971 (令狐沖)\n標題: (本文已被刪除) [affect12]\n標題: [心得] 如果用各國撤僑人數推算確診\n作者: Wojnarowski (@wojespn)\n標題: [情報] D.Lillard近5場命中40三分 歷史首位\n作者: justin200428 (7788kkk)\n標題: [請益] 2610華航\n作者: NSYSUheng (Pain)\n標題: [討論] 能承襲Kobe球風的NBA球員\n作者: pupss9316623 (wwwwwwwwwwwwwwwwwwwwwww)\n標題: [請益] 張國煒算是運氣很差嗎?\n作者: PttGod (PttGod)\n標題: [新聞] 柯比墜機案 直升機運輸業者宣布暫停營運\n作者: Silmeria (abc)\n標題: [新聞] 大聯大收購文曄到期 實際成交達1.77億股\n作者: Intelnet ()\n標題: [花邊] Russell Westbrook IG\n作者: JerianGrant (Jerian Grant)\n標題: Re: [標的] 2316 楠梓電 多\n作者: a40302010a (Gakki我老婆)\n標題: [公告] 板規v6.8\n作者: king02061225 ()\n標題: [公告] 精華區導覽Q&A\n標題: [公告] 樂透取消及未來不再開啟樂透\n作者: IanLi (IanLi)\n標題: [公告] Stock 板規V2.6             (2019/06/20)\n標題: [公告] 關於武漢肺炎新聞規範\n作者: Vedan (味丹)\n標題: [公告] 版主上任相關事項 \n作者: noldorelf (屏東周渝民)\n標題: [閒聊] 2020/01/31 盤後閒聊\n作者: qazwsx879345 (Rajon Rondo)\n標題: [情報] SEASON Schedule 賽程 January 19–20\n作者: Acetoxy (阿斯)\n標題: [公告] 難過區\n作者: vendan5566 (阿文)\nThread_1 stopped\n作者: Vedan (味丹)\nThread_2 stopped\n"
    }
   ],
   "source": [
    "import threading\n",
    "import time\n",
    "import requests\n",
    "from bs4 import BeautifulSoup\n",
    "\n",
    "startTime = time.time()\n",
    "\n",
    "def run_1(url):\n",
    "    r = requests.get(url)\n",
    "\n",
    "    soup = BeautifulSoup(r.text, \"html5lib\")\n",
    "\n",
    "    for d in soup.find_all(class_=\"title\"):\n",
    "        print(\"標題:\", d.text.replace('\\t', '').replace('\\n', ''))\n",
    "        try:\n",
    "            r = BeautifulSoup(requests.get('https://www.ptt.cc'+d.find('a')['href']).text, \"html5lib\")\n",
    "            print('作者: ' + r.find(class_='article-meta-value').text)\n",
    "        except:\n",
    "            continue           \n",
    "    print('Thread_1 stopped')\n",
    "\n",
    "\n",
    "def run_2(url):\n",
    "    r = requests.get(url)\n",
    "\n",
    "    soup = BeautifulSoup(r.text, \"html5lib\")\n",
    "\n",
    "    for d in soup.find_all(class_=\"title\"):\n",
    "        print(\"標題:\", d.text.replace('\\t', '').replace('\\n', ''))\n",
    "        try:\n",
    "            r = BeautifulSoup(requests.get('https://www.ptt.cc'+d.find('a')['href']).text, \"html5lib\")\n",
    "            print('作者: ' + r.find(class_='article-meta-value').text)\n",
    "        except:\n",
    "            continue   \n",
    "    print('Thread_2 stopped')\n",
    "\n",
    "\n",
    "def main():\n",
    "    t1 = threading.Thread(target=run_1, args=(\n",
    "        'https://www.ptt.cc/bbs/Stock/index.html',))\n",
    "    t2 = threading.Thread(target=run_2, args=(\n",
    "        'https://www.ptt.cc/bbs/NBA/index.html',))\n",
    "    t1.start()        \n",
    "    t2.start()\n",
    "    t1.join()\n",
    "    t2.join()\n",
    "\n",
    "    while True:\n",
    "        length = len(threading.enumerate())\n",
    "        if length <= 1:\n",
    "            break\n",
    "            \n",
    "    finishTime = time.time()\n",
    "    print('任務結束爬蟲擷取時間:', finishTime - startTime)  # 正常情況的爬蟲所需時間\n",
    "\n",
    "if __name__ == '__main__':\n",
    "    main()"
   ]
  },
  {
   "cell_type": "markdown",
   "execution_count": null,
   "metadata": {},
   "outputs": [],
   "source": [
    "在.py測試時間可減少一半，ipynb無法顯示threading.enumerate()偵測數據'"
   ]
  }
 ],
 "metadata": {
  "colab": {
   "name": "homework.ipynb",
   "provenance": []
  },
  "kernelspec": {
   "display_name": "Python 3",
   "language": "python",
   "name": "python3"
  },
  "language_info": {
   "codemirror_mode": {
    "name": "ipython",
    "version": 3
   },
   "file_extension": ".py",
   "mimetype": "text/x-python",
   "name": "python",
   "nbconvert_exporter": "python",
   "pygments_lexer": "ipython3",
   "version": "3.7.5-final"
  }
 },
 "nbformat": 4,
 "nbformat_minor": 1
}