{
 "nbformat": 4,
 "nbformat_minor": 2,
 "metadata": {
  "language_info": {
   "name": "python",
   "codemirror_mode": {
    "name": "ipython",
    "version": 3
   },
   "version": "3.7.5"
  },
  "orig_nbformat": 2,
  "file_extension": ".py",
  "mimetype": "text/x-python",
  "name": "python",
  "npconvert_exporter": "python",
  "pygments_lexer": "ipython3",
  "version": 3
 },
 "cells": [
  {
   "cell_type": "markdown",
   "execution_count": null,
   "metadata": {},
   "outputs": [],
   "source": [
    "#### 發送請求\n",
    "    1.urlopen()"
   ]
  },
  {
   "cell_type": "code",
   "execution_count": 25,
   "metadata": {},
   "outputs": [
    {
     "name": "stdout",
     "output_type": "stream",
     "text": "<class 'http.client.HTTPResponse'>\n200\n[('Server', 'nginx'), ('Content-Type', 'text/html; charset=utf-8'), ('X-Frame-Options', 'DENY'), ('Via', '1.1 vegur'), ('Via', '1.1 varnish'), ('Content-Length', '48749'), ('Accept-Ranges', 'bytes'), ('Date', 'Sun, 29 Dec 2019 06:37:46 GMT'), ('Via', '1.1 varnish'), ('Age', '1706'), ('Connection', 'close'), ('X-Served-By', 'cache-iad2129-IAD, cache-hnd18727-HND'), ('X-Cache', 'HIT, HIT'), ('X-Cache-Hits', '1, 2701'), ('X-Timer', 'S1577601467.927641,VS0,VE0'), ('Vary', 'Cookie'), ('Strict-Transport-Security', 'max-age=63072000; includeSubDomains')]\nnginx\n"
    }
   ],
   "source": [
    "import urllib.request\n",
    "\n",
    "url = 'http://www.python.org'\n",
    "response = urllib.request.urlopen(url)\n",
    "# response.read().decode('utf-8')       #調用method取得返回的網頁內容\n",
    "print(type(response))\n",
    "print(response.status)                  #調用屬性取得返回的網頁狀態\n",
    "print(response.getheaders())            #調用方法取得所有的網頁表頭\n",
    "print(response.getheader('server'))"
   ]
  },
  {
   "cell_type": "markdown",
   "execution_count": null,
   "metadata": {},
   "outputs": [],
   "source": [
    "* urlopen() \n",
    "    * data參數"
   ]
  },
  {
   "cell_type": "code",
   "execution_count": 31,
   "metadata": {},
   "outputs": [
    {
     "name": "stdout",
     "output_type": "stream",
     "text": "b'{\\n  \"args\": {}, \\n  \"data\": \"\", \\n  \"files\": {}, \\n  \"form\": {\\n    \"word\": \"hello\"\\n  }, \\n  \"headers\": {\\n    \"Accept-Encoding\": \"identity\", \\n    \"Content-Length\": \"10\", \\n    \"Content-Type\": \"application/x-www-form-urlencoded\", \\n    \"Host\": \"httpbin.org\", \\n    \"User-Agent\": \"Python-urllib/3.7\"\\n  }, \\n  \"json\": null, \\n  \"origin\": \"118.169.245.112, 118.169.245.112\", \\n  \"url\": \"https://httpbin.org/post\"\\n}\\n'\n"
    }
   ],
   "source": [
    "import urllib.parse\n",
    "import urllib.request\n",
    "\"\"\"模擬POST\"\"\"\n",
    "url = 'http://httpbin.org/post'\n",
    "\n",
    "# urllib.request.urlopen(url, data=None, [timeout, ]*, cafile=None, capath=None, cadefault=False, context=None)\n",
    "data = bytes(urllib.parse.urlencode({'word': 'hello'}), encoding='utf-8')\n",
    "response = urllib.request.urlopen(url, data=data)\n",
    "print(response.read())"
   ]
  },
  {
   "cell_type": "markdown",
   "execution_count": null,
   "metadata": {},
   "outputs": [],
   "source": [
    "* urlopen() \n",
    "    * data參數\n",
    "    * timeout參數"
   ]
  },
  {
   "cell_type": "code",
   "execution_count": 39,
   "metadata": {},
   "outputs": [
    {
     "name": "stdout",
     "output_type": "stream",
     "text": "timed out\n"
    }
   ],
   "source": [
    "import socket\n",
    "import urllib.request\n",
    "import urllib.error\n",
    "\n",
    "url = 'http://httpbin.org/post'\n",
    "try:\n",
    "    response = urllib.request.urlopen(url, timeout=0.1)\n",
    "except urllib.error.URLError as e:\n",
    "    if isinstance(e.reason, socket.timeout):\n",
    "        print(e.reason)"
   ]
  },
  {
   "cell_type": "code",
   "execution_count": null,
   "metadata": {},
   "outputs": [],
   "source": []
  }
 ]
}