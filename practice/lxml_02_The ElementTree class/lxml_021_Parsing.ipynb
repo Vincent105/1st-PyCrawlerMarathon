{
 "nbformat": 4,
 "nbformat_minor": 2,
 "metadata": {
  "language_info": {
   "name": "python",
   "codemirror_mode": {
    "name": "ipython",
    "version": 3
   },
   "version": "3.7.5-final"
  },
  "orig_nbformat": 2,
  "file_extension": ".py",
  "mimetype": "text/x-python",
  "name": "python",
  "npconvert_exporter": "python",
  "pygments_lexer": "ipython3",
  "version": 3,
  "kernelspec": {
   "name": "python3",
   "display_name": "Python 3"
  }
 },
 "cells": [
  {
   "cell_type": "code",
   "execution_count": 2,
   "metadata": {},
   "outputs": [
    {
     "name": "stdout",
     "output_type": "stream",
     "text": "1.0\n<!DOCTYPE root SYSTEM \"test\">\n"
    }
   ],
   "source": [
    "from lxml import etree\n",
    "root = etree.XML('''\\\n",
    "<?xml version=\"1.0\"?>\n",
    "<!DOCTYPE root SYSTEM \"test\" [ <!ENTITY tasty \"parsnips\"> ]>\n",
    "<root>\n",
    "    <a>&tasty;</a>\n",
    "</root>\n",
    "''')\n",
    "\n",
    "tree = etree.ElementTree(root)\n",
    "print(tree.docinfo.xml_version)\n",
    "print(tree.docinfo.doctype)"
   ]
  },
  {
   "cell_type": "code",
   "execution_count": 4,
   "metadata": {},
   "outputs": [
    {
     "name": "stdout",
     "output_type": "stream",
     "text": "<!DOCTYPE root PUBLIC \"-//W3C//DTD XHTML 1.0 Transitional//EN\" \"file://local.dtd\">\n"
    }
   ],
   "source": [
    "tree.docinfo.public_id = '-//W3C//DTD XHTML 1.0 Transitional//EN'\n",
    "tree.docinfo.system_url = 'file://local.dtd'\n",
    "print(tree.docinfo.doctype)"
   ]
  },
  {
   "cell_type": "code",
   "execution_count": 6,
   "metadata": {},
   "outputs": [
    {
     "name": "stdout",
     "output_type": "stream",
     "text": "b'<!DOCTYPE root PUBLIC \"-//W3C//DTD XHTML 1.0 Transitional//EN\" \"file://local.dtd\" [\\n<!ENTITY tasty \"parsnips\">\\n]>\\n<root>\\n    <a>parsnips</a>\\n</root>'\nb'<root>\\n    <a>parsnips</a>\\n</root>'\n"
    }
   ],
   "source": [
    "print(etree.tostring(tree))\n",
    "print(etree.tostring(tree.getroot()))"
   ]
  },
  {
   "cell_type": "markdown",
   "execution_count": null,
   "metadata": {},
   "outputs": [],
   "source": [
    "# Parsing from strings and files"
   ]
  },
  {
   "cell_type": "markdown",
   "execution_count": null,
   "metadata": {},
   "outputs": [],
   "source": [
    "### The fromstring() function"
   ]
  },
  {
   "cell_type": "code",
   "execution_count": 8,
   "metadata": {},
   "outputs": [
    {
     "name": "stdout",
     "output_type": "stream",
     "text": "root\n"
    },
    {
     "data": {
      "text/plain": "b'<root>data</root>'"
     },
     "execution_count": 8,
     "metadata": {},
     "output_type": "execute_result"
    }
   ],
   "source": [
    "some_xml_data = \"<root>data</root>\"\n",
    "root = etree.fromstring(some_xml_data)\n",
    "print(root.tag)\n",
    "etree.tostring(root)"
   ]
  },
  {
   "cell_type": "code",
   "execution_count": null,
   "metadata": {},
   "outputs": [],
   "source": []
  }
 ]
}