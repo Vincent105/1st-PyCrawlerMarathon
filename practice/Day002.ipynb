{
 "nbformat": 4,
 "nbformat_minor": 2,
 "metadata": {
  "language_info": {
   "name": "python",
   "codemirror_mode": {
    "name": "ipython",
    "version": 3
   },
   "version": "3.7.4"
  },
  "orig_nbformat": 2,
  "file_extension": ".py",
  "mimetype": "text/x-python",
  "name": "python",
  "npconvert_exporter": "python",
  "pygments_lexer": "ipython3",
  "version": 3
 },
 "cells": [
  {
   "cell_type": "code",
   "execution_count": 48,
   "metadata": {},
   "outputs": [
    {
     "name": "stdout",
     "output_type": "stream",
     "text": "Spam,Spam,Spam,Spam,Spam,Baked Beans\nSpam,Lovely Sapm,wonderful Spam,,,,,||||||||\n讀取成功\n"
    }
   ],
   "source": [
    "import os \n",
    "import csv\n",
    "\n",
    "file_path = './data'\n",
    "filename = 'eggs.csv'\n",
    "\n",
    "with open(os.path.join(file_path,filename),encoding='UTF-8',newline='') as csvfile:\n",
    "    spamreader = csv.reader(csvfile,delimiter=' ',quotechar='|')\n",
    "    try:\n",
    "        for row in spamreader:\n",
    "            print(','.join(row))\n",
    "    except csv.Error as e:\n",
    "         sys.exit('file {}, line {}: {}'.format(filename,spamreader.line_num, e))            \n",
    "print('讀取成功')        "
   ]
  },
  {
   "cell_type": "code",
   "execution_count": 35,
   "metadata": {},
   "outputs": [
    {
     "name": "stdout",
     "output_type": "stream",
     "text": "寫入成功\n"
    }
   ],
   "source": [
    "with open(os.path.join(file_path,filename),'w',newline='') as csvfile:\n",
    "    spamwriter = csv.writer(csvfile,delimiter=',',quotechar='|',quoting=csv.QUOTE_MINIMAL)\n",
    "    spamwriter.writerow(['Spam']*5 + ['Baked Beans'])\n",
    "    spamwriter.writerow(['Spam','Lovely Sapm','wonderful Spam'])\n",
    "print('寫入成功')"
   ]
  },
  {
   "cell_type": "code",
   "execution_count": 39,
   "metadata": {},
   "outputs": [
    {
     "name": "stdout",
     "output_type": "stream",
     "text": "Rachel Booker\nLaura Grey\nCraig Johnson\nMary Jenkins\nJamie Smith\n讀取成功\n"
    }
   ],
   "source": [
    "import os \n",
    "import csv\n",
    "\n",
    "file_path = './data'\n",
    "filename = 'name.csv'\n",
    "\n",
    "with open(os.path.join(file_path,filename),encoding='UTF-8',newline='') as csvfile:\n",
    "    spamreader = csv.DictReader(csvfile)\n",
    "    for row in spamreader:\n",
    "        print(row['First_name'],row['Last_name'])\n",
    "print('讀取成功')      "
   ]
  },
  {
   "cell_type": "code",
   "execution_count": 40,
   "metadata": {},
   "outputs": [
    {
     "name": "stdout",
     "output_type": "stream",
     "text": "複寫成功\n"
    }
   ],
   "source": [
    "with open(os.path.join(file_path,filename),'w',encoding='UTF-8',newline='') as csvfile:\n",
    "    fieldnames = ['First_name', 'Last_name']\n",
    "    writer = csv.DictWriter(csvfile, fieldnames=fieldnames)\n",
    "\n",
    "    writer.writeheader()\n",
    "    writer.writerow({'First_name': 'Baked', 'Last_name': 'Beans'})\n",
    "    writer.writerow({'First_name': 'Lovely', 'Last_name': 'Spam'})\n",
    "    writer.writerow({'First_name': 'Wonderful', 'Last_name': 'Spam'})\n",
    "print('複寫成功')"
   ]
  },
  {
   "cell_type": "code",
   "execution_count": 41,
   "metadata": {},
   "outputs": [
    {
     "name": "stdout",
     "output_type": "stream",
     "text": "['First_name', 'Last_name']\n['Baked', 'Beans']\n['Lovely', 'Spam']\n['Wonderful', 'Spam']\n"
    }
   ],
   "source": [
    "with open(os.path.join(file_path,filename),encoding='UTF-8',newline='') as csvfile:\n",
    "    dialect = csv.Sniffer().sniff(csvfile.read(1024))\n",
    "    csvfile.seek(0)\n",
    "    reader = csv.reader(csvfile, dialect)\n",
    "    for i in reader:\n",
    "        print(i)"
   ]
  },
  {
   "cell_type": "code",
   "execution_count": null,
   "metadata": {},
   "outputs": [],
   "source": []
  }
 ]
}