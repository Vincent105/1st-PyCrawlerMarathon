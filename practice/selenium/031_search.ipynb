{
 "nbformat": 4,
 "nbformat_minor": 2,
 "metadata": {
  "language_info": {
   "name": "python",
   "codemirror_mode": {
    "name": "ipython",
    "version": 3
   },
   "version": "3.7.5"
  },
  "orig_nbformat": 2,
  "file_extension": ".py",
  "mimetype": "text/x-python",
  "name": "python",
  "npconvert_exporter": "python",
  "pygments_lexer": "ipython3",
  "version": 3
 },
 "cells": [
  {
   "cell_type": "code",
   "execution_count": 7,
   "metadata": {},
   "outputs": [],
   "source": [
    "from selenium import webdriver\n",
    "from selenium.webdriver.common.keys import Keys\n",
    "\n",
    "browser = webdriver.Chrome(executable_path='chromedriver\\chromedriver.exe')\n",
    "\n",
    "url = 'https://tw.yahoo.com/'\n",
    "browser.get(url)\n",
    "\n",
    "# 查詢元素\n",
    "# element = driver.find_element_by_id(\"UHSearchBox\")\n",
    "# element = driver.find_element_by_name(\"p\"\")\n",
    "element = browser.find_element_by_xpath('//*[@id=\"UHSearchBox\"]')\n",
    "# print(element)\n",
    "\n",
    "#輸入框輸入文字\n",
    "element.clear()\n",
    "element.send_keys(\"日本\")\n",
    "element.send_keys(Keys.SPACE)\n",
    "element.send_keys(\"旅遊\")\n",
    "element.send_keys(Keys.ENTER)\n",
    "# submit = browser.find_element_by_id(\"UHSearchWeb\").click()"
   ]
  },
  {
   "cell_type": "code",
   "execution_count": null,
   "metadata": {},
   "outputs": [],
   "source": []
  }
 ]
}