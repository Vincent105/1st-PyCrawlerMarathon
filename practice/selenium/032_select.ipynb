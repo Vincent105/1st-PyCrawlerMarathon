{
 "nbformat": 4,
 "nbformat_minor": 2,
 "metadata": {
  "language_info": {
   "name": "python",
   "codemirror_mode": {
    "name": "ipython",
    "version": 3
   },
   "version": "3.7.5"
  },
  "orig_nbformat": 2,
  "file_extension": ".py",
  "mimetype": "text/x-python",
  "name": "python",
  "npconvert_exporter": "python",
  "pygments_lexer": "ipython3",
  "version": 3
 },
 "cells": [
  {
   "cell_type": "code",
   "execution_count": 8,
   "metadata": {},
   "outputs": [
    {
     "name": "stdout",
     "output_type": "stream",
     "text": "Value is: 2016\nValue is: 2015\nValue is: 2014\nValue is: 2013\nValue is: 2012\nValue is: 2011\nValue is: 2010\nValue is: 2009\nValue is: 2008\nValue is: 2007\nValue is: 2006\nValue is: 2005\nValue is: 2004\nValue is: 2003\nValue is: 2002\nValue is: 2001\nValue is: 2000\nValue is: 1999\nValue is: 1998\nValue is: 1997\nValue is: 1996\nValue is: 1995\nValue is: 1994\nValue is: 1993\n"
    }
   ],
   "source": [
    "from selenium import webdriver\n",
    "from selenium.webdriver.common.keys import Keys\n",
    "from selenium.webdriver.support.ui import Select \n",
    "from bs4 import BeautifulSoup\n",
    "\n",
    "browser = webdriver.Chrome(executable_path='chromedriver\\chromedriver.exe')\n",
    "url = 'https://taqm.epa.gov.tw/taqm/tw/PSIOver100MonthlyReport.aspx'\n",
    "browser.get(url)\n",
    "\n",
    "element = browser.find_element_by_name(\"ctl05$ddlYear\")\n",
    "all_options = element.find_elements_by_tag_name(\"option\")\n",
    "for option in all_options:\n",
    "    print(\"Value is: %s\"% option.get_attribute(\"value\"))\n",
    "    option.click()\n",
    "# element = browser.find_element_by_name(\"ctl05$ddlMonth\")"
   ]
  },
  {
   "cell_type": "code",
   "execution_count": null,
   "metadata": {},
   "outputs": [],
   "source": []
  }
 ]
}